{
  "nbformat": 4,
  "nbformat_minor": 0,
  "metadata": {
    "colab": {
      "name": "operaciones.ipynb",
      "provenance": [],
      "authorship_tag": "ABX9TyPU3qtmgPjF47rGuF5gR4o6",
      "include_colab_link": true
    },
    "kernelspec": {
      "name": "python3",
      "display_name": "Python 3"
    },
    "language_info": {
      "name": "python"
    }
  },
  "cells": [
    {
      "cell_type": "markdown",
      "metadata": {
        "id": "view-in-github",
        "colab_type": "text"
      },
      "source": [
        "<a href=\"https://colab.research.google.com/github/financieras/AdventOfCode2021/blob/master/operaciones.ipynb\" target=\"_parent\"><img src=\"https://colab.research.google.com/assets/colab-badge.svg\" alt=\"Open In Colab\"/></a>"
      ]
    },
    {
      "cell_type": "markdown",
      "source": [
        "# **Tema 1. Conjuntos y funciones**"
      ],
      "metadata": {
        "id": "Qc1nuJWrmHPc"
      }
    },
    {
      "cell_type": "markdown",
      "source": [
        "# **Operaciones entre conjuntos**"
      ],
      "metadata": {
        "id": "eFsGkWMMpfy6"
      }
    },
    {
      "cell_type": "markdown",
      "source": [
        "### Definición de unión\n",
        "La [unión](https://es.wikipedia.org/wiki/Uni%C3%B3n_de_conjuntos) de dos conjuntos $A$ y $B$ es el conjunto cuyos elementos están en $A$, en $B$, o en ambos, esto es:\n",
        "$$A \\cup B = \\{ x: \\, x \\in A \\, \\textrm{ o } \\, x \\in B \\}$$\n",
        "\n",
        "<img src=\"https://github.com/financieras/math/blob/main/img/union.png?raw=1\" alt=\"unión\">"
      ],
      "metadata": {
        "id": "zdn49Almpqtp"
      }
    },
    {
      "cell_type": "markdown",
      "source": [
        "### Ejemplo de unión de conjuntos\n",
        "* $𝐴 = \\{ \\textrm{rojo}, \\textrm{naranja}, \\textrm{amarillo}, \\textrm{verde}, \\textrm{azul}, \\textrm{añil},\\textrm{violeta} \\}$\n",
        "* $𝐵 = \\{ \\textrm{negro}, \\textrm{amarillo}, \\textrm{azul}, \\textrm{rojo}, \\textrm{marrón} \\}$\n",
        "* $𝐴 \\cup 𝐵 = \\{ \\textrm{rojo}, \\textrm{naranja}, \\textrm{amarillo}, \\textrm{verde}, \\textrm{azul}, \\textrm{añil}, \\textrm{violeta}, \\textrm{negro}, \\textrm{marrón} \\}$"
      ],
      "metadata": {
        "id": "Lr-gLt4Wuol5"
      }
    },
    {
      "cell_type": "markdown",
      "source": [
        "##### **Código**\n",
        "* Genere un conjunto (a) de 8 números aleatorios sin repetición entre 1 y 20\n",
        "* Genere un conjunto (b) de 8 números aleatorios sin repetición  entre 1 y 20\n",
        "* Genere un conjunto (c) con la unión de ambos conjuntos\n",
        "* Note que en c no debería haber elementos repetidos"
      ],
      "metadata": {
        "id": "lofawfRKanHj"
      }
    },
    {
      "cell_type": "markdown",
      "source": [
        "###### Método 1\n",
        "Usando listas."
      ],
      "metadata": {
        "id": "0KbAogl8brF2"
      }
    },
    {
      "cell_type": "code",
      "source": [
        "import random                                    # importamos la librería random\n",
        "a = random.sample(range(1,21), 8)                # sample toma una muestra de 8 elementos sin repetición de la lista o rango dado\n",
        "b = random.sample(range(1,21), 8)\n",
        "print(\"a:\", sorted(a))\n",
        "print(\"b:\", sorted(b))\n",
        "c = a + b                                        # concatenamos ambas listas\n",
        "c = list(set(c))\n",
        "c.sort()\n",
        "print(\"c:\", c)"
      ],
      "metadata": {
        "id": "XNDlo0_jsPZJ",
        "outputId": "02b1946c-a402-43f8-8a8d-6a0bc54a5fc2",
        "colab": {
          "base_uri": "https://localhost:8080/"
        }
      },
      "execution_count": null,
      "outputs": [
        {
          "output_type": "stream",
          "name": "stdout",
          "text": [
            "a: [3, 7, 9, 12, 13, 14, 16, 20]\n",
            "b: [3, 4, 7, 8, 11, 12, 17, 18]\n",
            "c: [3, 4, 7, 8, 9, 11, 12, 13, 14, 16, 17, 18, 20]\n"
          ]
        }
      ]
    },
    {
      "cell_type": "markdown",
      "source": [
        "###### Método 2\n",
        "Usando conjuntos `set`."
      ],
      "metadata": {
        "id": "Nk9gLjoubyiM"
      }
    },
    {
      "cell_type": "code",
      "source": [
        "from random import randint, seed\n",
        "seed()\n",
        "\n",
        "def set_aleatorio(x, y, n):   # inicio (x), final(y), elementos(n)\n",
        "    '''Genera un conjunto (set) aleatorio\n",
        "     de n números, sin repetición, entre x e y.'''\n",
        "    a = set()   # si ponemos a={} crea un diccionario\n",
        "    for i in range(n):\n",
        "        while True:\n",
        "            rnd = randint(x,y)\n",
        "            if rnd not in a:\n",
        "                a.add(rnd)\n",
        "                break\n",
        "    return a\n",
        "\n",
        "a = set_aleatorio(1, 20, 8)   # invocamos la función para obtener el conjunto a\n",
        "print(\"a:\", a)                # los elementos de un conjunto se imprimen ordenados\n",
        "b = set_aleatorio(1, 20, 8)   # invocamos la función para obtener el conjunto b\n",
        "print(\"b:\", b)\n",
        "c = a.union(b)                # realizamos la unión entre ambos conjuntos\n",
        "print(\"c:\", c)"
      ],
      "metadata": {
        "id": "WQ78SfgIb5bB",
        "outputId": "9541c3eb-496b-4373-ee39-2d0d0c53b9cd",
        "colab": {
          "base_uri": "https://localhost:8080/"
        }
      },
      "execution_count": null,
      "outputs": [
        {
          "output_type": "stream",
          "name": "stdout",
          "text": [
            "a: {2, 4, 6, 9, 11, 12, 15, 16}\n",
            "b: {5, 6, 7, 10, 12, 13, 15, 20}\n",
            "c: {2, 4, 5, 6, 7, 9, 10, 11, 12, 13, 15, 16, 20}\n"
          ]
        }
      ]
    },
    {
      "cell_type": "markdown",
      "source": [
        "### Definición de intersección\n",
        "La [intersección](https://es.wikipedia.org/wiki/Intersecci%C3%B3n_de_conjuntos) de dos conjuntos $A$ y $B$ es el conjunto cuyos elementos están tanto en A como en B, esto es:\n",
        "$$A \\cap B = \\{ x: \\, x \\in A \\, \\textrm{ y } \\, x \\in B \\}$$\n",
        "\n",
        "\n",
        "\n",
        "<img src=\"https://github.com/financieras/math/blob/main/img/interseccion.png?raw=1\" alt=\"intersección\">"
      ],
      "metadata": {
        "id": "c-pBiO2XxJzZ"
      }
    },
    {
      "cell_type": "markdown",
      "source": [
        "### Ejemplo de intersección de conjuntos\n",
        "* $𝐴 = \\{ \\textrm{rojo}, \\textrm{naranja}, \\textrm{amarillo}, \\textrm{verde}, \\textrm{azul}, \\textrm{añil},\\textrm{violeta} \\}$\n",
        "* $𝐵 = \\{ \\textrm{negro}, \\textrm{amarillo}, \\textrm{azul}, \\textrm{rojo}, \\textrm{marrón} \\}$\n",
        "* $𝐴 \\cap 𝐵 = \\{ \\textrm{rojo}, \\textrm{amarillo}, \\textrm{azul} \\}$"
      ],
      "metadata": {
        "id": "WSE2bbw2KKbZ"
      }
    },
    {
      "cell_type": "markdown",
      "source": [
        "### Ejemplo de intersección de pares y primos\n",
        "* $A = \\{2, 3, 5, 7, 11, 13, 17, 19 \\}$\n",
        "* $B = \\{2, 4, 6, 8, 10, 12, 14, 16, 18, 20 \\}$\n",
        "* $A \\cap B = \\{ 2\\}$\n",
        "* El conjunto $A$ son los primos de 2 a 20\n",
        "* El conjunto $B$ son los pares de 2 a 20\n",
        "* Al hacer la intersección el único elemento común vemos que es el 2."
      ],
      "metadata": {
        "id": "PiP3VsUTkoFw"
      }
    },
    {
      "cell_type": "markdown",
      "source": [
        "##### **Código**\n",
        "* Cree una función que proporcione una lista con los números primos hasta n\n",
        "* Genere los primos hasta 20\n",
        "* Cree una función que de los pares desde 2 hasta n\n",
        "* Genere los pares desde 2 hasta 20, ambos incluidos\n",
        "* Convierta las listas en conjuntos (`set`) e imprimalos\n",
        "* Cree e imprima el conjunto intersección"
      ],
      "metadata": {
        "id": "cXEMZEMimwob"
      }
    },
    {
      "cell_type": "code",
      "source": [
        "import math\n",
        "\n",
        "def primo(x):\n",
        "    '''Determina si x es primo\n",
        "    retornando True o False'''\n",
        "    for i in range(2, int(math.sqrt(x))+1):\n",
        "        if x%i == 0: return False\n",
        "    return True\n",
        "\n",
        "def primos_hasta(n):\n",
        "    '''Devuelve la lista de números primos\n",
        "    hasta un cierto valor n incluido'''\n",
        "    primos = [2]   # inicializamos la lista de primos con el 2\n",
        "    for j in range(3, n+1, 2):   # solo los impares\n",
        "        if primo(j):\n",
        "            primos.append(j)\n",
        "    return primos\n",
        "\n",
        "def pares_hasta(n):\n",
        "    '''Crea una lista con los números pares\n",
        "    desde 2 hasta n, inluido'''\n",
        "    pares = []\n",
        "    for i in range(2, n+1, 2):\n",
        "        pares.append(i)\n",
        "    return pares\n",
        "\n",
        "n = 20\n",
        "lista_primos = primos_hasta(n)\n",
        "print(\"lista primos:\", lista_primos)\n",
        "lista_pares = pares_hasta(n)\n",
        "print(\"lista  pares:\", lista_pares)\n",
        "print()\n",
        "\n",
        "conjunto_primos = set(lista_primos)\n",
        "print(\"  set primos:\", conjunto_primos)\n",
        "conjunto_pares = set(lista_pares)\n",
        "print(\"  set  pares:\", conjunto_pares, \"\\n\")\n",
        "\n",
        "conjunto_interseccion = conjunto_pares.intersection(conjunto_primos)\n",
        "print(\"intersección:\", conjunto_interseccion)"
      ],
      "metadata": {
        "id": "gMPSntZ0mlNC",
        "outputId": "69f6ef66-6ac7-4aea-a844-ef0bd649a66c",
        "colab": {
          "base_uri": "https://localhost:8080/"
        }
      },
      "execution_count": null,
      "outputs": [
        {
          "output_type": "stream",
          "name": "stdout",
          "text": [
            "lista primos: [2, 3, 5, 7, 11, 13, 17, 19]\n",
            "lista  pares: [2, 4, 6, 8, 10, 12, 14, 16, 18, 20]\n",
            "\n",
            "  set primos: {2, 3, 5, 7, 11, 13, 17, 19}\n",
            "  set  pares: {2, 4, 6, 8, 10, 12, 14, 16, 18, 20} \n",
            "\n",
            "intersección: {2}\n"
          ]
        }
      ]
    },
    {
      "cell_type": "markdown",
      "source": [
        "### Definición de diferencia de conjuntos\n",
        "La [diferencia](https://es.wikipedia.org/wiki/Diferencia_de_conjuntos) de dos conjuntos $A$ y $B$ es el conjunto cuyos elementos están en $A$ pero no en \"B\", esto es:\n",
        "$$A - B = \\{ x: \\, x \\in A \\, \\textrm{ y } \\, x \\notin B \\}$$"
      ],
      "metadata": {
        "id": "BWXm-pFhLH45"
      }
    },
    {
      "cell_type": "markdown",
      "source": [
        "### Ejemplo de diferencia de conjuntos\n",
        "* $𝐴 = \\{ \\textrm{rojo}, \\textrm{naranja}, \\textrm{amarillo}, \\textrm{verde}, \\textrm{azul}, \\textrm{añil},\\textrm{violeta} \\}$\n",
        "* $𝐵 = \\{ \\textrm{negro}, \\textrm{amarillo}, \\textrm{azul}, \\textrm{rojo}, \\textrm{marrón} \\}$\n",
        "* $𝐴 - 𝐵 = \\{ \\textrm{naranja}, \\textrm{verde}, \\textrm{añil},\\textrm{violeta} \\}$"
      ],
      "metadata": {
        "id": "1LhCWE72MTbW"
      }
    },
    {
      "cell_type": "markdown",
      "source": [
        "### Ejemplo gráfico de diferencia de conjuntos\n",
        "La diferencia de conjuntos se denota como $A-B$ o como $A \\backslash B $\n",
        "\n",
        "\n",
        "<img src=\"https://github.com/financieras/math/blob/main/img/diferencia.png?raw=1\" alt=\"diferencia\">"
      ],
      "metadata": {
        "id": "A0CJmfpRNJxE"
      }
    },
    {
      "cell_type": "markdown",
      "source": [
        "##### **Código**\n",
        "* Cree el conjunto A con 8 números aleatorios entre 10 y 20, ambos incluidos\n",
        "* Cree el conjunto B con 6 números aleatorios entre 10 y 20, ambos incluidos\n",
        "* Recuerde que los elementos de un conjunto no se repiten\n",
        "* Imprima A y B\n",
        "* Calcule e imprima las diferencias:\n",
        " * A - B\n",
        " * B - A"
      ],
      "metadata": {
        "id": "OIU--s9TQ7NZ"
      }
    },
    {
      "cell_type": "code",
      "source": [
        "from random import seed, sample\n",
        "seed()\n",
        "\n",
        "a = set(sample(range(10, 21), 8))\n",
        "print(\"A =\", a)\n",
        "b = set(sample(range(10, 21), 6))\n",
        "print(\"B =\", b)\n",
        "print(\"A-B =\", a-b)\n",
        "print(\"B-A =\", b-a)"
      ],
      "metadata": {
        "colab": {
          "base_uri": "https://localhost:8080/"
        },
        "id": "CgkLm4liS7sl",
        "outputId": "18a222e5-63ad-4df5-c5a3-0dcbadd7f238"
      },
      "execution_count": null,
      "outputs": [
        {
          "output_type": "stream",
          "name": "stdout",
          "text": [
            "A = {10, 11, 12, 13, 14, 18, 19, 20}\n",
            "B = {10, 11, 12, 13, 16, 19}\n",
            "A-B = {18, 20, 14}\n",
            "B-A = {16}\n"
          ]
        }
      ]
    },
    {
      "cell_type": "markdown",
      "source": [
        "### Definición de complementario\n",
        "El [complementario](https://es.wikipedia.org/wiki/Complemento_de_un_conjunto) de un conjunto $A$ es el conjunto de los elementos del universo del discurso que no están en $A$, esto es:  \n",
        "\n",
        "$$A^C = \\{ x \\in U: \\, x \\notin A \\}$$\n",
        "\n",
        "En otros textos el conjunto complementario se puede ver representado como $\\bar{A}$, o incluso puede verse como $A'$."
      ],
      "metadata": {
        "id": "W6z9NQwUVlLt"
      }
    },
    {
      "cell_type": "markdown",
      "source": [
        "### Ejemplo de conjunto complementario\n",
        "* $U = \\{ \\textrm{rojo}, \\textrm{naranja}, \\textrm{amarillo}, \\textrm{verde}, \\textrm{azul}, \\textrm{añil},\\textrm{violeta} \\}$\n",
        "* $A = \\{ \\textrm{amarillo}, \\textrm{azul} \\}$\n",
        "* $𝐴^C = \\{ \\textrm{rojo}, \\textrm{naranja}, \\textrm{verde}, \\textrm{añil},\\textrm{violeta} \\}$"
      ],
      "metadata": {
        "id": "yrdhXgFdWz1e"
      }
    },
    {
      "cell_type": "markdown",
      "source": [
        "##### **Código**\n",
        "* Cree el universo de todas las letras minúsculas del alfabeto inglés\n",
        "* Cree el conjunto $A$ con todas las consonantes\n",
        "* Calcule el complementario de $A$ que ha de contener la vocales del alfabeto"
      ],
      "metadata": {
        "id": "Jv23fQtHYJk6"
      }
    },
    {
      "cell_type": "markdown",
      "source": [
        "##### Método 1\n",
        "* Restando conjuntos.\n",
        "* Los conjuntos, o set también se llaman colecciones y no conservan el orden."
      ],
      "metadata": {
        "id": "EL-2Gcdocgip"
      }
    },
    {
      "cell_type": "code",
      "source": [
        "u = {'a', 'b', 'c', 'd', 'e', 'f', 'g', 'h', 'i', 'j', 'k', 'l', 'm', 'n', 'o', 'p', 'q', 'r', 's', 't', 'u', 'v', 'w', 'x', 'y', 'z'}\n",
        "a = {'b', 'c', 'd', 'f', 'g', 'h', 'j', 'k', 'l', 'm', 'n', 'ñ', 'p', 'q', 'r', 's', 't', 'v', 'w', 'x', 'y', 'z'}\n",
        "print(u - a)   # restando los dos conjuntos: el universo menos A"
      ],
      "metadata": {
        "id": "rkRCM_DQcz5G",
        "outputId": "2019d995-4669-4abd-cf26-32e7ca6b3807",
        "colab": {
          "base_uri": "https://localhost:8080/"
        }
      },
      "execution_count": null,
      "outputs": [
        {
          "output_type": "stream",
          "name": "stdout",
          "text": [
            "{'o', 'e', 'i', 'u', 'a'}\n"
          ]
        }
      ]
    },
    {
      "cell_type": "markdown",
      "source": [
        "##### Método 2\n",
        "Usando listas y llamando a una librería para no tener que escribir el alfabeto."
      ],
      "metadata": {
        "id": "nPxW3NIbcm9T"
      }
    },
    {
      "cell_type": "code",
      "source": [
        "import string\n",
        "u = list(string.ascii_lowercase)   # con la librería obtenemos todo el alfabeto\n",
        "print(u)\n",
        "print(f'Número de letras del alfabeto: {len(u)}')\n",
        "\n",
        "a = list('bcdfghjklmnñpqrstvwxyz') # string convertido a lista\n",
        "print(\"Consonantes:\", a)\n",
        "complementario = set(u) - set(a)   # restando los set se obtiene el complementario\n",
        "complementario"
      ],
      "metadata": {
        "colab": {
          "base_uri": "https://localhost:8080/"
        },
        "id": "MTDvuqy4ZG0z",
        "outputId": "825ad207-e0ce-4ad6-c799-28d24520f630"
      },
      "execution_count": null,
      "outputs": [
        {
          "output_type": "stream",
          "name": "stdout",
          "text": [
            "['a', 'b', 'c', 'd', 'e', 'f', 'g', 'h', 'i', 'j', 'k', 'l', 'm', 'n', 'o', 'p', 'q', 'r', 's', 't', 'u', 'v', 'w', 'x', 'y', 'z']\n",
            "Número de letras del alfabeto: 26\n",
            "Consonantes: ['b', 'c', 'd', 'f', 'g', 'h', 'j', 'k', 'l', 'm', 'n', 'ñ', 'p', 'q', 'r', 's', 't', 'v', 'w', 'x', 'y', 'z']\n"
          ]
        },
        {
          "output_type": "execute_result",
          "data": {
            "text/plain": [
              "{'a', 'e', 'i', 'o', 'u'}"
            ]
          },
          "metadata": {},
          "execution_count": 64
        }
      ]
    },
    {
      "cell_type": "markdown",
      "source": [
        "##### **Código**\n",
        "* Cree el universo de todas los números naturales $\\mathbb N$ hasta 10 (incluye el cero)\n",
        "* Crear el conjunto $A$ con los pares entre 0 y 10, ambos incluidos\n",
        "* Calcular el complementario de $A$"
      ],
      "metadata": {
        "id": "-qOzuwWZj8Po"
      }
    },
    {
      "cell_type": "code",
      "source": [
        "u = set(range(0,11))\n",
        "print(\"U =\", u)\n",
        "pares = set()\n",
        "for i in range(0, 11):\n",
        "    if i%2 == 0:\n",
        "        pares.add(i)\n",
        "print(\"A = \", pares)\n",
        "print(\"A' = \", u-pares)"
      ],
      "metadata": {
        "id": "n-2BlZpHkz8X",
        "outputId": "02aa54cf-c7de-42d8-a72c-6fbd5afef01f",
        "colab": {
          "base_uri": "https://localhost:8080/"
        }
      },
      "execution_count": null,
      "outputs": [
        {
          "output_type": "stream",
          "name": "stdout",
          "text": [
            "U = {0, 1, 2, 3, 4, 5, 6, 7, 8, 9, 10}\n",
            "A =  {0, 2, 4, 6, 8, 10}\n",
            "A' =  {1, 3, 5, 7, 9}\n"
          ]
        }
      ]
    },
    {
      "cell_type": "markdown",
      "source": [
        "### Definición de diferencia simétrica\n",
        "La [diferencia simétrica](https://es.wikipedia.org/wiki/Diferencia_sim%C3%A9trica) de dos conjuntos $A$ y $B$ es el conjunto $A \\Delta B$ que contiene los elementos de $A$ y los de $B$, excepto los que son comunes a ambos.\n",
        "\n",
        "$$A \\Delta B = (A \\cup B) - (A \\cap B)$$\n",
        "\n",
        "También se puede representar como $A \\oplus\n",
        "B$.\n",
        "\n",
        "Otra forma de definir el concepto, equivalente a la anterior, nos permite entender el nombre que se le ha dado:\n",
        "\n",
        "$$A \\Delta B = (A-B) \\cup (B-A)$$\n",
        "\n",
        "La diferencia simétrica es el conjunto de elementos en $A$, pero no en $B$, o en $B$, pero no en $A$. Así hemos excluido aquellos elementos en la intersección de $A$ y $B$.\n",
        "\n",
        "<img src=\"https://github.com/financieras/math/blob/main/img/SetSymmetricDifference.svg?raw=1\" alt=\"diferencia simétrica\" width=\"200\">"
      ],
      "metadata": {
        "id": "NWEiCYdMUjnR"
      }
    }
  ]
}