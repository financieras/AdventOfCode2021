{
 "cells": [
  {
   "cell_type": "markdown",
   "metadata": {},
   "source": [
    "# Day 1"
   ]
  },
  {
   "cell_type": "code",
   "execution_count": 1,
   "metadata": {},
   "outputs": [
    {
     "name": "stdout",
     "output_type": "stream",
     "text": [
      "100 -> [1, 2, 4, 5, 10, 20, 25, 50, 100]\n",
      "101 -> [1, 101]\n",
      "102 -> [1, 2, 3, 6, 17, 34, 51, 102]\n",
      "103 -> [1, 103]\n",
      "104 -> [1, 2, 4, 8, 13, 26, 52, 104]\n",
      "105 -> [1, 3, 5, 7, 15, 21, 35, 105]\n",
      "106 -> [1, 2, 53, 106]\n",
      "107 -> [1, 107]\n",
      "108 -> [1, 2, 3, 4, 6, 9, 12, 18, 27, 36, 54, 108]\n",
      "109 -> [1, 109]\n",
      "110 -> [1, 2, 5, 10, 11, 22, 55, 110]\n"
     ]
    }
   ],
   "source": [
    "# Divisores de una serie de números\n",
    "ini = int(input(\"Inicio: \"))\n",
    "fin = int(input(\"Final: \"))\n",
    "for n in range(ini, fin+1):\n",
    "  divisores = []\n",
    "  for i in range(1, n+1):\n",
    "    if not(n % i):\n",
    "      divisores.append(i)\n",
    "  print(f\"{n} -> {divisores}\")"
   ]
  },
  {
   "cell_type": "markdown",
   "metadata": {},
   "source": [
    "# Day 3"
   ]
  },
  {
   "cell_type": "code",
   "execution_count": 2,
   "metadata": {},
   "outputs": [
    {
     "name": "stdout",
     "output_type": "stream",
     "text": [
      "[81, -95, 19, -55, 91, 59, -76, 29, -75, 45, 71, 87, -85, 1, -51]\n",
      "Casi todos impares, el único par es -76.\n"
     ]
    }
   ],
   "source": [
    "# Detectar el número diferente\n",
    "import random\n",
    "random.seed()\n",
    "\n",
    "def genera():\n",
    "  n = random.randint(3,15) # longitud que tendrá el array\n",
    "  if random.random()<.5:   # tiramos una moneda a cara o cruz\n",
    "    array = random.choices(range(-99, 100, 2), k=n-1)     # los n-1 impares\n",
    "    array.append(random.choice(range(-98, 100, 2)))       # un par\n",
    "  else:\n",
    "    array = random.choices(range(-98, 100, 2), k=n-1)     # los n-1 pares\n",
    "    array.append(random.choice(range(-99, 100, 2)))       # un impar\n",
    "  random.shuffle(array)  # desordenamos el array para que el nº distinto no esté siempre el último\n",
    "  return array\n",
    "\n",
    "def encuentra_el_diferente(array):\n",
    "  lista = []  # será una lista de casi todos 0 menos un 1, o al contrario\n",
    "  for num in array:\n",
    "    lista.append(num%2) # num%2 da 0 si PAR, da 1 si IMPAR\n",
    "  if sum(lista) == 1: # en este caso en la lista solo hay un impar\n",
    "    return f\"Casi todos pares, el único impar es {array[lista.index(1)]}.\"\n",
    "  else:\n",
    "    return f\"Casi todos impares, el único par es {array[lista.index(0)]}.\"\n",
    "\n",
    "if __name__ == \"__main__\":\n",
    "  array = genera()\n",
    "  print(array)\n",
    "  print(encuentra_el_diferente(array))"
   ]
  },
  {
   "cell_type": "markdown",
   "metadata": {},
   "source": [
    "# Day 14"
   ]
  },
  {
   "cell_type": "code",
   "execution_count": 4,
   "metadata": {},
   "outputs": [
    {
     "name": "stdout",
     "output_type": "stream",
     "text": [
      "Lista original:     ['9', '2', 'K', False, 'H', '9', '1', '*', 'l', '5', '2', '6', 't', 'M', '+', True, 'S', '6', '0', True]\n",
      "Números:            ['9', '2', '9', '1', '5', '2', '6', '6', '0']\n",
      "Letras y símbolos : ['K', 'H', '*', 'l', 't', 'M', '+', 'S']\n",
      "Booleanos:          [False, True, True]\n"
     ]
    }
   ],
   "source": [
    "# Separar elementos de una lista\n",
    "import random\n",
    "random.seed()\n",
    "digitos = \"0123456789\"\n",
    "letras_simbolos = \"abcdefghijklmnñopqrstuvwxyzABCDEFGHIJKLMNÑOPQRSTUVWXYZºª\\!|@#~€¬·$%&/()=?¿*+{}[].-:_><\"\n",
    "true_false = (True, False)  # tupla\n",
    "lista = []\n",
    "numeros = []\n",
    "letras = []\n",
    "booleanos = []\n",
    "\n",
    "for i in range(20):\n",
    "  rnd = random.random()\n",
    "  if rnd < 0.45:\n",
    "    lista.append(random.choice(digitos))\n",
    "  elif rnd < 0.8:\n",
    "    lista.append(random.choice(letras_simbolos))\n",
    "  else:\n",
    "    lista.append(random.choice(true_false))\n",
    "\n",
    "print(f\"Lista original:     {lista}\")\n",
    "\n",
    "for element in lista:\n",
    "  if str(element) in digitos:\n",
    "    numeros.append(element)\n",
    "  elif str(element) in letras_simbolos:\n",
    "    letras.append(str(element))\n",
    "  else:\n",
    "    booleanos.append(element)\n",
    "\n",
    "print(f\"Números:            {numeros}\")\n",
    "print(f\"Letras y símbolos : {letras}\")\n",
    "print(f\"Booleanos:          {booleanos}\")"
   ]
  },
  {
   "cell_type": "markdown",
   "metadata": {},
   "source": [
    "# Day 15"
   ]
  },
  {
   "cell_type": "code",
   "execution_count": 5,
   "metadata": {},
   "outputs": [
    {
     "name": "stdout",
     "output_type": "stream",
     "text": [
      "012 013 014 015 016 017 018 019 023 024 \n",
      "025 026 027 028 029 034 035 036 037 038 \n",
      "039 045 046 047 048 049 056 057 058 059 \n",
      "067 068 069 078 079 089 123 124 125 126 \n",
      "127 128 129 134 135 136 137 138 139 145 \n",
      "146 147 148 149 156 157 158 159 167 168 \n",
      "169 178 179 189 234 235 236 237 238 239 \n",
      "245 246 247 248 249 256 257 258 259 267 \n",
      "268 269 278 279 289 345 346 347 348 349 \n",
      "356 357 358 359 367 368 369 378 379 389 \n",
      "456 457 458 459 467 468 469 478 479 489 \n",
      "567 568 569 578 579 589 678 679 689 789 \n",
      "\n",
      "Existen 120 combinaciones.\n"
     ]
    }
   ],
   "source": [
    "# Numero total de combinaciones con 3 digitos donde num1<num2<num3\n",
    "digitos = \"0123456789\"\n",
    "n = 0    # contador\n",
    "\n",
    "for p in digitos:\n",
    "  for q in digitos:\n",
    "    for r in digitos:\n",
    "      if p<q<r:\n",
    "        salto = \"\"\n",
    "        if not((n+1)%10): salto='\\n'      # salto de línea cada 10 números \n",
    "        print(f\"{p+q+r} {salto}\", end=\"\")\n",
    "        n += 1\n",
    "\n",
    "print(f\"\\nExisten {n} combinaciones.\")"
   ]
  },
  {
   "cell_type": "markdown",
   "metadata": {},
   "source": [
    "# Day 16"
   ]
  },
  {
   "cell_type": "code",
   "execution_count": 6,
   "metadata": {},
   "outputs": [
    {
     "name": "stdout",
     "output_type": "stream",
     "text": [
      "['solo', 'tiene', 'derecho', 'mirar', 'otro', 'hacia', 'abajo', 'ayudarle', 'levantarse']\n",
      "La frase inicial tiene 17 palabras y de ellas tienen caracteres repetidos 9 palabras.\n"
     ]
    }
   ],
   "source": [
    "# Comprobador de letras repetidas\n",
    "frase = \"Un hombre sólo tiene derecho a mirar a otro hacia abajo, cuando ha de ayudarle a levantarse.\"  # Gabriel García Márquez\n",
    "\n",
    "def depura(frase):                 # depuramos la frase eliminando signos de puntuación y acentos\n",
    "  frase = frase.replace(',', '')\n",
    "  frase = frase.replace('.', '')\n",
    "  frase = frase.replace('á', 'a')\n",
    "  frase = frase.replace('é', 'e')\n",
    "  frase = frase.replace('í', 'i')\n",
    "  frase = frase.replace('ó', 'o')\n",
    "  frase = frase.replace('ú', 'u')\n",
    "  return frase\n",
    "\n",
    "def caracteres_repetidos(frase):\n",
    "  palabras = []    # lista de palabras con caracteres repetidos\n",
    "  todas = frase.split(' ')\n",
    "  for palabra in todas:\n",
    "    repe = False                     # bandera\n",
    "    for caracter in palabra:\n",
    "      if palabra.count(caracter)>1:\n",
    "        repe = True\n",
    "    if repe:\n",
    "      palabras.append(palabra)\n",
    "  return palabras\n",
    "\n",
    "con_repetidos = caracteres_repetidos(depura(frase))\n",
    "print(con_repetidos)\n",
    "print(f\"La frase inicial tiene {len(frase.split(' '))} palabras y de ellas tienen caracteres repetidos {len(con_repetidos)} palabras.\")"
   ]
  }
 ],
 "metadata": {
  "interpreter": {
   "hash": "916dbcbb3f70747c44a77c7bcd40155683ae19c65e1c03b4aa3499c5328201f1"
  },
  "kernelspec": {
   "display_name": "Python 3.8.10 64-bit",
   "language": "python",
   "name": "python3"
  },
  "language_info": {
   "codemirror_mode": {
    "name": "ipython",
    "version": 3
   },
   "file_extension": ".py",
   "mimetype": "text/x-python",
   "name": "python",
   "nbconvert_exporter": "python",
   "pygments_lexer": "ipython3",
   "version": "3.8.10"
  },
  "orig_nbformat": 4
 },
 "nbformat": 4,
 "nbformat_minor": 2
}
