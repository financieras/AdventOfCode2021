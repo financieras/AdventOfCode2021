{
  "cells": [
    {
      "cell_type": "markdown",
      "metadata": {
        "id": "view-in-github",
        "colab_type": "text"
      },
      "source": [
        "<a href=\"https://colab.research.google.com/github/financieras/AdventOfCode2021/blob/master/retos_solucion.ipynb\" target=\"_parent\"><img src=\"https://colab.research.google.com/assets/colab-badge.svg\" alt=\"Open In Colab\"/></a>"
      ]
    },
    {
      "cell_type": "markdown",
      "metadata": {
        "id": "uHOQrzMI1xwF"
      },
      "source": [
        "# Day 1\n",
        "## Divisores de una serie de números\n",
        "* Calcular todos los divisores de una serie de números.\n",
        "* El usuario elige el rango de números, indicando el inicio y el final del rango.\n",
        " - Por ejemplo, entre 100 y 110\n",
        " * El programa muestra, junto a cada número del rango, todos los divisores que tiene cada uno de esos números.\n",
        "  - Por ejemplo:\n",
        "   - 100 -> [1,2,4,5,10,20,25,50,100]\n",
        "   - 101 -> [1,101]\n",
        "   - 102 -> [1,2,3,6,17,34,51,102]\n",
        "   - 103 -> [1,103]\n",
        "   - 104 -> [1,2,4,8,13,26,52,104]\n",
        "   - 105 -> [1,3,5,7,15,21,35,105]\n",
        "   - 106 -> [1,2,53,106]\n",
        "   - 107 -> [1,107]\n",
        "   - 108 -> [1,2,3,4,6,9,12,18,27,36,54,108]\n",
        "   - 109 -> [1,109]\n",
        "   - 110 -> [1,2,5,10,11,22,55,110]"
      ]
    },
    {
      "cell_type": "code",
      "execution_count": null,
      "metadata": {
        "id": "A13KaoOl1xwH",
        "outputId": "fea8f387-ad09-4299-a470-b2f07c912051"
      },
      "outputs": [
        {
          "name": "stdout",
          "output_type": "stream",
          "text": [
            "100 -> [1, 2, 4, 5, 10, 20, 25, 50, 100]\n",
            "101 -> [1, 101]\n",
            "102 -> [1, 2, 3, 6, 17, 34, 51, 102]\n",
            "103 -> [1, 103]\n",
            "104 -> [1, 2, 4, 8, 13, 26, 52, 104]\n",
            "105 -> [1, 3, 5, 7, 15, 21, 35, 105]\n",
            "106 -> [1, 2, 53, 106]\n",
            "107 -> [1, 107]\n",
            "108 -> [1, 2, 3, 4, 6, 9, 12, 18, 27, 36, 54, 108]\n",
            "109 -> [1, 109]\n",
            "110 -> [1, 2, 5, 10, 11, 22, 55, 110]\n"
          ]
        }
      ],
      "source": [
        "# Divisores de una serie de números\n",
        "ini = int(input(\"Inicio: \"))\n",
        "fin = int(input(\"Final: \"))\n",
        "for n in range(ini, fin+1):\n",
        "  divisores = []\n",
        "  for i in range(1, n+1):\n",
        "    if not(n % i):\n",
        "      divisores.append(i)\n",
        "  print(f\"{n} -> {divisores}\")"
      ]
    },
    {
      "cell_type": "markdown",
      "source": [
        "# Day 2\n",
        "## Frecuencia de caracterers de un libro\n",
        "* Analizar la frecuencia de todos los caracteres que contiene un libro\n",
        "* El libro es: \n",
        " - Frankenstein; Or, The Modern Prometheus by Mary Wollstonecraft Shelley\n",
        "* Se puede obtener libremente del proyecto Gutemberg en esta dirección:\n",
        "  - [Frankenstein](https://www.gutenberg.org/ebooks/84)"
      ],
      "metadata": {
        "id": "7emzauhG14ss"
      }
    },
    {
      "cell_type": "markdown",
      "metadata": {
        "id": "iPEVq5dk1xwJ"
      },
      "source": [
        "# Day 3\n",
        "## Detectar el número diferente\n",
        "* Generar un array de números enteros con una longitud aleatoria entre 3 y 15\n",
        "* Los números del array son aleatorios enteros entre entre -99 y +99\n",
        "* Los números del array serán todos pares, menos uno de ellos que será impar, o bien\n",
        "* todos serán impares, menos uno de ellos que será par\n",
        "* Mostrar en pantalla el array\n",
        "* El objetivo es detectar el número que es diferente dentro del array\n",
        "* Crear un método o función a la que pasamos como parámetro el array generado\n",
        "* La función retorna ese número diferente que se ha de imprimir por pantalla\n",
        "\n",
        "**Ejemplos**\n",
        " * [2, 4, 0, 100, 4, 11, 2602, 36]\n",
        "  - Debería retornar: 11 (ya que es el único número impar del array)\n",
        " * [160, 3, 1719, 19, 11, 13, -21]\n",
        "  - Debería retornar: 160 (ya que es el único número par del array)"
      ]
    },
    {
      "cell_type": "code",
      "execution_count": null,
      "metadata": {
        "id": "8m69hcWB1xwJ",
        "outputId": "a8655ba7-9d46-47a2-8bb8-efe1c6c46411"
      },
      "outputs": [
        {
          "name": "stdout",
          "output_type": "stream",
          "text": [
            "[81, -95, 19, -55, 91, 59, -76, 29, -75, 45, 71, 87, -85, 1, -51]\n",
            "Casi todos impares, el único par es -76.\n"
          ]
        }
      ],
      "source": [
        "# Detectar el número diferente\n",
        "import random\n",
        "random.seed()\n",
        "\n",
        "def genera():\n",
        "  n = random.randint(3,15) # longitud que tendrá el array\n",
        "  if random.random()<.5:   # tiramos una moneda a cara o cruz\n",
        "    array = random.choices(range(-99, 100, 2), k=n-1)     # los n-1 impares\n",
        "    array.append(random.choice(range(-98, 100, 2)))       # un par\n",
        "  else:\n",
        "    array = random.choices(range(-98, 100, 2), k=n-1)     # los n-1 pares\n",
        "    array.append(random.choice(range(-99, 100, 2)))       # un impar\n",
        "  random.shuffle(array)  # desordenamos el array para que el nº distinto no esté siempre el último\n",
        "  return array\n",
        "\n",
        "def encuentra_el_diferente(array):\n",
        "  lista = []  # será una lista de casi todos 0 menos un 1, o al contrario\n",
        "  for num in array:\n",
        "    lista.append(num%2) # num%2 da 0 si PAR, da 1 si IMPAR\n",
        "  if sum(lista) == 1: # en este caso en la lista solo hay un impar\n",
        "    return f\"Casi todos pares, el único impar es {array[lista.index(1)]}.\"\n",
        "  else:\n",
        "    return f\"Casi todos impares, el único par es {array[lista.index(0)]}.\"\n",
        "\n",
        "if __name__ == \"__main__\":\n",
        "  array = genera()\n",
        "  print(array)\n",
        "  print(encuentra_el_diferente(array))"
      ]
    },
    {
      "cell_type": "markdown",
      "source": [
        "# Day 4\n",
        "## Suma de números impares de un triángulo\n",
        "Dado un triángulo de números impares como este:  \n",
        " &nbsp; &nbsp; &nbsp; &nbsp; &nbsp; &nbsp; &nbsp; &nbsp; &nbsp; &nbsp; &nbsp; &nbsp; 1  \n",
        " &nbsp; &nbsp; &nbsp; &nbsp; &nbsp; &nbsp; &nbsp; &nbsp; &nbsp; 3 &nbsp; &nbsp; &nbsp; &nbsp;5  \n",
        " &nbsp; &nbsp; &nbsp; &nbsp; &nbsp; &nbsp; 7 &nbsp; &nbsp; &nbsp; &nbsp; 9 &nbsp; &nbsp; &nbsp; 11  \n",
        " &nbsp; &nbsp; 13 &nbsp; &nbsp; &nbsp; 15 &nbsp; &nbsp; &nbsp; &nbsp;  17 &nbsp; &nbsp; &nbsp; 19  \n",
        "21 &nbsp; &nbsp; &nbsp; 23 &nbsp; &nbsp; &nbsp; 25 &nbsp; &nbsp; &nbsp; 27 &nbsp; &nbsp; &nbsp; 29  \n",
        "... ... ... ... ... ... ... ... ... ... ... ... ...  \n",
        "\n",
        "* Calcule la suma de los números en la enésima fila de este triángulo (comenzando en el índice 1)\n",
        "* El programa genera aleatoriamente la fila y se la pasa como parámetro a una función que es la que da el resultado\n",
        "* por ejemplo: \n",
        " - Entrada -> Salida\n",
        " - 1ª fila -> 1\n",
        " - 2ª fila -> 3 + 5 = 8\n",
        " - 3ª fila -> 7 + 9 + 11 = 27"
      ],
      "metadata": {
        "id": "-40Q_XMS19zC"
      }
    },
    {
      "cell_type": "markdown",
      "source": [
        "# Day 5\n",
        "## Distribuir texto en líneas\n",
        "* Crear una función que reciba como parámetros dos argumentos:\n",
        " - un string, por ejemplo frase = \"ABCDEFGHIJKLIMNOQRSTUVWXYZ\"\n",
        " - un número entero entre 1 y la longitud de la frase, por ejemplo, n= 4\n",
        "* La función retornará un texto, que habitualmente ocupará varias líneas, donde en cada línea se pondrán n caracteres.\n",
        " - en la primera línea irán los n primeros caracteres\n",
        " - en la segunda línea los n siguientes caracteres\n",
        " - y asi sucesivamente hasta llegar a la última línea\n",
        " - en la última línea irán los caracteres necesarios para terminar de imprimir la frase\n",
        "* Imprimir lo que retorna la función creada\n",
        "\n",
        "**Ejemplo 1**\n",
        "* Inputs:\n",
        " - frase = \"ABCDEFGHIJKLIMNOQRSTUVWXYZ\"\n",
        " - n = 4\n",
        "* Output:  \n",
        " `ABCD`  \n",
        " `EFGH`  \n",
        " `IJKL`  \n",
        " `IMNO`  \n",
        " `QRST`  \n",
        " `UVWX`  \n",
        " `YZ`\n",
        "\n",
        "**Ejemplo 2**\n",
        "* Inputs:\n",
        " - frase = \"ABCDEFG @HIJKLIMNOQRSTUVWXYZ\"\n",
        " - n = 6\n",
        "* Output:  \n",
        " `ABCDEF`  \n",
        " `G @HIJ`  \n",
        " `KLIMNO`  \n",
        " `QRSTUV`  \n",
        " `WXYZ`"
      ],
      "metadata": {
        "id": "Wsdvdzhs2Ckw"
      }
    },
    {
      "cell_type": "markdown",
      "source": [
        "# Day 6\n",
        "## Matriz con escalones\n",
        "* Dado el parámetro número de filas (n) crear una matriz:\n",
        " - El número de filas (n) puede variar entre 1 y 20\n",
        " - El número de columnas siempre es el triple que el de filas\n",
        " - La matriz está compuesta por ceros y unos según la distribución que se mustra en la imagen, según sea el valor del parámetro n.\n",
        "* Se trata de imprimir la matriz en la terminal en función del valor de n que nos den.\n",
        "\n",
        "![matriz.png](https://drive.google.com/uc?id=1yff9bW_yu-U1aTdbR2mTmWkD31ZPrqnc)\n",
        "\n",
        "* Para n=5 se obtendría el siguente resultado:\n",
        "\n",
        "![matriz.png](https://drive.google.com/uc?id=1Pz5wbwCls6DAwOh2SI0Nes-011nSLTjC)"
      ],
      "metadata": {
        "id": "bpBkaR892HIK"
      }
    },
    {
      "cell_type": "markdown",
      "source": [
        "# Day 7\n",
        "## The Minion Game\n",
        "* Kevin and Stuart want to play the 'The Minion Game'.\n",
        "\n",
        "### Game Rules\n",
        "* Both players are given the same string, s.\n",
        "* Both players have to make substrings using the letters of the string s .\n",
        "* Stuart has to make words starting with consonants.\n",
        "* Kevin has to make words starting with vowels.\n",
        "* The game ends when both players have made all possible substrings.\n",
        "\n",
        "### Scoring\n",
        "* A player gets +1 point for each occurrence of the substring in the string s.\n",
        "\n",
        "#### For Example\n",
        "* String s = BANANA\n",
        "* Kevin's vowel beginning word = ANA\n",
        "* Here, ANA occurs twice in BANANA. Hence, Kevin will get 2 Points.\n",
        "\n",
        "* For better understanding, see the image below:\n",
        "\n",
        "<img src=\"https://drive.google.com/uc?id=1ZlwIeyG_dsLQ04dQeKuNsGF9l6l5FDmi\" alt=\"banana.png\" width=\"420\"/>\n",
        "\n",
        "<img src=\"https://github.com/seldoncode/AdventOfCode2021/blob/main/Banana.png?raw=1\" alt=\"Banana.png\" width=\"420\"/>\n",
        "\n",
        "\n",
        "* Your **task** is to determine the winner of the game and their score.\n",
        "\n",
        "### Function Description\n",
        "* Complete the minion_game in the editor below.\n",
        "* minion_game has the following parameters:\n",
        " - string string: the string to analyze\n",
        "\n",
        "### Prints\n",
        "* string: the winner's name and score, separated by a space on one line, or Draw if there is no winner\n",
        "\n",
        "### Input Format\n",
        "* A single line of input containing the string s.\n",
        "* Note: The string  will contain only uppercase letters [A-Z].\n",
        "\n",
        "### Constraints\n",
        "* 0 < len(s) < 10**6\n",
        "\n",
        "### Sample Input\n",
        "BANANA\n",
        "\n",
        "### Sample Output\n",
        "Stuart 12\n",
        "\n",
        "#### Note\n",
        "* Vowels are only defined as A, E, I, O, U."
      ],
      "metadata": {
        "id": "xvCDqulz2G4A"
      }
    },
    {
      "cell_type": "markdown",
      "source": [
        "# Day 8\n",
        "## List Comprehension\n",
        "* Nos dan tres números enteros x, y, z que representan  dimensiones en 3D, junto con un número entero n.\n",
        "* Tiene que imprimir una lista de todas las coordenadas posibles dadas por (i, j, k) en un espacio tridimensional donde la suma de i+j+k no es igual a n.\n",
        "* Siendo:\n",
        " - 0 <= i <= x\n",
        " - 0 <= j <= y\n",
        " - 0 <= k <= z\n",
        "* Formato de entrada:\n",
        " - Cuatro números enteros x, y, z, n en formato de tupla: (x,y,z,n)\n",
        "\n",
        "### Restricciones\n",
        "* Imprima la lista en orden lexicográfico creciente.\n",
        "\n",
        "### Ejemplo 1\n",
        "#### Entrada\n",
        " * (1,1,1,2)\n",
        "\n",
        "#### Salida\n",
        "* [[0, 0, 0], [0, 0, 1], [0, 1, 0], [1, 0, 0], [1 , 1, 1]]\n",
        "\n",
        "### Ejemplo 2\n",
        "#### Entrada\n",
        " * (1,1,2,3)\n",
        "\n",
        "#### Salida\n",
        "* [[0,0,0], [0,0,1], [0,0,2], [0,1,0], [0,1,1], [1,0,0], [1,0,1], [1,1,0], [1,1,2]]\n",
        "\n",
        "### Nota\n",
        "* Realizar el código utilizando una lista comprimida (List Comprehension)"
      ],
      "metadata": {
        "id": "TMpaXwx62GoY"
      }
    },
    {
      "cell_type": "markdown",
      "source": [
        "# Day 9\n",
        "## Generar matrices\n",
        "* Generar una **matriz cuadrada** de n filas y n columnas, esto es, de dimensión n×n\n",
        "* El valor de n puede variar entre 1 y 100\n",
        "* Si n es uno, la matriz es de un elemento, por ejemplo, [[5]]\n",
        "* Si n es dos la matriz es de dimensión 2×2, por ejemplo: [[1, 2], [0, -3]]\n",
        "* Los elementos de la matriz tienen que ser números aleatorios entreros entre -9 y +9.\n",
        "* La distribución de estos números debe seguir una distribución de probabilidad escalonada con las siguiente probabilidades: [25,20,16,12,9,7,5,3,2,1]\n",
        " - 25 indica que la probabilidad de que salga un 0 es del 25%\n",
        " - 20 indica que la probabilidad de que salga un 1 o -1 es del 20%\n",
        " - 16 indica que la probabilidad de que salga un 2 o -2 es del 16%\n",
        " - ... / ...\n",
        " - 1 indica que la probabilidad de que salga un 9 o -9 es del 1% \n",
        "* No puede existir ninguna fila o columna donde todos sus elementos sean cero.\n",
        "* Dado n mostrar la matriz en pantalla"
      ],
      "metadata": {
        "id": "PIBLt3Mo2GWy"
      }
    },
    {
      "cell_type": "code",
      "source": [
        "import numpy as np\n",
        "from random import random\n",
        "\n",
        "def matriz(n):\n",
        "  while True:\n",
        "    m = [[-x if random()<.5 else x for x in np.random.choice(10, n, p=[.25,.20,.16,.12,.09,.07,.05,.03,.02,.01])] for _ in range(n)]\n",
        "    m = np.asarray(m)\n",
        "    if np.where(~m.any(axis=0))[0].size == 0 and np.where(~m.any(axis=1))[0].size == 0:\n",
        "      break\n",
        "  return m\n",
        "\n",
        "print(matriz(10))"
      ],
      "metadata": {
        "id": "H_1tII-WTczc",
        "outputId": "4d1bed6c-6c0e-49ee-e27f-20f21fb6b576",
        "colab": {
          "base_uri": "https://localhost:8080/"
        }
      },
      "execution_count": null,
      "outputs": [
        {
          "output_type": "stream",
          "name": "stdout",
          "text": [
            "[[ 3  4  0  3 -1 -1  1  3 -4  0]\n",
            " [ 0 -6  1 -2 -5 -4  0  0  0  3]\n",
            " [ 7 -8  0  1  0 -1 -5  1  0  4]\n",
            " [ 1 -4 -3 -1  0  2  4 -5 -4  5]\n",
            " [-2  0  1  1  0 -2 -4 -3  1 -4]\n",
            " [ 2  0  4 -2  4  0 -4  0 -5  0]\n",
            " [-3 -1 -3  0 -1 -3 -1 -7 -1  0]\n",
            " [ 5  0 -2 -5  1  1 -1 -4 -4  2]\n",
            " [-1  2 -3  2 -2 -4 -4  1 -7  6]\n",
            " [ 1  0  3  0  0  3 -2 -2  0  0]]\n"
          ]
        }
      ]
    },
    {
      "cell_type": "markdown",
      "source": [
        "# Day 10\n",
        "## Maximin\n",
        "### Función ```min```\n",
        "* La función ```min``` devuelve el valor mínimo a lo largo de un eje dado.\n",
        "\n",
        "```import numpy```\n",
        "\n",
        "```my_array = numpy.array([[2, 5], ```\n",
        "\n",
        "&nbsp;&nbsp;&nbsp;&nbsp;&nbsp;&nbsp;&nbsp;&nbsp;&nbsp;&nbsp;&nbsp;&nbsp;&nbsp;&nbsp;&nbsp;&nbsp;&nbsp;&nbsp;&nbsp;&nbsp;&nbsp;&nbsp;&nbsp;&nbsp;&nbsp;&nbsp;&nbsp;&nbsp;&nbsp;&nbsp;&nbsp;&nbsp;&nbsp;&nbsp;&nbsp;&nbsp;&nbsp;&nbsp;&nbsp;&nbsp;&nbsp;&nbsp;&nbsp;&nbsp;&nbsp;&nbsp;&nbsp;&nbsp;```[3, 7],```\n",
        "\n",
        "&nbsp;&nbsp;&nbsp;&nbsp;&nbsp;&nbsp;&nbsp;&nbsp;&nbsp;&nbsp;&nbsp;&nbsp;&nbsp;&nbsp;&nbsp;&nbsp;&nbsp;&nbsp;&nbsp;&nbsp;&nbsp;&nbsp;&nbsp;&nbsp;&nbsp;&nbsp;&nbsp;&nbsp;&nbsp;&nbsp;&nbsp;&nbsp;&nbsp;&nbsp;&nbsp;&nbsp;&nbsp;&nbsp;&nbsp;&nbsp;&nbsp;&nbsp;&nbsp;&nbsp;&nbsp;&nbsp;&nbsp;&nbsp;```[1, 3],```\n",
        "\n",
        "&nbsp;&nbsp;&nbsp;&nbsp;&nbsp;&nbsp;&nbsp;&nbsp;&nbsp;&nbsp;&nbsp;&nbsp;&nbsp;&nbsp;&nbsp;&nbsp;&nbsp;&nbsp;&nbsp;&nbsp;&nbsp;&nbsp;&nbsp;&nbsp;&nbsp;&nbsp;&nbsp;&nbsp;&nbsp;&nbsp;&nbsp;&nbsp;&nbsp;&nbsp;&nbsp;&nbsp;&nbsp;&nbsp;&nbsp;&nbsp;&nbsp;&nbsp;&nbsp;&nbsp;&nbsp;&nbsp;&nbsp;&nbsp;```[4, 0]])```\n",
        "\n",
        "\n",
        "```print numpy.min(my_array, axis = 0)         #Output : [1 0]```\n",
        "\n",
        "```print numpy.min(my_array, axis = 1)         #Output : [2 3 1 0]```\n",
        "\n",
        "```print numpy.min(my_array, axis = None)      #Output : 0```\n",
        "\n",
        "```print numpy.min(my_array)                   #Output : 0```\n",
        "\n",
        "* Por defecto, el valor del eje es None. Por lo tanto, encuentra el mínimo en todas las dimensiones de la matriz de entrada.\n",
        "\n",
        "### Función ```max```\n",
        "* La función ```max``` devuelve el valor máximo a lo largo de un eje dado.\n",
        "\n",
        "```import numpy```\n",
        "\n",
        "```my_array = numpy.array([[2, 5], ```\n",
        "\n",
        "&nbsp;&nbsp;&nbsp;&nbsp;&nbsp;&nbsp;&nbsp;&nbsp;&nbsp;&nbsp;&nbsp;&nbsp;&nbsp;&nbsp;&nbsp;&nbsp;&nbsp;&nbsp;&nbsp;&nbsp;&nbsp;&nbsp;&nbsp;&nbsp;&nbsp;&nbsp;&nbsp;&nbsp;&nbsp;&nbsp;&nbsp;&nbsp;&nbsp;&nbsp;&nbsp;&nbsp;&nbsp;&nbsp;&nbsp;&nbsp;&nbsp;&nbsp;&nbsp;&nbsp;&nbsp;&nbsp;&nbsp;&nbsp;```[3, 7],```\n",
        "\n",
        "&nbsp;&nbsp;&nbsp;&nbsp;&nbsp;&nbsp;&nbsp;&nbsp;&nbsp;&nbsp;&nbsp;&nbsp;&nbsp;&nbsp;&nbsp;&nbsp;&nbsp;&nbsp;&nbsp;&nbsp;&nbsp;&nbsp;&nbsp;&nbsp;&nbsp;&nbsp;&nbsp;&nbsp;&nbsp;&nbsp;&nbsp;&nbsp;&nbsp;&nbsp;&nbsp;&nbsp;&nbsp;&nbsp;&nbsp;&nbsp;&nbsp;&nbsp;&nbsp;&nbsp;&nbsp;&nbsp;&nbsp;&nbsp;```[1, 3],```\n",
        "\n",
        "&nbsp;&nbsp;&nbsp;&nbsp;&nbsp;&nbsp;&nbsp;&nbsp;&nbsp;&nbsp;&nbsp;&nbsp;&nbsp;&nbsp;&nbsp;&nbsp;&nbsp;&nbsp;&nbsp;&nbsp;&nbsp;&nbsp;&nbsp;&nbsp;&nbsp;&nbsp;&nbsp;&nbsp;&nbsp;&nbsp;&nbsp;&nbsp;&nbsp;&nbsp;&nbsp;&nbsp;&nbsp;&nbsp;&nbsp;&nbsp;&nbsp;&nbsp;&nbsp;&nbsp;&nbsp;&nbsp;&nbsp;&nbsp;```[4, 0]])```\n",
        "\n",
        "\n",
        "```print numpy.max(my_array, axis = 0)         #Output : [4 7]```\n",
        "\n",
        "```print numpy.max(my_array, axis = 1)         #Output : [5 7 3 4]```\n",
        "\n",
        "```print numpy.max(my_array, axis = None)      #Output : 7```\n",
        "\n",
        "```print numpy.max(my_array)                   #Output : 7```\n",
        "\n",
        "* Por defecto, el valor del eje es None. Por lo tanto, encuentra el máximo en todas las dimensiones de la matriz de entrada.\n",
        "\n",
        "### Objetivo\n",
        "* Dada una matriz de orden nxm su tarea es calcular la función mínima sobre el eje 1 y luego encontrar el máximo de eso.\n",
        "\n",
        "### Input\n",
        "* La primera línea de entrada contiene los valores n y m separados por un espacio. Las siguientes n líneas contienen m conjuntos de enteros separados por espacios.\n",
        "\n",
        "### Output\n",
        "* Calcule el mínimo a lo largo del eje 1 y luego imprima el máximo de ese resultado.\n",
        "\n",
        "### Ejemplo\n",
        "#### Input\n",
        "4 2  \n",
        "2 5  \n",
        "3 7  \n",
        "1 3  \n",
        "4 0\n",
        "\n",
        "#### Output\n",
        "3\n",
        "\n",
        "#### Explicación\n",
        "* El mínio a lo largo del eje 1 = [2,3,1,0]\n",
        "* El máximo de [2,3,1,0] es 3.\n",
        "\n",
        "## Nota\n",
        "* Cree una función que genere aleatoriamente los inputs con diferentes dimensiones posibles.\n",
        "* Cree una función que calcule el output."
      ],
      "metadata": {
        "id": "Skqk2Dxf2GHO"
      }
    },
    {
      "cell_type": "markdown",
      "source": [
        "# Day 11\n",
        "## Capitalize\n",
        "* Disponemos de una lista de nombres y una lista de apellidos\n",
        " - nombres = ['alba','alberto','alejandro','alicia','álvaro','ana','andrés','antonio','carla','carlos','carmen','cristina','daniel','david','eduardo','enrique','esther','eva','felipe','gabriel','hector','helena','hugo','isabel','iván','javier','jesus','jorge','juan','laura','lucas','lucía','luis','manuel','mar','margarita','maría','marta','martina','miguel','patricia','paula','pilar','raquel','raúl','rocío','samuel','sara','sonia','teresa']\n",
        " - apellidos = ['alonso','álvarez','blanco','cano','castillo','castro','cortes','delgado','diaz','dominguez','fernandez','garcía','garrido','gil','gomez','gonzalez','guerrero','gutierrez','hernandez','iglesias','jimenez','lopez','lozano','marin','martin','martinez','medina','mendez','molina','morales','moreno','muñoz','navarro','nuñez','ortega','ortiz','perez','ramirez','ramos','rodriguez','romero','rubio','ruiz','sanchez','santos','sanz','serrano','suarez','torres','vazquez']\n",
        "* Crear una función que elige aleatoriamente un nombre y un apellido para formar con ellos el nombre y apellido de una persona, por ejemplo:\n",
        " - iván nuñez\n",
        " - raquel álvarez\n",
        "* El programa devuelve el nombre y el apellido con la primera letra en mayúsculas del nombre y del apellido, por ejemplo:\n",
        " - Iván Nuñez\n",
        " - Raquel Álvarez\n",
        "* Se ha de lograr sin utilizar la función ```title``` en Python que conseguiría el mismo resultado.\n",
        "* * Se ha de lograr sin utilizar la función ```capitalize```"
      ],
      "metadata": {
        "id": "s1SlXBo_2F5E"
      }
    },
    {
      "cell_type": "code",
      "source": [
        "n = \"raquel álvarez\"\n",
        "print(n.title())"
      ],
      "metadata": {
        "id": "ltDbps8l3Pix",
        "outputId": "6d41367e-3865-4608-e68b-eb273c27356c",
        "colab": {
          "base_uri": "https://localhost:8080/"
        }
      },
      "execution_count": null,
      "outputs": [
        {
          "output_type": "stream",
          "name": "stdout",
          "text": [
            "Raquel Álvarez\n"
          ]
        }
      ]
    },
    {
      "cell_type": "markdown",
      "source": [
        "# Day 12\n",
        "## Genética\n",
        "* El ADN es una molécula formada por la combinación de las cuatro letras que son la base del código genético:\n",
        " - adenina (A)\n",
        " - timina (T)\n",
        " - citosina (C)\n",
        " - guanina (G)\n",
        "* Por ejemplo:\n",
        "  - AATCGCGCACCAATGCAATT\n",
        "* Crear una función que genere combinaciones de estas cuatro letras de forma aleatoria.\n",
        " - A esta combinación la llamaremos **palabra**\n",
        " - Las palabras que genere nuestra función tendrán una longitud de 102 caracteres\n",
        " - Cada una de las letras aparecerá en términos de probabilidad con los siguientes porcentajes que son los del ADN humano:\n",
        "  * A: 29,3%\n",
        "  * G: 20,7%\n",
        "  * C: 20%\n",
        "  * T: 30%\n",
        "* De la palabra generada obtendremos aleatoriamente una subcadena de 3 caracteres que llamaremos **secuencia**.\n",
        "* Mostrar en pantalla la palabra\n",
        "* Mostrar en pantalla todas las secuencias que se repitan más de una vez.\n",
        "* Decir cuantas veces se encuentra contenida la secuencia dentro de la palabra (frecuencia)\n",
        "* Ejemplo\n",
        " - La palabra debería ser de 102 caracteres, pero en el ejemplo usaremos una de 20 caracteres.  \n",
        " La palabra es \n",
        " AATCGCGCACCAATGCAATT\n",
        " - Se mostrará en pantalla una tabla como la siguiente:  \n",
        " \n",
        "| Secuencia | Frecuencia |\n",
        "| :---: | :-: |\n",
        "| AAT | 3 |\n",
        "| CGC | 2 |\n",
        "| GCA | 2 |\n",
        "| CAA | 2 |\n",
        "\n",
        " - Comentario\n",
        "  * La secuencia AAT está contenida en la palabra AATCGCGCACCAATGCAATT 3 veces.\n",
        "  * La secuencia CGC está contenida en la palabra AATCGCGCACCAATGCAATT 2 veces.\n",
        "  * Explicación de porque CGC está dos veces. Existe un tramo de la palabra que es CGCGC donde la secuencia buscada está dos veces.\n",
        "\n",
        "* Nota  \n",
        "Si una palabra no contiene ninguna secuencia con frecuencia mayor a 1, descartar la palabra y generar otra. Seguir generando palabras hasta que obtengamos alguna que contenga al menos una secuencia con frecuencia mayor a 1."
      ],
      "metadata": {
        "id": "xQiCHoxM2Fqm"
      }
    },
    {
      "cell_type": "markdown",
      "source": [
        "# Day 13\n",
        "## Mutaciones\n",
        "* Nos basamos en el reto anterior donde generamos palabras de 102 caracteres con las cuatro letras del alfabeto genético ACGT.\n",
        "* Dada una palabra de 102 caracteres\n",
        " - Obtener todas las secuencias de 3 caracteres que tengan frecuencia mayor a 1\n",
        " - Realizar la **mutación**: alterar algun(os) caracter(es) de alguna(s) de las secuencias repetidas para conseguir que en la 'palabra mutada' no existan secuencias de 3 caracteres con repetición.\n",
        "* Mostrar la palabra de 102 caracteres antes y después de haber realizado la mutación\n",
        "* Ejemplo\n",
        " - La palabra debería ser de 102 caracteres, pero en el ejemplo usaremos una de 20 caracteres.\n",
        " - Palabra original: AATCGC**G**CACC**A**ATGCA**A**TT\n",
        " - Palabra  mutada:  AATCGC**T**CACC**C**ATGCA**G**TT\n",
        " - Registro binario: 00000010000100000100\n",
        "* El 'registro binario' es una secuencia de ceros y unos, donde:\n",
        " - Si el caracter no ha cambiado se pone un 0\n",
        " - Si el caracter ha mutado se pone un 1\n",
        "* El objetivo es eliminar todas las repeticiones de secuencias de 3 caracteres y conseguirlo procurando las mínimas alteraciones en la palabra original\n",
        "* En el ejemplo la suma de los unos del registro binario es 3, lo que indica que únicamente se han alterado tres caracteres de la palabra original (tres mutaciones), y con ello hemos conseguido que desaparezcan todas las repeticiones en la secuencias de 3 caracteres."
      ],
      "metadata": {
        "id": "ckU3Trud2FZ-"
      }
    },
    {
      "cell_type": "markdown",
      "metadata": {
        "id": "azSIbm_L1xwK"
      },
      "source": [
        "# Day 14\n",
        "## Separar elementos de una lista\n",
        "* Generar una lista de 20 elementos con valores aleatorios donde en términos probables:\n",
        " - el 45% sean números\n",
        " - el 35% sean letras o símbolos\n",
        " - el 20% sean valores booleanos (True, False)\n",
        "* Mostrar la lista generada en pantalla\n",
        "* Separar la lista original en tres listas\n",
        " - una lista con los números\n",
        " - otra lista con las letras y símbolos\n",
        " - y finalmente otra lista con los valores booleanos"
      ]
    },
    {
      "cell_type": "code",
      "execution_count": null,
      "metadata": {
        "id": "R9zU-wvu1xwK",
        "outputId": "1f7bf6b3-9b86-47f9-b96d-0f61ae991731"
      },
      "outputs": [
        {
          "name": "stdout",
          "output_type": "stream",
          "text": [
            "Lista original:     ['9', '2', 'K', False, 'H', '9', '1', '*', 'l', '5', '2', '6', 't', 'M', '+', True, 'S', '6', '0', True]\n",
            "Números:            ['9', '2', '9', '1', '5', '2', '6', '6', '0']\n",
            "Letras y símbolos : ['K', 'H', '*', 'l', 't', 'M', '+', 'S']\n",
            "Booleanos:          [False, True, True]\n"
          ]
        }
      ],
      "source": [
        "# Separar elementos de una lista\n",
        "import random\n",
        "random.seed()\n",
        "digitos = \"0123456789\"\n",
        "letras_simbolos = \"abcdefghijklmnñopqrstuvwxyzABCDEFGHIJKLMNÑOPQRSTUVWXYZºª\\!|@#~€¬·$%&/()=?¿*+{}[].-:_><\"\n",
        "true_false = (True, False)  # tupla\n",
        "lista = []\n",
        "numeros = []\n",
        "letras = []\n",
        "booleanos = []\n",
        "\n",
        "for i in range(20):\n",
        "  rnd = random.random()\n",
        "  if rnd < 0.45:\n",
        "    lista.append(random.choice(digitos))\n",
        "  elif rnd < 0.8:\n",
        "    lista.append(random.choice(letras_simbolos))\n",
        "  else:\n",
        "    lista.append(random.choice(true_false))\n",
        "\n",
        "print(f\"Lista original:     {lista}\")\n",
        "\n",
        "for element in lista:\n",
        "  if str(element) in digitos:\n",
        "    numeros.append(element)\n",
        "  elif str(element) in letras_simbolos:\n",
        "    letras.append(str(element))\n",
        "  else:\n",
        "    booleanos.append(element)\n",
        "\n",
        "print(f\"Números:            {numeros}\")\n",
        "print(f\"Letras y símbolos : {letras}\")\n",
        "print(f\"Booleanos:          {booleanos}\")"
      ]
    },
    {
      "cell_type": "markdown",
      "metadata": {
        "id": "6mKCyXgA1xwL"
      },
      "source": [
        "# Day 15\n",
        "### Numero total de combinaciones con 3 digitos donde num1<num2<num3\n",
        "* Por ejemplo 123 467 serían combinaciones validas y 435 673 no\n",
        "* Se debe dar el numero total de estas combinaciones"
      ]
    },
    {
      "cell_type": "code",
      "execution_count": null,
      "metadata": {
        "id": "ElFWzdVZ1xwL",
        "outputId": "965658ce-588f-41df-e983-dbbb2c57cfaf"
      },
      "outputs": [
        {
          "name": "stdout",
          "output_type": "stream",
          "text": [
            "012 013 014 015 016 017 018 019 023 024 \n",
            "025 026 027 028 029 034 035 036 037 038 \n",
            "039 045 046 047 048 049 056 057 058 059 \n",
            "067 068 069 078 079 089 123 124 125 126 \n",
            "127 128 129 134 135 136 137 138 139 145 \n",
            "146 147 148 149 156 157 158 159 167 168 \n",
            "169 178 179 189 234 235 236 237 238 239 \n",
            "245 246 247 248 249 256 257 258 259 267 \n",
            "268 269 278 279 289 345 346 347 348 349 \n",
            "356 357 358 359 367 368 369 378 379 389 \n",
            "456 457 458 459 467 468 469 478 479 489 \n",
            "567 568 569 578 579 589 678 679 689 789 \n",
            "\n",
            "Existen 120 combinaciones.\n"
          ]
        }
      ],
      "source": [
        "# Numero total de combinaciones con 3 digitos donde num1<num2<num3\n",
        "digitos = \"0123456789\"\n",
        "n = 0    # contador\n",
        "\n",
        "for p in digitos:\n",
        "  for q in digitos:\n",
        "    for r in digitos:\n",
        "      if p<q<r:\n",
        "        salto = \"\"\n",
        "        if not((n+1)%10): salto='\\n'      # salto de línea cada 10 números \n",
        "        print(f\"{p+q+r} {salto}\", end=\"\")\n",
        "        n += 1\n",
        "\n",
        "print(f\"\\nExisten {n} combinaciones.\")"
      ]
    },
    {
      "cell_type": "markdown",
      "metadata": {
        "id": "WWJdltiX1xwM"
      },
      "source": [
        "# Day 16\n",
        "## Comprobador de letras repetidas\n",
        "* Crear una función que recoge un parámetro string\n",
        "* La función debe retornar cuantas veces aparecen las palabras repetidas\n",
        "\n",
        "Ejemplo:\n",
        "\n",
        "String = \"yes yes bye good okay bye okay bye\"\n",
        "\n",
        "Output = \"yes\" 2, \"okay\" 2, \"bye\" 3 "
      ]
    },
    {
      "cell_type": "code",
      "execution_count": null,
      "metadata": {
        "id": "gImU6vxh1xwM",
        "outputId": "f7f849a6-d7fc-4a11-a9f0-0d72c0a576c5"
      },
      "outputs": [
        {
          "name": "stdout",
          "output_type": "stream",
          "text": [
            "['solo', 'tiene', 'derecho', 'mirar', 'otro', 'hacia', 'abajo', 'ayudarle', 'levantarse']\n",
            "La frase inicial tiene 17 palabras y de ellas tienen caracteres repetidos 9 palabras.\n"
          ]
        }
      ],
      "source": [
        "# Comprobador de letras repetidas\n",
        "frase = \"Un hombre sólo tiene derecho a mirar a otro hacia abajo, cuando ha de ayudarle a levantarse.\"  # Gabriel García Márquez\n",
        "\n",
        "def depura(frase):                 # depuramos la frase eliminando signos de puntuación y acentos\n",
        "  frase = frase.replace(',', '')\n",
        "  frase = frase.replace('.', '')\n",
        "  frase = frase.replace('á', 'a')\n",
        "  frase = frase.replace('é', 'e')\n",
        "  frase = frase.replace('í', 'i')\n",
        "  frase = frase.replace('ó', 'o')\n",
        "  frase = frase.replace('ú', 'u')\n",
        "  return frase\n",
        "\n",
        "def caracteres_repetidos(frase):\n",
        "  palabras = []    # lista de palabras con caracteres repetidos\n",
        "  todas = frase.split(' ')\n",
        "  for palabra in todas:\n",
        "    repe = False                     # bandera\n",
        "    for caracter in palabra:\n",
        "      if palabra.count(caracter)>1:\n",
        "        repe = True\n",
        "    if repe:\n",
        "      palabras.append(palabra)\n",
        "  return palabras\n",
        "\n",
        "con_repetidos = caracteres_repetidos(depura(frase))\n",
        "print(con_repetidos)\n",
        "print(f\"La frase inicial tiene {len(frase.split(' '))} palabras y de ellas tienen caracteres repetidos {len(con_repetidos)} palabras.\")"
      ]
    },
    {
      "cell_type": "markdown",
      "source": [
        "# Day 17\n",
        "## Aplicación con JSON\n",
        "* Crear menú para interactuar con un JSON\n",
        "* Ver la información que contiene el JSON\n",
        "* Poder añadir información\n",
        "    * Nuevos alumnos\n",
        "    * Nuevas notas\n",
        "* Poder editar información ya existente\n",
        "* Poder eliminar información\n",
        "* Calcular la nota media automáticamente\n",
        "\n",
        "JSON de ejemplo:\n",
        "```json\n",
        "{\n",
        "\t\"Maria\": {\n",
        "\t\t\"average\": null,\n",
        "\t\t\"grades\": [1.0, 2.5, 5.3, 2.7]\n",
        "\t},\n",
        "\t\"Alberto\": {\n",
        "\t\t\"average\": null,\n",
        "\t\t\"grades\": [9.2, 4.2, 7.9, 1.4]\n",
        "\t},\n",
        "\t\"Victor\": {\n",
        "\t\t\"average\": null,\n",
        "\t\t\"grades\": [9.6, 9.7, 5.1, 7.5]\n",
        "\t},\n",
        "\t\"Tania\": {\n",
        "\t\t\"average\": null,\n",
        "\t\t\"grades\": [7.4, 6.1, 1.2, 3.9]\n",
        "\t}\n",
        "}\n",
        "\n",
        "```"
      ],
      "metadata": {
        "id": "MNhZgdpC3w2t"
      }
    },
    {
      "cell_type": "markdown",
      "source": [
        "# Day 18\n",
        "## Juego de la ultima piedra\n",
        "* Generar un numero aleatorio de piedras. (15-30 por ejemplo)\n",
        "* Hay dos jugadores, en cada turno pueden elegir quitar 1, 2 o 3 piedras, siempre hay que quitar piedras\n",
        "* El jugador que quite la ultima piedra pierde\n",
        "* Uno de los jugadores es la maquina"
      ],
      "metadata": {
        "id": "ZOjyNbO-35Du"
      }
    },
    {
      "cell_type": "markdown",
      "source": [
        "# Day 19\n",
        "## Calcular el determinante\n",
        "* Generar una matriz cuadrada de nº aleatorios de orden n, como en el reto 9, sin que exista una fila o columna con todos los nº = cero\n",
        "* n puede ir de 1 a 100\n",
        "* Crear una función que calcule el determinante (por método de Gauss, haciendo ceros, construyendo una matriz triangular)\n",
        "* Comprobara el resultado con el determinante obtenido con NumPy \n",
        "* Generar matrices hasta encontrar una cuyo determinante sea cero"
      ],
      "metadata": {
        "id": "bIdtHbfP4Cnu"
      }
    },
    {
      "cell_type": "code",
      "source": [
        "import numpy as np\n",
        "from random import random, seed\n",
        "from copy import deepcopy\n",
        "np.random.seed()\n",
        "seed()\n",
        "\n",
        "def matriz(n):  # genera una matriz de orden n con elementos entre -9 y +9 con cierta probabilidad\n",
        "  while True:\n",
        "    m = [[-x if random()<.5 else x for x in np.random.choice(10, n, p=[.25,.20,.16,.12,.09,.07,.05,.03,.02,.01])] for _ in range(n)]\n",
        "    m = np.asarray(m, dtype=float)   # convertimos la matriz en un ndarray, con números que pueden ser float\n",
        "    if np.where(~m.any(axis=0))[0].size == 0 and np.where(~m.any(axis=1))[0].size == 0:  # no puede tener alguna fila o columna con todos ceros\n",
        "      break\n",
        "  return m\n",
        "\n",
        "def determinante(m):\n",
        "  n = len(m[0])\n",
        "  d = 1  # el determinante se inicializa en 1\n",
        "  while n>1:\n",
        "    if abs(m[0][0])<1e-12:  # si pongo m[0][0]==0 se salta los valores muy muy cercanos a cero pero no cero\n",
        "      for i in range(1,n):\n",
        "        if abs(m[i][0]) >= 1e-12:    # si pongo m[i][0] != 0 da problemas con valores muy muy cercanos a cero pero no cero\n",
        "          m[0], m[i] = deepcopy(m[i]), deepcopy(m[0]) # permuta filas\n",
        "          d *= -1  # al permutar dos filas el determinante cambia de signo\n",
        "          break      \n",
        "    for i in range(1,n): # analizando los elementos de la primera columna del index 1 al n\n",
        "      if abs(m[i][0]) >= 1e-12:  # si el primer elemento de una fila es distinto de cero\n",
        "        factor = -m[i][0]/m[0][0]\n",
        "        for j in range(n):\n",
        "          m[i][j] += factor * m[0][j] # El determinante no cambia si se suma a una fila otra fila multiplicada por un factor\n",
        "    d *= m[0][0]\n",
        "    m = deepcopy(m[1:n, 1:n]) # reducimos el tamaño de la matriz eliminando la primera fila y la primera columna\n",
        "    n = len(m[0])\n",
        "  else:\n",
        "    d *= m[0][0]\n",
        "  return d\n",
        "\n",
        "while True:\n",
        "  m = matriz(6)\n",
        "  c = deepcopy(m)  # copia de la matriz original\n",
        "  d = determinante(m)\n",
        "  if abs(d) < 1e-6:\n",
        "    print(\"Determinante con Numpy:\", np.linalg.det(c))\n",
        "    print(\"Determinante con algoritmo:\", d)\n",
        "    print(\"\\n\", c)\n",
        "    break"
      ],
      "metadata": {
        "id": "gBKxsHUgeA-H",
        "outputId": "db5df086-4265-4b64-d48f-1d524a69308a",
        "colab": {
          "base_uri": "https://localhost:8080/"
        }
      },
      "execution_count": null,
      "outputs": [
        {
          "output_type": "stream",
          "name": "stdout",
          "text": [
            "Determinante con Numpy: 0.0\n",
            "Determinante con algoritmo: 0.0\n",
            "\n",
            " [[ 0.  8.  0.  0.  0. -7.]\n",
            " [ 0. -1. -4.  2.  0. -5.]\n",
            " [ 1.  2.  5. -2.  0. -4.]\n",
            " [ 2.  0.  0.  5. -4.  4.]\n",
            " [-1.  0.  3. -2.  0.  3.]\n",
            " [ 0. -5.  0.  2. -2.  0.]]\n"
          ]
        }
      ]
    },
    {
      "cell_type": "markdown",
      "source": [
        "# Day 20\n",
        "## Histograma de la distribución de Poisson\n",
        "* Generar un array con la distrubución de [Poisson](https://en.wikipedia.org/wiki/Poisson_distribution)\n",
        "* El array debe contener un gran numero de elementos, por ejemplo un millón\n",
        "* Probar con diferentes medias (lambda)\n",
        "* Mostrar un grafico con el histograma de frecuencias"
      ],
      "metadata": {
        "id": "Kzu-AL604LBk"
      }
    },
    {
      "cell_type": "markdown",
      "source": [
        "# Day 21\n",
        "## Canguros saltando\n",
        "* Disponemos de dos canguros en un circo que saltan en una pista lineal numerada.\n",
        "* Siempre saltan hacia la derecha, hacia valores positivos, cada vez mayores en la recta\n",
        "* El canguro 1 parte del punto $x_1$ y se mueve con velocidad $v_1$\n",
        "* El canguro 2 parte del punto $x_2$ y se mueve con velocidad $v_2$\n",
        "* Se trata de ver si los dos canguros estén en el mismo lugar al mismo tiempo como parte del espectáculo.\n",
        "* Crearemos la función kangaroo donde si no es posible que los canguros coincidan, devuelve NO, de lo contrario devuelve en que posición $x$ coinciden.\n",
        "* Ejemplo\n",
        " - $x_1=2$\n",
        " - $v_1=1$\n",
        " - $x_2=1$\n",
        " - $v_2=2$\n",
        " - Después de un salto, ambos están en $x=3$, por lo que la respuesta es 1.\n",
        " - Sabemos que coinciden en $x=3$ ya que:\n",
        "   * $x_1 + v_1 = 2 + 1 = 3$\n",
        "   * $x_2 + v_2 = 1 + 2 = 3$\n",
        "* La función kangaroo recibe un único parámetro que es un string con cuatro números separados por un espacio. Los números son $x_1 \\; v_1 \\; x_2 \\; v_2$ en ese orden.\n",
        "* Crear otra función que genere el string con los cuatro valores anteriores para podérselos pasar a la función kangaroo\n",
        "* Rangos de variación\n",
        " - $0 \\leq x_1 < x_2 \\leq 10000$\n",
        " - $1 \\leq v_1 \\leq 10000$\n",
        " - $1 \\leq v_2 \\leq 10000$\n",
        " - todos son valores enteros\n",
        "\n",
        "#### Ejemplo\n",
        "* Los valores de entrada de la función kangaroo, en forma de un string, son\n",
        " - 0 3 4 2\n",
        "\n",
        "<img src=\"https://github.com/seldoncode/AdventOfCode2021/blob/main/kangaroo.png?raw=1\" alt=\"Banana.png\" width=\"600\"/>\n",
        "\n",
        "* De la imagen, está claro que los canguros se encuentran en el mismo lugar (número en la recta numérica) después de la misma cantidad de saltos (4 saltos), e imprimimos 4.\n",
        "\n",
        "#### Ejemplo\n",
        "* Los valores de entrada de la función kangaroo, en forma de un string, son\n",
        " - 0 2 5 3\n",
        "* El segundo canguro tiene una ubicación de inicio que está adelante (más a la derecha) de la ubicación de inicio del primer canguro (es decir, $x_2 > x_1$). Debido a que el segundo canguro se mueve a un ritmo más rápido (es decir, $v_2 > v_1$) y ya está por delante del primer canguro, el primer canguro nunca podrá alcanzarlo. Por lo tanto, imprimimos NO.\n",
        "\n",
        "### Función genera\n",
        "* La función genera crea un string con los cuatro valores $x_1 \\; v_1 \\; x_2 \\; v_2$ en ese orden.\n",
        "* Cada uno de esos valores se puede obtener de una distribución de Poisson o distribución de los grandes números.\n",
        "* Como esta distribución comienza en 0 es ideal para $x_1$ y para $x_2$. En el caso de $v_1$ y para $v_2$ como comienzan en 1, se puede lograr sumando 1 al número aleatorio obtenido de la Poisson.\n",
        "* La distribución de Poisson es una distribución de un solo parámetro que es su media. Obtener esa media usando un número aleatorio entero y pequeño.\n",
        " - Por ejemplo medias que van entre 2 y 9, pueden estar bien."
      ],
      "metadata": {
        "id": "X93m2mdt4MRo"
      }
    },
    {
      "cell_type": "markdown",
      "source": [
        "# Day 22\n",
        "## Calcular la matriz inversa\n",
        "* Dada una matriz cuadrada de orden _n_ calcular la matriz inversa\n",
        "* _n_ puede variar entre 1 y 100\n",
        "* Resolver por tres metodos:\n",
        "    * Con NumPy\n",
        "    * Por Gauss (haciendo ceros)\n",
        "    * Desarollando por el menor complementario"
      ],
      "metadata": {
        "id": "zFL-OUK44RUk"
      }
    },
    {
      "cell_type": "markdown",
      "source": [
        "# Day 23\n",
        "## Resolver un sistema de ecuaciones de solución única\n",
        "* El sistema de ecuaciones tiene el mismo numero de incógnitas que de ecuaciones (_n_)\n",
        "* El determinante de la matriz de coeficientes es distinto de 0 para que tenga solución única"
      ],
      "metadata": {
        "id": "GdL8weaX4WkO"
      }
    },
    {
      "cell_type": "markdown",
      "source": [
        "# Day 24\n",
        "## Calcular la TIR de una inversión\n",
        "* Dada una inversión con una serie de flujos de caja anuales, calcular la TIR ([IRR](https://en.wikipedia.org/wiki/Internal_rate_of_return) en inglés) por varios métodos:\n",
        " - Usando alguna librería\n",
        " - Crear una función que calcula la TIR por aproximaciones sucesivas, usando cálculo numérico\n",
        "* Crear una función que genera una inversión con posible flujos de caja para luego poder pasar estos flujos de caja a la otra función y obtener la TIR\n",
        "* Ejemplo\n",
        " - La TIR de la siguiente operación de inversión es del 10% anual.\n",
        "\n",
        "| Años | Flujos de caja |\n",
        "| :---: | :-: |\n",
        "| 0 | -4.000 |\n",
        "| 1 | 1.400 |\n",
        "| 2 | 1.300 |\n",
        "| 3 | 1.200 |\n",
        "| 4 | 1.100 |"
      ],
      "metadata": {
        "id": "3qJ0z6LX4pii"
      }
    },
    {
      "cell_type": "markdown",
      "source": [
        "# Day 25\n",
        "## Óptimos de Pareto\n",
        "* Generar $n$ parejas de números aleatorios $(x,y)$, donde cada pareja representa un punto del plano\n",
        " - $n$ pueden ser por ejemplo 50 parejas\n",
        " - x e y pueden ser números aleatorios con decimales, entre 0 y 1\n",
        "* Considerar que la coordenada x representa la producción del bien A\n",
        "* Considerar que la coordenada y representa la producción del bien B\n",
        "* Generar diferentes conjuntos de $n$ puntos aleatorios hasta llegar a obtener un caso donde de ellos $m$ puntos sean óptimos de Pareto\n",
        " - donde $m<n$\n",
        " - siendo $m$, por ejemplo, 16 puntos del plano\n",
        "* El óptimo de pareto se alcanza maximizando la producción de los bienes A y B\n",
        "* Representar los $n$ puntos en el plano, diferenciando con otro color los $m$ puntos óptios de Pareto.\n",
        "\n",
        "<img src=\"https://github.com/seldoncode/AdventOfCode2021/blob/main/pareto16.png?raw=1\" alt=\"pareto.png\" width=\"480\"/>"
      ],
      "metadata": {
        "id": "VW8ba2rI4rEG"
      }
    }
  ],
  "metadata": {
    "interpreter": {
      "hash": "916dbcbb3f70747c44a77c7bcd40155683ae19c65e1c03b4aa3499c5328201f1"
    },
    "kernelspec": {
      "display_name": "Python 3.8.10 64-bit",
      "language": "python",
      "name": "python3"
    },
    "language_info": {
      "codemirror_mode": {
        "name": "ipython",
        "version": 3
      },
      "file_extension": ".py",
      "mimetype": "text/x-python",
      "name": "python",
      "nbconvert_exporter": "python",
      "pygments_lexer": "ipython3",
      "version": "3.8.10"
    },
    "orig_nbformat": 4,
    "colab": {
      "name": "retos_solucion.ipynb",
      "provenance": [],
      "include_colab_link": true
    }
  },
  "nbformat": 4,
  "nbformat_minor": 0
}