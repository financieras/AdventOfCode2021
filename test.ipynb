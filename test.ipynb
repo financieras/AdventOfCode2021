{
  "nbformat": 4,
  "nbformat_minor": 0,
  "metadata": {
    "colab": {
      "provenance": [],
      "authorship_tag": "ABX9TyOQQBh1WuVdamAAnLIlkxrR",
      "include_colab_link": true
    },
    "kernelspec": {
      "name": "python3",
      "display_name": "Python 3"
    },
    "language_info": {
      "name": "python"
    }
  },
  "cells": [
    {
      "cell_type": "markdown",
      "metadata": {
        "id": "view-in-github",
        "colab_type": "text"
      },
      "source": [
        "<a href=\"https://colab.research.google.com/github/financieras/AdventOfCode2021/blob/master/test.ipynb\" target=\"_parent\"><img src=\"https://colab.research.google.com/assets/colab-badge.svg\" alt=\"Open In Colab\"/></a>"
      ]
    },
    {
      "cell_type": "markdown",
      "source": [
        "<pre><code></code></pre>"
      ],
      "metadata": {
        "id": "ELsncyeog963"
      }
    },
    {
      "cell_type": "markdown",
      "source": [
        "Nos gustaría crear una función en Python que reciba dos parámetros x e y y que retorne True si son iguales y además sus tipos también son iguales, en caso contrario retornaría False.\n",
        "\n",
        "¿Cuál de los siguientes códigos logra este objetivo?"
      ],
      "metadata": {
        "id": "AJWB3_Jziwwe"
      }
    },
    {
      "cell_type": "code",
      "source": [
        "def son_iguales(x, y):\n",
        "    return x is y\n",
        "\n",
        "print(son_iguales(4, 5-1))      # valor esperado: True\n",
        "print(son_iguales(4, 8//2))     # valor esperado: True\n",
        "print(son_iguales(4, 8/2))      # valor esperado: False. 8/2 es 4.0 que es float\n",
        "print(son_iguales(4.0, 8/2))    # valor esperado: False. ambos son float"
      ],
      "metadata": {
        "colab": {
          "base_uri": "https://localhost:8080/"
        },
        "id": "s1BM_cSGixdW",
        "outputId": "c8ceb36f-b914-4c41-f53f-8227ef5293d9"
      },
      "execution_count": null,
      "outputs": [
        {
          "output_type": "stream",
          "name": "stdout",
          "text": [
            "True\n",
            "True\n",
            "False\n",
            "True\n"
          ]
        }
      ]
    },
    {
      "cell_type": "code",
      "source": [
        "def son_iguales(x, y):\n",
        "    return x is not y\n",
        "\n",
        "print(son_iguales(4, 5-1))      # valor esperado: True\n",
        "print(son_iguales(4, 8//2))     # valor esperado: True\n",
        "print(son_iguales(4, 8/2))      # valor esperado: False. 8/2 es 4.0 que es float\n",
        "print(son_iguales(4.0, 8/2))    # valor esperado: False. ambos son float"
      ],
      "metadata": {
        "outputId": "e7932383-387b-4f5b-de76-e3ca963c3a51",
        "colab": {
          "base_uri": "https://localhost:8080/"
        },
        "id": "YjvCJdlukVcX"
      },
      "execution_count": null,
      "outputs": [
        {
          "output_type": "stream",
          "name": "stdout",
          "text": [
            "False\n",
            "False\n",
            "True\n",
            "False\n"
          ]
        }
      ]
    },
    {
      "cell_type": "code",
      "source": [
        "def son_iguales(x, y):\n",
        "    return x == y\n",
        "\n",
        "print(son_iguales(4, 5-1))      # valor esperado: True\n",
        "print(son_iguales(4, 8//2))     # valor esperado: True\n",
        "print(son_iguales(4, 8/2))      # valor esperado: False. 8/2 es 4.0 que es float\n",
        "print(son_iguales(4.0, 8/2))    # valor esperado: False. ambos son float"
      ],
      "metadata": {
        "outputId": "9bf2f101-e48a-4b35-cf79-7c1f4ee63b8a",
        "colab": {
          "base_uri": "https://localhost:8080/"
        },
        "id": "ngZnNNZQkViH"
      },
      "execution_count": null,
      "outputs": [
        {
          "output_type": "stream",
          "name": "stdout",
          "text": [
            "True\n",
            "True\n",
            "True\n",
            "True\n"
          ]
        }
      ]
    },
    {
      "cell_type": "code",
      "source": [
        "def son_iguales(x, y):\n",
        "    return x != y\n",
        "\n",
        "print(son_iguales(4, 5-1))      # valor esperado: True\n",
        "print(son_iguales(4, 8//2))     # valor esperado: True\n",
        "print(son_iguales(4, 8/2))      # valor esperado: False. 8/2 es 4.0 que es float\n",
        "print(son_iguales(4.0, 8/2))    # valor esperado: False. ambos son float"
      ],
      "metadata": {
        "outputId": "359e5bd4-6fa3-4dbb-d50e-ea9c6f74faa4",
        "colab": {
          "base_uri": "https://localhost:8080/"
        },
        "id": "lMcRRuMRkVoe"
      },
      "execution_count": null,
      "outputs": [
        {
          "output_type": "stream",
          "name": "stdout",
          "text": [
            "False\n",
            "False\n",
            "False\n",
            "False\n"
          ]
        }
      ]
    },
    {
      "cell_type": "code",
      "source": [
        "def son_iguales(x, y):\n",
        "    return x is y and type(x) != type(y)\n",
        "\n",
        "print(son_iguales(4, 5-1))      # valor esperado: True\n",
        "print(son_iguales(4, 8//2))     # valor esperado: True\n",
        "print(son_iguales(4, 8/2))      # valor esperado: False. 8/2 es 4.0 que es float\n",
        "print(son_iguales(4.0, 8/2))    # valor esperado: False. ambos son float"
      ],
      "metadata": {
        "id": "jS_oR7lsmsOo",
        "outputId": "9b445393-5395-4528-e6c2-125fec867e5d",
        "colab": {
          "base_uri": "https://localhost:8080/"
        }
      },
      "execution_count": null,
      "outputs": [
        {
          "output_type": "stream",
          "name": "stdout",
          "text": [
            "False\n",
            "False\n",
            "False\n",
            "False\n"
          ]
        }
      ]
    },
    {
      "cell_type": "code",
      "source": [
        "def son_iguales(x, y):\n",
        "    return x == y and type(x) != type(y)\n",
        "\n",
        "\n",
        "print(son_iguales(4, 5-1))      # valor esperado: True\n",
        "print(son_iguales(4, 8//2))     # valor esperado: True\n",
        "print(son_iguales(4, 8/2))      # valor esperado: False. 8/2 es 4.0 que es float\n",
        "print(son_iguales(4.0, 8/2))    # valor esperado: False. ambos son float"
      ],
      "metadata": {
        "id": "xpH8M_m9nDtc",
        "outputId": "5d704544-4da2-42b7-89dc-c8afed1062cc",
        "colab": {
          "base_uri": "https://localhost:8080/"
        }
      },
      "execution_count": null,
      "outputs": [
        {
          "output_type": "stream",
          "name": "stdout",
          "text": [
            "False\n",
            "False\n",
            "True\n",
            "False\n"
          ]
        }
      ]
    },
    {
      "cell_type": "code",
      "source": [
        "def son_iguales(x, y):\n",
        "    return x is y and type(x) == type(y)\n",
        "\n",
        "\n",
        "print(son_iguales(4, 5-1))      # valor esperado: True\n",
        "print(son_iguales(4, 8//2))     # valor esperado: True\n",
        "print(son_iguales(4, 8/2))      # valor esperado: False. 8/2 es 4.0 que es float\n",
        "print(son_iguales(4.0, 8/2))    # valor esperado: False. ambos son float"
      ],
      "metadata": {
        "id": "tLLaO4iJnO_f",
        "outputId": "01315b8c-6ba3-4f57-caff-86f865e25330",
        "colab": {
          "base_uri": "https://localhost:8080/"
        }
      },
      "execution_count": null,
      "outputs": [
        {
          "output_type": "stream",
          "name": "stdout",
          "text": [
            "True\n",
            "True\n",
            "False\n",
            "True\n"
          ]
        }
      ]
    },
    {
      "cell_type": "markdown",
      "source": [
        "Dado una array de números enteros decir si alguno de los números es 10 o si la suma de dos números consecutivos del array es 10."
      ],
      "metadata": {
        "id": "k4IqeMekn0EH"
      }
    },
    {
      "cell_type": "code",
      "source": [
        "array1 = [1,2,3,4,5,11]\n",
        "array2 = [1,2,3,4,5,10]\n",
        "array3 = [1,2,3,4,6,5]\n",
        "\n",
        "def localiza_diez(arr):\n",
        "    for num in arr:\n",
        "        if num == 10:\n",
        "            return True\n",
        "    for i in range(len(arr)-1):\n",
        "        if arr[i] + arr[i+1] == 10:\n",
        "            return True\n",
        "    return False\n",
        "\n",
        "print(localiza_diez(array1))    # valor esperado: False\n",
        "print(localiza_diez(array2))    # valor esperado: True (hay un 10)\n",
        "print(localiza_diez(array3))    # valor esperado: True (4+6=10)\n"
      ],
      "metadata": {
        "id": "kwm7FmR4oGO0",
        "outputId": "a817d94d-c463-4465-84a7-bb838a601bf5",
        "colab": {
          "base_uri": "https://localhost:8080/"
        }
      },
      "execution_count": null,
      "outputs": [
        {
          "output_type": "stream",
          "name": "stdout",
          "text": [
            "False\n",
            "True\n",
            "True\n"
          ]
        }
      ]
    },
    {
      "cell_type": "code",
      "source": [
        "def contiene_diez(arr):\n",
        "    return 10 in arr\n",
        "\n",
        "def suma_consecutiva_diez(arr):\n",
        "    for i in range(len(arr)-1):\n",
        "        if arr[i] + arr[i+1] == 10:\n",
        "            return True\n",
        "    return False\n",
        "\n",
        "def localiza_diez(arr):\n",
        "    return contiene_diez(arr) or suma_consecutiva_diez(arr)\n",
        "\n",
        "array1 = [1, 2, 3, 4, 5, 11]\n",
        "array2 = [1, 2, 3, 4, 5, 10]\n",
        "array3 = [1, 2, 3, 4, 6, 5]\n",
        "\n",
        "print(localiza_diez(array1))    # valor esperado: False\n",
        "print(localiza_diez(array2))    # valor esperado: True (hay un 10)\n",
        "print(localiza_diez(array3))    # valor esperado: True (4+6=10)\n"
      ],
      "metadata": {
        "colab": {
          "base_uri": "https://localhost:8080/"
        },
        "id": "tkyp0rDIq_41",
        "outputId": "a4cd9cba-0619-4806-8dd1-514b534da61c"
      },
      "execution_count": null,
      "outputs": [
        {
          "output_type": "stream",
          "name": "stdout",
          "text": [
            "False\n",
            "True\n",
            "True\n"
          ]
        }
      ]
    },
    {
      "cell_type": "code",
      "source": [
        "array1 = [1,2,3,4,5,11]\n",
        "array2 = [1,2,3,4,5,10]\n",
        "array3 = [1,2,3,4,6,5]\n",
        "\n",
        "def localiza_diez(arr):\n",
        "    for num in arr:\n",
        "        if num in 10:\n",
        "            return True\n",
        "    for i in range(len(arr)-1):\n",
        "        if arr[i] + arr[i+1] == 10:\n",
        "            return True\n",
        "    return False\n",
        "\n",
        "print(localiza_diez(array1))    # valor esperado: False\n",
        "print(localiza_diez(array2))    # valor esperado: True (hay un 10)\n",
        "print(localiza_diez(array3))    # valor esperado: True (4+6=10)"
      ],
      "metadata": {
        "colab": {
          "base_uri": "https://localhost:8080/",
          "height": 376
        },
        "id": "o1Rd_NoNtXlW",
        "outputId": "8841979e-16b8-45c9-a2dd-3c70cccaff57"
      },
      "execution_count": null,
      "outputs": [
        {
          "output_type": "error",
          "ename": "TypeError",
          "evalue": "argument of type 'int' is not iterable",
          "traceback": [
            "\u001b[0;31m---------------------------------------------------------------------------\u001b[0m",
            "\u001b[0;31mTypeError\u001b[0m                                 Traceback (most recent call last)",
            "\u001b[0;32m<ipython-input-18-69e57d1dda51>\u001b[0m in \u001b[0;36m<cell line: 14>\u001b[0;34m()\u001b[0m\n\u001b[1;32m     12\u001b[0m     \u001b[0;32mreturn\u001b[0m \u001b[0;32mFalse\u001b[0m\u001b[0;34m\u001b[0m\u001b[0;34m\u001b[0m\u001b[0m\n\u001b[1;32m     13\u001b[0m \u001b[0;34m\u001b[0m\u001b[0m\n\u001b[0;32m---> 14\u001b[0;31m \u001b[0mprint\u001b[0m\u001b[0;34m(\u001b[0m\u001b[0mlocaliza_diez\u001b[0m\u001b[0;34m(\u001b[0m\u001b[0marray1\u001b[0m\u001b[0;34m)\u001b[0m\u001b[0;34m)\u001b[0m    \u001b[0;31m# valor esperado: False\u001b[0m\u001b[0;34m\u001b[0m\u001b[0;34m\u001b[0m\u001b[0m\n\u001b[0m\u001b[1;32m     15\u001b[0m \u001b[0mprint\u001b[0m\u001b[0;34m(\u001b[0m\u001b[0mlocaliza_diez\u001b[0m\u001b[0;34m(\u001b[0m\u001b[0marray2\u001b[0m\u001b[0;34m)\u001b[0m\u001b[0;34m)\u001b[0m    \u001b[0;31m# valor esperado: True (hay un 10)\u001b[0m\u001b[0;34m\u001b[0m\u001b[0;34m\u001b[0m\u001b[0m\n\u001b[1;32m     16\u001b[0m \u001b[0mprint\u001b[0m\u001b[0;34m(\u001b[0m\u001b[0mlocaliza_diez\u001b[0m\u001b[0;34m(\u001b[0m\u001b[0marray3\u001b[0m\u001b[0;34m)\u001b[0m\u001b[0;34m)\u001b[0m    \u001b[0;31m# valor esperado: True (4+6=10)\u001b[0m\u001b[0;34m\u001b[0m\u001b[0;34m\u001b[0m\u001b[0m\n",
            "\u001b[0;32m<ipython-input-18-69e57d1dda51>\u001b[0m in \u001b[0;36mlocaliza_diez\u001b[0;34m(arr)\u001b[0m\n\u001b[1;32m      5\u001b[0m \u001b[0;32mdef\u001b[0m \u001b[0mlocaliza_diez\u001b[0m\u001b[0;34m(\u001b[0m\u001b[0marr\u001b[0m\u001b[0;34m)\u001b[0m\u001b[0;34m:\u001b[0m\u001b[0;34m\u001b[0m\u001b[0;34m\u001b[0m\u001b[0m\n\u001b[1;32m      6\u001b[0m     \u001b[0;32mfor\u001b[0m \u001b[0mnum\u001b[0m \u001b[0;32min\u001b[0m \u001b[0marr\u001b[0m\u001b[0;34m:\u001b[0m\u001b[0;34m\u001b[0m\u001b[0;34m\u001b[0m\u001b[0m\n\u001b[0;32m----> 7\u001b[0;31m         \u001b[0;32mif\u001b[0m \u001b[0mnum\u001b[0m \u001b[0;32min\u001b[0m \u001b[0;36m10\u001b[0m\u001b[0;34m:\u001b[0m\u001b[0;34m\u001b[0m\u001b[0;34m\u001b[0m\u001b[0m\n\u001b[0m\u001b[1;32m      8\u001b[0m             \u001b[0;32mreturn\u001b[0m \u001b[0;32mTrue\u001b[0m\u001b[0;34m\u001b[0m\u001b[0;34m\u001b[0m\u001b[0m\n\u001b[1;32m      9\u001b[0m     \u001b[0;32mfor\u001b[0m \u001b[0mi\u001b[0m \u001b[0;32min\u001b[0m \u001b[0mrange\u001b[0m\u001b[0;34m(\u001b[0m\u001b[0mlen\u001b[0m\u001b[0;34m(\u001b[0m\u001b[0marr\u001b[0m\u001b[0;34m)\u001b[0m\u001b[0;34m-\u001b[0m\u001b[0;36m1\u001b[0m\u001b[0;34m)\u001b[0m\u001b[0;34m:\u001b[0m\u001b[0;34m\u001b[0m\u001b[0;34m\u001b[0m\u001b[0m\n",
            "\u001b[0;31mTypeError\u001b[0m: argument of type 'int' is not iterable"
          ]
        }
      ]
    },
    {
      "cell_type": "code",
      "source": [
        "array1 = [1,2,3,4,5,11]\n",
        "array2 = [1,2,3,4,5,10]\n",
        "array3 = [1,2,3,4,6,5]\n",
        "\n",
        "def localiza_diez(arr):\n",
        "    for num in arr:\n",
        "        if num is 10:\n",
        "            return True\n",
        "    for i in range(len(arr)+1):\n",
        "        if arr[i] + arr[i+1] == 10:\n",
        "            return True\n",
        "    return False\n",
        "\n",
        "print(localiza_diez(array1))    # valor esperado: False\n",
        "print(localiza_diez(array2))    # valor esperado: True (hay un 10)\n",
        "print(localiza_diez(array3))    # valor esperado: True (4+6=10)"
      ],
      "metadata": {
        "outputId": "8b32bd8a-272e-4bde-d874-077f07a81688",
        "colab": {
          "base_uri": "https://localhost:8080/",
          "height": 448
        },
        "id": "bJAqVRvDtyuI"
      },
      "execution_count": null,
      "outputs": [
        {
          "output_type": "stream",
          "name": "stderr",
          "text": [
            "<>:7: SyntaxWarning: \"is\" with a literal. Did you mean \"==\"?\n",
            "<>:7: SyntaxWarning: \"is\" with a literal. Did you mean \"==\"?\n",
            "<ipython-input-20-39bbd5d827c3>:7: SyntaxWarning: \"is\" with a literal. Did you mean \"==\"?\n",
            "  if num is 10:\n"
          ]
        },
        {
          "output_type": "error",
          "ename": "IndexError",
          "evalue": "list index out of range",
          "traceback": [
            "\u001b[0;31m---------------------------------------------------------------------------\u001b[0m",
            "\u001b[0;31mIndexError\u001b[0m                                Traceback (most recent call last)",
            "\u001b[0;32m<ipython-input-20-39bbd5d827c3>\u001b[0m in \u001b[0;36m<cell line: 14>\u001b[0;34m()\u001b[0m\n\u001b[1;32m     12\u001b[0m     \u001b[0;32mreturn\u001b[0m \u001b[0;32mFalse\u001b[0m\u001b[0;34m\u001b[0m\u001b[0;34m\u001b[0m\u001b[0m\n\u001b[1;32m     13\u001b[0m \u001b[0;34m\u001b[0m\u001b[0m\n\u001b[0;32m---> 14\u001b[0;31m \u001b[0mprint\u001b[0m\u001b[0;34m(\u001b[0m\u001b[0mlocaliza_diez\u001b[0m\u001b[0;34m(\u001b[0m\u001b[0marray1\u001b[0m\u001b[0;34m)\u001b[0m\u001b[0;34m)\u001b[0m    \u001b[0;31m# valor esperado: False\u001b[0m\u001b[0;34m\u001b[0m\u001b[0;34m\u001b[0m\u001b[0m\n\u001b[0m\u001b[1;32m     15\u001b[0m \u001b[0mprint\u001b[0m\u001b[0;34m(\u001b[0m\u001b[0mlocaliza_diez\u001b[0m\u001b[0;34m(\u001b[0m\u001b[0marray2\u001b[0m\u001b[0;34m)\u001b[0m\u001b[0;34m)\u001b[0m    \u001b[0;31m# valor esperado: True (hay un 10)\u001b[0m\u001b[0;34m\u001b[0m\u001b[0;34m\u001b[0m\u001b[0m\n\u001b[1;32m     16\u001b[0m \u001b[0mprint\u001b[0m\u001b[0;34m(\u001b[0m\u001b[0mlocaliza_diez\u001b[0m\u001b[0;34m(\u001b[0m\u001b[0marray3\u001b[0m\u001b[0;34m)\u001b[0m\u001b[0;34m)\u001b[0m    \u001b[0;31m# valor esperado: True (4+6=10)\u001b[0m\u001b[0;34m\u001b[0m\u001b[0;34m\u001b[0m\u001b[0m\n",
            "\u001b[0;32m<ipython-input-20-39bbd5d827c3>\u001b[0m in \u001b[0;36mlocaliza_diez\u001b[0;34m(arr)\u001b[0m\n\u001b[1;32m      8\u001b[0m             \u001b[0;32mreturn\u001b[0m \u001b[0;32mTrue\u001b[0m\u001b[0;34m\u001b[0m\u001b[0;34m\u001b[0m\u001b[0m\n\u001b[1;32m      9\u001b[0m     \u001b[0;32mfor\u001b[0m \u001b[0mi\u001b[0m \u001b[0;32min\u001b[0m \u001b[0mrange\u001b[0m\u001b[0;34m(\u001b[0m\u001b[0mlen\u001b[0m\u001b[0;34m(\u001b[0m\u001b[0marr\u001b[0m\u001b[0;34m)\u001b[0m\u001b[0;34m+\u001b[0m\u001b[0;36m1\u001b[0m\u001b[0;34m)\u001b[0m\u001b[0;34m:\u001b[0m\u001b[0;34m\u001b[0m\u001b[0;34m\u001b[0m\u001b[0m\n\u001b[0;32m---> 10\u001b[0;31m         \u001b[0;32mif\u001b[0m \u001b[0marr\u001b[0m\u001b[0;34m[\u001b[0m\u001b[0mi\u001b[0m\u001b[0;34m]\u001b[0m \u001b[0;34m+\u001b[0m \u001b[0marr\u001b[0m\u001b[0;34m[\u001b[0m\u001b[0mi\u001b[0m\u001b[0;34m+\u001b[0m\u001b[0;36m1\u001b[0m\u001b[0;34m]\u001b[0m \u001b[0;34m==\u001b[0m \u001b[0;36m10\u001b[0m\u001b[0;34m:\u001b[0m\u001b[0;34m\u001b[0m\u001b[0;34m\u001b[0m\u001b[0m\n\u001b[0m\u001b[1;32m     11\u001b[0m             \u001b[0;32mreturn\u001b[0m \u001b[0;32mTrue\u001b[0m\u001b[0;34m\u001b[0m\u001b[0;34m\u001b[0m\u001b[0m\n\u001b[1;32m     12\u001b[0m     \u001b[0;32mreturn\u001b[0m \u001b[0;32mFalse\u001b[0m\u001b[0;34m\u001b[0m\u001b[0;34m\u001b[0m\u001b[0m\n",
            "\u001b[0;31mIndexError\u001b[0m: list index out of range"
          ]
        }
      ]
    },
    {
      "cell_type": "code",
      "source": [
        "def contiene_diez(arr):\n",
        "    return 10 is arr\n",
        "\n",
        "def suma_consecutiva_diez(arr):\n",
        "    for i in range(len(arr)-1):\n",
        "        if arr[i] + arr[i+1] == 10:\n",
        "            return True\n",
        "    return False\n",
        "\n",
        "def localiza_diez(arr):\n",
        "    return contiene_diez(arr) or suma_consecutiva_diez(arr)\n",
        "\n",
        "array1 = [1, 2, 3, 4, 5, 11]\n",
        "array2 = [1, 2, 3, 4, 5, 10]\n",
        "array3 = [1, 2, 3, 4, 6, 5]\n",
        "\n",
        "print(localiza_diez(array1))    # valor esperado: False\n",
        "print(localiza_diez(array2))    # valor esperado: True (hay un 10)\n",
        "print(localiza_diez(array3))    # valor esperado: True (4+6=10)\n"
      ],
      "metadata": {
        "outputId": "5cdc8cdf-d31e-415a-f645-c4cde0bb59a6",
        "colab": {
          "base_uri": "https://localhost:8080/"
        },
        "id": "S2Fyjr5tt_e_"
      },
      "execution_count": null,
      "outputs": [
        {
          "output_type": "stream",
          "name": "stdout",
          "text": [
            "False\n",
            "False\n",
            "True\n"
          ]
        },
        {
          "output_type": "stream",
          "name": "stderr",
          "text": [
            "<>:2: SyntaxWarning: \"is\" with a literal. Did you mean \"==\"?\n",
            "<>:2: SyntaxWarning: \"is\" with a literal. Did you mean \"==\"?\n",
            "<ipython-input-21-3355d4c86458>:2: SyntaxWarning: \"is\" with a literal. Did you mean \"==\"?\n",
            "  return 10 is arr\n"
          ]
        }
      ]
    },
    {
      "cell_type": "markdown",
      "source": [
        "Nos gustaría que dado un array de números enteros imprimir True si todos ellos son divisibles por 5, en caso contrario imprimir False.\n",
        "\n",
        "Por ejemplo, para la lista [5, -55, 45, 60] se ha de imprimir True ya que todos los números son divisibles por 5.\n",
        "\n",
        "Otro ejemplo, para la lista [-15, 17, 50, 555 ] se ha de imprimir False ya que 17 no es divisible entre 5, por lo que no todos lo son.\n",
        "\n",
        "Indique cuál de los siguientes códigos de Python logra realizar correctamente este objetivo."
      ],
      "metadata": {
        "id": "453RfAuXSgP2"
      }
    },
    {
      "cell_type": "code",
      "source": [
        "lista1 = [5, -55, 45, 60]\n",
        "lista2 = [-15, 17, 50, 555]\n",
        "\n",
        "def todos(lista):\n",
        "    return all(num % 5 == 0 for num in lista)\n",
        "\n",
        "print(f\"En la lista1 ¿son todos divisibles por cinco?: {todos(lista1)}.\")\n",
        "print(f\"En la lista2 ¿son todos divisibles por cinco?: {todos(lista2)}.\")"
      ],
      "metadata": {
        "id": "5sh0SuyBShKd",
        "outputId": "5ef53237-0d20-4709-dd41-0200e4e8760b",
        "colab": {
          "base_uri": "https://localhost:8080/"
        }
      },
      "execution_count": null,
      "outputs": [
        {
          "output_type": "stream",
          "name": "stdout",
          "text": [
            "En la lista1 ¿son todos divisibles por cinco?: True.\n",
            "En la lista2 ¿son todos divisibles por cinco?: False.\n"
          ]
        }
      ]
    },
    {
      "cell_type": "code",
      "source": [
        "lista1 = [5, -55, 45, 60]\n",
        "lista2 = [-15, 17, 50, 555]\n",
        "\n",
        "def todos(lista):\n",
        "    return any(num % 5 == 0 for num in lista)\n",
        "\n",
        "print(f\"En la lista1 ¿son todos divisibles por cinco?: {todos(lista1)}.\")\n",
        "print(f\"En la lista2 ¿son todos divisibles por cinco?: {todos(lista2)}.\")"
      ],
      "metadata": {
        "id": "P0znBRBVT2Zl",
        "outputId": "b69e41a8-818a-469b-d027-f5139d6ef39c",
        "colab": {
          "base_uri": "https://localhost:8080/"
        }
      },
      "execution_count": null,
      "outputs": [
        {
          "output_type": "stream",
          "name": "stdout",
          "text": [
            "En la lista1 ¿son todos divisibles por cinco?: True.\n",
            "En la lista2 ¿son todos divisibles por cinco?: True.\n"
          ]
        }
      ]
    },
    {
      "cell_type": "code",
      "source": [
        "lista1 = [5, -55, 45, 60]\n",
        "lista2 = [-15, 17, 50, 555]\n",
        "\n",
        "def todos(lista):\n",
        "    for num in lista:\n",
        "        if num % 5 == 0:\n",
        "            return False\n",
        "    return True\n",
        "\n",
        "print(f\"En la lista1 ¿son todos divisibles por cinco?: {todos(lista1)}.\")\n",
        "print(f\"En la lista2 ¿son todos divisibles por cinco?: {todos(lista2)}.\")"
      ],
      "metadata": {
        "id": "EVhuiVWIT-Yo",
        "outputId": "186ef021-b4ab-46d8-ff5f-c00837eec68b",
        "colab": {
          "base_uri": "https://localhost:8080/"
        }
      },
      "execution_count": null,
      "outputs": [
        {
          "output_type": "stream",
          "name": "stdout",
          "text": [
            "En la lista1 ¿son todos divisibles por cinco?: False.\n",
            "En la lista2 ¿son todos divisibles por cinco?: False.\n"
          ]
        }
      ]
    },
    {
      "cell_type": "code",
      "source": [
        "lista1 = [5, -55, 45, 60]\n",
        "lista2 = [-15, 17, 50, 555]\n",
        "\n",
        "def todos(lista):\n",
        "    for num in lista:\n",
        "        if num / 5 == num // 5:\n",
        "            return False\n",
        "    return True\n",
        "\n",
        "print(f\"En la lista1 ¿son todos divisibles por cinco?: {todos(lista1)}.\")\n",
        "print(f\"En la lista2 ¿son todos divisibles por cinco?: {todos(lista2)}.\")"
      ],
      "metadata": {
        "id": "2sX9TWohUSRp",
        "outputId": "7ecb488e-de10-4dd3-8f10-635793f1459e",
        "colab": {
          "base_uri": "https://localhost:8080/"
        }
      },
      "execution_count": null,
      "outputs": [
        {
          "output_type": "stream",
          "name": "stdout",
          "text": [
            "En la lista1 ¿son todos divisibles por cinco?: False.\n",
            "En la lista2 ¿son todos divisibles por cinco?: False.\n"
          ]
        }
      ]
    },
    {
      "cell_type": "code",
      "source": [
        "lista1 = [5, -55, 45, 60]\n",
        "lista2 = [-15, 17, 50, 555]\n",
        "\n",
        "def todos(lista):\n",
        "    for num in lista:\n",
        "        if num / 5 != num // 5:\n",
        "            return False\n",
        "    return True\n",
        "\n",
        "print(f\"En la lista1 ¿son todos divisibles por cinco?: {todos(lista1)}.\")\n",
        "print(f\"En la lista2 ¿son todos divisibles por cinco?: {todos(lista2)}.\")"
      ],
      "metadata": {
        "id": "RSDCMmLtWV2L",
        "outputId": "aabb137c-39d4-4251-9265-351a1021b2fe",
        "colab": {
          "base_uri": "https://localhost:8080/"
        }
      },
      "execution_count": null,
      "outputs": [
        {
          "output_type": "stream",
          "name": "stdout",
          "text": [
            "En la lista1 ¿son todos divisibles por cinco?: True.\n",
            "En la lista2 ¿son todos divisibles por cinco?: False.\n"
          ]
        }
      ]
    },
    {
      "cell_type": "code",
      "source": [
        "lista1 = [5, -55, 45, 60]\n",
        "lista2 = [-15, 17, 50, 555]\n",
        "\n",
        "def todos(lista):\n",
        "    return all(num % 5 for num in lista)\n",
        "\n",
        "print(f\"En la lista1 ¿son todos divisibles por cinco?: {todos(lista1)}.\")\n",
        "print(f\"En la lista2 ¿son todos divisibles por cinco?: {todos(lista2)}.\")"
      ],
      "metadata": {
        "id": "Rc6lJRAnWrFk",
        "outputId": "3a5842f3-cfd4-45bb-b7ed-c34421a441d6",
        "colab": {
          "base_uri": "https://localhost:8080/"
        }
      },
      "execution_count": null,
      "outputs": [
        {
          "output_type": "stream",
          "name": "stdout",
          "text": [
            "En la lista1 ¿son todos divisibles por cinco?: False.\n",
            "En la lista2 ¿son todos divisibles por cinco?: False.\n"
          ]
        }
      ]
    },
    {
      "cell_type": "markdown",
      "source": [
        "He realizado una compra de artículos y he anotado su precio antes de aplicar el 21% de IVA (Impuesto sobre el Valor Añadido).\n",
        "\n",
        "Este es el array con los precios antes de impuestos:\n",
        "[80, 90, 500, 40, 700, 75]\n",
        "\n",
        "Tengo instrucciones de eliminar del carro de compra y por lo tanto del array los artículos cuyo impuesto por IVA sea mayor o igual a 100 €.\n",
        "\n",
        "El array del ejemplo anterior se retornaría así:\n",
        "[80, 90, 40, 75]\n",
        "puesto que:\n",
        "\n",
        "    1. el IVA de 500 € es 21% x 500 = 105 €\n",
        "    2. el IVA de 700 € es 21% x 700 = 147 €"
      ],
      "metadata": {
        "id": "66sbvrx4XHWV"
      }
    },
    {
      "cell_type": "code",
      "source": [
        "lista = [80, 90, 500, 40, 700, 75]\n",
        "\n",
        "def filtra_impuestos(lista):\n",
        "    result = []\n",
        "    for precio in lista:\n",
        "        if 0.21 * precio < 100:\n",
        "            result.append(precio)\n",
        "    print(result)\n",
        "\n",
        "filtra_impuestos(lista)"
      ],
      "metadata": {
        "id": "WkSaJ-dzZWQF",
        "outputId": "26828819-654e-4c77-ecdb-f585d154b0e6",
        "colab": {
          "base_uri": "https://localhost:8080/"
        }
      },
      "execution_count": null,
      "outputs": [
        {
          "output_type": "stream",
          "name": "stdout",
          "text": [
            "[80, 90, 40, 75]\n"
          ]
        }
      ]
    },
    {
      "cell_type": "code",
      "source": [
        "lista = [80, 90, 500, 40, 700, 75]\n",
        "\n",
        "def filtra_impuestos(lista):\n",
        "    result = [precio for precio in lista if 0.21 * precio >= 100]\n",
        "    print(result)\n",
        "\n",
        "filtra_impuestos(lista)"
      ],
      "metadata": {
        "id": "2-L4Y_UlcpaI",
        "outputId": "58a04cb8-7aca-45b1-cdb3-6479fb67aa01",
        "colab": {
          "base_uri": "https://localhost:8080/"
        }
      },
      "execution_count": null,
      "outputs": [
        {
          "output_type": "stream",
          "name": "stdout",
          "text": [
            "[500, 700]\n"
          ]
        }
      ]
    },
    {
      "cell_type": "code",
      "source": [
        "lista = [80, 90, 500, 40, 700, 75]\n",
        "\n",
        "def filtra_impuestos(lista):\n",
        "    result = lista - [precio for precio in lista if 0.21 * precio >= 100]\n",
        "    print(result)\n",
        "\n",
        "filtra_impuestos(lista)"
      ],
      "metadata": {
        "id": "yA3vrRrHa6Ms",
        "outputId": "99ba85da-d72e-45f9-f03b-8eb4f328742c",
        "colab": {
          "base_uri": "https://localhost:8080/",
          "height": 332
        }
      },
      "execution_count": null,
      "outputs": [
        {
          "output_type": "error",
          "ename": "TypeError",
          "evalue": "unsupported operand type(s) for -: 'list' and 'list'",
          "traceback": [
            "\u001b[0;31m---------------------------------------------------------------------------\u001b[0m",
            "\u001b[0;31mTypeError\u001b[0m                                 Traceback (most recent call last)",
            "\u001b[0;32m<ipython-input-23-65a6b185f089>\u001b[0m in \u001b[0;36m<cell line: 7>\u001b[0;34m()\u001b[0m\n\u001b[1;32m      5\u001b[0m     \u001b[0mprint\u001b[0m\u001b[0;34m(\u001b[0m\u001b[0mresult\u001b[0m\u001b[0;34m)\u001b[0m\u001b[0;34m\u001b[0m\u001b[0;34m\u001b[0m\u001b[0m\n\u001b[1;32m      6\u001b[0m \u001b[0;34m\u001b[0m\u001b[0m\n\u001b[0;32m----> 7\u001b[0;31m \u001b[0mfiltra_impuestos\u001b[0m\u001b[0;34m(\u001b[0m\u001b[0mlista\u001b[0m\u001b[0;34m)\u001b[0m\u001b[0;34m\u001b[0m\u001b[0;34m\u001b[0m\u001b[0m\n\u001b[0m",
            "\u001b[0;32m<ipython-input-23-65a6b185f089>\u001b[0m in \u001b[0;36mfiltra_impuestos\u001b[0;34m(lista)\u001b[0m\n\u001b[1;32m      2\u001b[0m \u001b[0;34m\u001b[0m\u001b[0m\n\u001b[1;32m      3\u001b[0m \u001b[0;32mdef\u001b[0m \u001b[0mfiltra_impuestos\u001b[0m\u001b[0;34m(\u001b[0m\u001b[0mlista\u001b[0m\u001b[0;34m)\u001b[0m\u001b[0;34m:\u001b[0m\u001b[0;34m\u001b[0m\u001b[0;34m\u001b[0m\u001b[0m\n\u001b[0;32m----> 4\u001b[0;31m     \u001b[0mresult\u001b[0m \u001b[0;34m=\u001b[0m \u001b[0mlista\u001b[0m \u001b[0;34m-\u001b[0m \u001b[0;34m[\u001b[0m\u001b[0mprecio\u001b[0m \u001b[0;32mfor\u001b[0m \u001b[0mprecio\u001b[0m \u001b[0;32min\u001b[0m \u001b[0mlista\u001b[0m \u001b[0;32mif\u001b[0m \u001b[0;36m0.21\u001b[0m \u001b[0;34m*\u001b[0m \u001b[0mprecio\u001b[0m \u001b[0;34m>=\u001b[0m \u001b[0;36m100\u001b[0m\u001b[0;34m]\u001b[0m\u001b[0;34m\u001b[0m\u001b[0;34m\u001b[0m\u001b[0m\n\u001b[0m\u001b[1;32m      5\u001b[0m     \u001b[0mprint\u001b[0m\u001b[0;34m(\u001b[0m\u001b[0mresult\u001b[0m\u001b[0;34m)\u001b[0m\u001b[0;34m\u001b[0m\u001b[0;34m\u001b[0m\u001b[0m\n\u001b[1;32m      6\u001b[0m \u001b[0;34m\u001b[0m\u001b[0m\n",
            "\u001b[0;31mTypeError\u001b[0m: unsupported operand type(s) for -: 'list' and 'list'"
          ]
        }
      ]
    },
    {
      "cell_type": "code",
      "source": [
        "lista = [80, 90, 500, 40, 700, 75]\n",
        "\n",
        "def filtra_impuestos(lista):\n",
        "    result = list(filter(lambda precio: not(0.21 * precio < 100), lista))\n",
        "    print(result)\n",
        "\n",
        "filtra_impuestos(lista)"
      ],
      "metadata": {
        "id": "3aYTukX4a_tV",
        "outputId": "fddb20e0-da6b-4a71-c20d-f1aac104c6de",
        "colab": {
          "base_uri": "https://localhost:8080/"
        }
      },
      "execution_count": null,
      "outputs": [
        {
          "output_type": "stream",
          "name": "stdout",
          "text": [
            "[500, 700]\n"
          ]
        }
      ]
    },
    {
      "cell_type": "code",
      "source": [
        "def filtra_impuestos(lista):\n",
        "    return [precio for precio in lista if 0.21 * precio < 100]\n",
        "\n",
        "print(filtra_impuestos([80, 90, 500, 40, 700, 75]))"
      ],
      "metadata": {
        "id": "PDBfsAaBgKU4",
        "outputId": "bfdf636f-c039-4e0b-acf9-ac58e71b87fc",
        "colab": {
          "base_uri": "https://localhost:8080/"
        }
      },
      "execution_count": null,
      "outputs": [
        {
          "output_type": "stream",
          "name": "stdout",
          "text": [
            "[80, 90, 40, 75]\n"
          ]
        }
      ]
    },
    {
      "cell_type": "markdown",
      "source": [
        "Necesitamos una función que sume los elementos de un array.\n",
        "\n",
        "Ejemplos:\n",
        "1.  Si la lista es [1,2,3,4,5,6,7,8,9,10] la suma es 55.\n",
        "2.  Si la lista está formada por los enteros entre 1 y 100, la suma es 5050.\n",
        "\n",
        "Indique cuál de los siguientes códigos de Python logra realizar correctamente la suma de estas listas."
      ],
      "metadata": {
        "id": "9cvGVno9gxle"
      }
    },
    {
      "cell_type": "code",
      "source": [
        "def sumar_lista(lista):\n",
        "    total = 0\n",
        "    for elemento in lista:\n",
        "        total += elemento\n",
        "    return total\n",
        "\n",
        "print(f\"La suma de la lista 1 es {sumar_lista([1,2,3,4,5,6,7,8,9,10])}.\")\n",
        "print(f\"La suma de la lista 2 es {sumar_lista(list(range(1, 101)))}.\")"
      ],
      "metadata": {
        "id": "M0PayRf8iEpD",
        "outputId": "63c226b1-6907-4e93-dc6d-5bedf447ee6e",
        "colab": {
          "base_uri": "https://localhost:8080/"
        }
      },
      "execution_count": null,
      "outputs": [
        {
          "output_type": "stream",
          "name": "stdout",
          "text": [
            "La suma de la lista 1 es 55.\n",
            "La suma de la lista 2 es 5050.\n"
          ]
        }
      ]
    },
    {
      "cell_type": "code",
      "source": [
        "lista1 = [1,2,3,4,5,6,7,8,9,10]\n",
        "lista2 = list(range(1, 101))\n",
        "\n",
        "def sumar_lista(arr):\n",
        "    return sum[arr]\n",
        "\n",
        "print(f\"La suma de la lista 1 es {sumar_lista(lista1)}.\")\n",
        "print(f\"La suma de la lista 2 es {sumar_lista(lista2)}.\")"
      ],
      "metadata": {
        "id": "M6hr1Q8HhPpi",
        "outputId": "7ce2bdb0-010c-4986-81f7-224ec059a573",
        "colab": {
          "base_uri": "https://localhost:8080/",
          "height": 349
        }
      },
      "execution_count": null,
      "outputs": [
        {
          "output_type": "error",
          "ename": "TypeError",
          "evalue": "'builtin_function_or_method' object is not subscriptable",
          "traceback": [
            "\u001b[0;31m---------------------------------------------------------------------------\u001b[0m",
            "\u001b[0;31mTypeError\u001b[0m                                 Traceback (most recent call last)",
            "\u001b[0;32m<ipython-input-36-7c4bfc958562>\u001b[0m in \u001b[0;36m<cell line: 7>\u001b[0;34m()\u001b[0m\n\u001b[1;32m      5\u001b[0m     \u001b[0;32mreturn\u001b[0m \u001b[0msum\u001b[0m\u001b[0;34m[\u001b[0m\u001b[0marr\u001b[0m\u001b[0;34m]\u001b[0m\u001b[0;34m\u001b[0m\u001b[0;34m\u001b[0m\u001b[0m\n\u001b[1;32m      6\u001b[0m \u001b[0;34m\u001b[0m\u001b[0m\n\u001b[0;32m----> 7\u001b[0;31m \u001b[0mprint\u001b[0m\u001b[0;34m(\u001b[0m\u001b[0;34mf\"La suma de la lista 1 es {sumar_lista(lista1)}.\"\u001b[0m\u001b[0;34m)\u001b[0m\u001b[0;34m\u001b[0m\u001b[0;34m\u001b[0m\u001b[0m\n\u001b[0m\u001b[1;32m      8\u001b[0m \u001b[0mprint\u001b[0m\u001b[0;34m(\u001b[0m\u001b[0;34mf\"La suma de la lista 2 es {sumar_lista(lista2)}.\"\u001b[0m\u001b[0;34m)\u001b[0m\u001b[0;34m\u001b[0m\u001b[0;34m\u001b[0m\u001b[0m\n",
            "\u001b[0;32m<ipython-input-36-7c4bfc958562>\u001b[0m in \u001b[0;36msumar_lista\u001b[0;34m(arr)\u001b[0m\n\u001b[1;32m      3\u001b[0m \u001b[0;34m\u001b[0m\u001b[0m\n\u001b[1;32m      4\u001b[0m \u001b[0;32mdef\u001b[0m \u001b[0msumar_lista\u001b[0m\u001b[0;34m(\u001b[0m\u001b[0marr\u001b[0m\u001b[0;34m)\u001b[0m\u001b[0;34m:\u001b[0m\u001b[0;34m\u001b[0m\u001b[0;34m\u001b[0m\u001b[0m\n\u001b[0;32m----> 5\u001b[0;31m     \u001b[0;32mreturn\u001b[0m \u001b[0msum\u001b[0m\u001b[0;34m[\u001b[0m\u001b[0marr\u001b[0m\u001b[0;34m]\u001b[0m\u001b[0;34m\u001b[0m\u001b[0;34m\u001b[0m\u001b[0m\n\u001b[0m\u001b[1;32m      6\u001b[0m \u001b[0;34m\u001b[0m\u001b[0m\n\u001b[1;32m      7\u001b[0m \u001b[0mprint\u001b[0m\u001b[0;34m(\u001b[0m\u001b[0;34mf\"La suma de la lista 1 es {sumar_lista(lista1)}.\"\u001b[0m\u001b[0;34m)\u001b[0m\u001b[0;34m\u001b[0m\u001b[0;34m\u001b[0m\u001b[0m\n",
            "\u001b[0;31mTypeError\u001b[0m: 'builtin_function_or_method' object is not subscriptable"
          ]
        }
      ]
    },
    {
      "cell_type": "code",
      "source": [
        "def sumar_lista(lista):\n",
        "    total = 0\n",
        "    for i in range(len(lista)):\n",
        "        total = lista[i]\n",
        "    return total\n",
        "\n",
        "print(f\"La suma de la lista 1 es {sumar_lista([1,2,3,4,5,6,7,8,9,10])}.\")\n",
        "print(f\"La suma de la lista 2 es {sumar_lista(list(range(1, 101)))}.\")"
      ],
      "metadata": {
        "colab": {
          "base_uri": "https://localhost:8080/"
        },
        "id": "nP6hVLlyjBWx",
        "outputId": "e295b6d0-97e4-4f58-dd49-ca31d27d5a59"
      },
      "execution_count": null,
      "outputs": [
        {
          "output_type": "stream",
          "name": "stdout",
          "text": [
            "La suma de la lista 1 es 10.\n",
            "La suma de la lista 2 es 100.\n"
          ]
        }
      ]
    },
    {
      "cell_type": "code",
      "source": [
        "def sumar_lista(lista):\n",
        "    total = 0\n",
        "    for i in range(len(lista)):\n",
        "        total += i\n",
        "    return total\n",
        "\n",
        "lista1 = [1,2,3,4,5,6,7,8,9,10]\n",
        "lista2 = list(range(1, 101))\n",
        "\n",
        "print(f\"La suma de la lista 1 es {sumar_lista(lista1)}.\")\n",
        "print(f\"La suma de la lista 2 es {sumar_lista(lista2)}.\")"
      ],
      "metadata": {
        "outputId": "d47eba02-ae5e-423b-9f62-70a5a4cfbfd8",
        "colab": {
          "base_uri": "https://localhost:8080/"
        },
        "id": "U_PVoJtjkeX9"
      },
      "execution_count": null,
      "outputs": [
        {
          "output_type": "stream",
          "name": "stdout",
          "text": [
            "La suma de la lista 1 es 45.\n",
            "La suma de la lista 2 es 4950.\n"
          ]
        }
      ]
    },
    {
      "cell_type": "markdown",
      "source": [
        "En un diccionario aparecen como clave los días de la semana y como valor una lista con dos elementos, el primero de ellos es el porcentaje de robos y el segundo es un porcentaje de accidentes laborales.\n",
        "\n",
        "Una compañía de seguros quiere determinar cúal es el día o días en los que se producen un mayor número de siniestros.\n",
        "\n",
        "Con este diccionario de siniestros los días que más incidencias arrojan son los martes y los viernes, con 38 casos cada día.\n",
        "Lo que debe retornar la función de Python en este caso es una lista con estos dos días: ['martes', 'viernes']\n",
        "\n",
        "Indique cuál de estos códigos logra este objetivo."
      ],
      "metadata": {
        "id": "CkeOWSdcqdXm"
      }
    },
    {
      "cell_type": "code",
      "source": [
        "siniestros = {'lunes': [17, 17],\n",
        "              'martes': [19, 19],\n",
        "              'miércoles': [15, 15],\n",
        "              'jueves': [16, 18],\n",
        "              'viernes': [18, 20],\n",
        "              'sábado': [8, 7],\n",
        "              'domingo': [7, 4]}"
      ],
      "metadata": {
        "id": "dfRX7zKEvoVD"
      },
      "execution_count": null,
      "outputs": []
    },
    {
      "cell_type": "code",
      "source": [
        "def maximos_siniestros(diccionario):\n",
        "    dias = [key for key in diccionario.keys()]\n",
        "    num_siniestros = [sum(valor) for valor in diccionario.values()]\n",
        "    return [dias[i] for i,v in enumerate(num_siniestros) if v == max(num_siniestros)]\n",
        "\n",
        "print(maximos_siniestros(siniestros))"
      ],
      "metadata": {
        "id": "X6EnKRTOemD6",
        "outputId": "3ca5e22a-5806-424e-fd2a-1d08aafb55a7",
        "colab": {
          "base_uri": "https://localhost:8080/"
        }
      },
      "execution_count": null,
      "outputs": [
        {
          "output_type": "stream",
          "name": "stdout",
          "text": [
            "['martes', 'viernes']\n"
          ]
        }
      ]
    },
    {
      "cell_type": "markdown",
      "source": [
        "Necesitamos un código que sume las filas y las columnas de una matriz.\n",
        "\n",
        "En Python una matriz es una lista de listas, por ejemplo la siguiente:\n",
        "\n",
        "matriz = [[1,2],\n",
        "          [3,4],\n",
        "          [5,6],\n",
        "          [7,8]]\n",
        "\n",
        "Esta es una matriz de cuatro filas y dos columnas.\n",
        "\n",
        "    1.  La suma por filas es [3, 7, 11, 15]\n",
        "    2.  La suma por columnas es [16, 20]\n",
        "\n",
        "Indique cuál de los siguientes códigos proporciona correctamente estos resultados."
      ],
      "metadata": {
        "id": "8RGLgQLrhFiH"
      }
    },
    {
      "cell_type": "code",
      "source": [
        "matriz = [[1,2],\n",
        "          [3,4],\n",
        "          [5,6],\n",
        "          [7,8]]\n",
        "\n",
        "def suma_filas(matriz):\n",
        "    return [sum(fila) for fila in matriz]\n",
        "\n",
        "def suma_columnas(matriz):\n",
        "    acumula_por_columnas = [0] * len(matriz[0])\n",
        "    for fila in matriz:\n",
        "        for i, v in enumerate(fila):\n",
        "            acumula_por_columnas[i] += v\n",
        "    return acumula_por_columnas\n",
        "\n",
        "print(f\"La suma de las filas es {suma_filas(matriz)}\")\n",
        "print(f\"La suma de las columnas es {suma_columnas(matriz)}\")"
      ],
      "metadata": {
        "id": "vHOV56e_iHtn",
        "outputId": "567b7e53-8e35-483a-a395-b04173a192a4",
        "colab": {
          "base_uri": "https://localhost:8080/"
        }
      },
      "execution_count": null,
      "outputs": [
        {
          "output_type": "stream",
          "name": "stdout",
          "text": [
            "La suma de las filas es [3, 7, 11, 15]\n",
            "La suma de las columnas es [16, 20]\n"
          ]
        }
      ]
    },
    {
      "cell_type": "code",
      "source": [
        "matriz = [[1,2],\n",
        "          [3,4],\n",
        "          [5,6],\n",
        "          [7,8]]\n",
        "\n",
        "def suma_filas(matriz):\n",
        "    return [sum(fila) for fila in matriz]\n",
        "\n",
        "print(f\"La suma de las filas es {suma_filas(matriz)}\")"
      ],
      "metadata": {
        "id": "-euMJKnmkphN"
      },
      "execution_count": null,
      "outputs": []
    },
    {
      "cell_type": "markdown",
      "source": [
        "Necesitamos un código que sume las filas de una matriz.\n",
        "\n",
        "En Python una matriz es una lista de listas, por ejemplo la siguiente:\n",
        "\n",
        "matriz = [[1,2],\n",
        "          [3,4],\n",
        "          [5,6],\n",
        "          [7,8]]\n",
        "\n",
        "Esta es una matriz de cuatro filas y dos columnas.\n",
        "\n",
        "La suma por filas es [3, 7, 11, 15]\n",
        "\n",
        "Indique cuál de los siguientes códigos proporciona correctamente este resultado."
      ],
      "metadata": {
        "id": "yiVrKAyDlhYs"
      }
    },
    {
      "cell_type": "code",
      "source": [
        "matriz = [[1, 2],\n",
        "          [3, 4],\n",
        "          [5, 6],\n",
        "          [7, 8]]\n",
        "\n",
        "def suma_filas(matriz):\n",
        "    sumas = []\n",
        "    for fila in matriz:\n",
        "        suma_fila = 0\n",
        "        for num in fila:\n",
        "            suma_fila += num\n",
        "        sumas.append(suma_fila)\n",
        "    return sumas\n",
        "\n",
        "print(f\"La suma de las filas es {suma_filas(matriz)}\")"
      ],
      "metadata": {
        "id": "LO9ek_wjldp4",
        "outputId": "aa9265d4-e3a2-4f4c-a2b3-5278e7139d59",
        "colab": {
          "base_uri": "https://localhost:8080/"
        }
      },
      "execution_count": null,
      "outputs": [
        {
          "output_type": "stream",
          "name": "stdout",
          "text": [
            "La suma de las filas es [3, 7, 11, 15]\n"
          ]
        }
      ]
    },
    {
      "cell_type": "code",
      "source": [
        "matriz = [[1,2],\n",
        "          [3,4],\n",
        "          [5,6],\n",
        "          [7,8]]\n",
        "\n",
        "def suma_filas(matriz):\n",
        "    return (sum(fila) for fila in matriz)\n",
        "\n",
        "print(f\"La suma de las filas es {suma_filas(matriz)}\")"
      ],
      "metadata": {
        "id": "aMIvrf3sk1Zm",
        "outputId": "d3c7df5f-55b7-48b1-8fe8-02ccfd749bc4",
        "colab": {
          "base_uri": "https://localhost:8080/"
        }
      },
      "execution_count": null,
      "outputs": [
        {
          "output_type": "stream",
          "name": "stdout",
          "text": [
            "La suma de las filas es <generator object suma_filas.<locals>.<genexpr> at 0x7ce5f1712f10>\n"
          ]
        }
      ]
    },
    {
      "cell_type": "code",
      "source": [
        "matriz = [[1,2],\n",
        "          [3,4],\n",
        "          [5,6],\n",
        "          [7,8]]\n",
        "\n",
        "def suma_filas(matriz):\n",
        "    return sum([fila for fila in matriz])\n",
        "\n",
        "print(f\"La suma de las filas es {suma_filas(matriz)}\")"
      ],
      "metadata": {
        "id": "P8euybaKso7b",
        "outputId": "e053464f-1d63-4e91-88ed-1abd92cdcdee",
        "colab": {
          "base_uri": "https://localhost:8080/",
          "height": 332
        }
      },
      "execution_count": null,
      "outputs": [
        {
          "output_type": "error",
          "ename": "TypeError",
          "evalue": "unsupported operand type(s) for +: 'int' and 'list'",
          "traceback": [
            "\u001b[0;31m---------------------------------------------------------------------------\u001b[0m",
            "\u001b[0;31mTypeError\u001b[0m                                 Traceback (most recent call last)",
            "\u001b[0;32m<ipython-input-20-e10e1451e621>\u001b[0m in \u001b[0;36m<cell line: 9>\u001b[0;34m()\u001b[0m\n\u001b[1;32m      7\u001b[0m     \u001b[0;32mreturn\u001b[0m \u001b[0msum\u001b[0m\u001b[0;34m(\u001b[0m\u001b[0;34m[\u001b[0m\u001b[0mfila\u001b[0m \u001b[0;32mfor\u001b[0m \u001b[0mfila\u001b[0m \u001b[0;32min\u001b[0m \u001b[0mmatriz\u001b[0m\u001b[0;34m]\u001b[0m\u001b[0;34m)\u001b[0m\u001b[0;34m\u001b[0m\u001b[0;34m\u001b[0m\u001b[0m\n\u001b[1;32m      8\u001b[0m \u001b[0;34m\u001b[0m\u001b[0m\n\u001b[0;32m----> 9\u001b[0;31m \u001b[0mprint\u001b[0m\u001b[0;34m(\u001b[0m\u001b[0;34mf\"La suma de las filas es {suma_filas(matriz)}\"\u001b[0m\u001b[0;34m)\u001b[0m\u001b[0;34m\u001b[0m\u001b[0;34m\u001b[0m\u001b[0m\n\u001b[0m",
            "\u001b[0;32m<ipython-input-20-e10e1451e621>\u001b[0m in \u001b[0;36msuma_filas\u001b[0;34m(matriz)\u001b[0m\n\u001b[1;32m      5\u001b[0m \u001b[0;34m\u001b[0m\u001b[0m\n\u001b[1;32m      6\u001b[0m \u001b[0;32mdef\u001b[0m \u001b[0msuma_filas\u001b[0m\u001b[0;34m(\u001b[0m\u001b[0mmatriz\u001b[0m\u001b[0;34m)\u001b[0m\u001b[0;34m:\u001b[0m\u001b[0;34m\u001b[0m\u001b[0;34m\u001b[0m\u001b[0m\n\u001b[0;32m----> 7\u001b[0;31m     \u001b[0;32mreturn\u001b[0m \u001b[0msum\u001b[0m\u001b[0;34m(\u001b[0m\u001b[0;34m[\u001b[0m\u001b[0mfila\u001b[0m \u001b[0;32mfor\u001b[0m \u001b[0mfila\u001b[0m \u001b[0;32min\u001b[0m \u001b[0mmatriz\u001b[0m\u001b[0;34m]\u001b[0m\u001b[0;34m)\u001b[0m\u001b[0;34m\u001b[0m\u001b[0;34m\u001b[0m\u001b[0m\n\u001b[0m\u001b[1;32m      8\u001b[0m \u001b[0;34m\u001b[0m\u001b[0m\n\u001b[1;32m      9\u001b[0m \u001b[0mprint\u001b[0m\u001b[0;34m(\u001b[0m\u001b[0;34mf\"La suma de las filas es {suma_filas(matriz)}\"\u001b[0m\u001b[0;34m)\u001b[0m\u001b[0;34m\u001b[0m\u001b[0;34m\u001b[0m\u001b[0m\n",
            "\u001b[0;31mTypeError\u001b[0m: unsupported operand type(s) for +: 'int' and 'list'"
          ]
        }
      ]
    },
    {
      "cell_type": "code",
      "source": [
        "matriz = [[1, 2],\n",
        "          [3, 4],\n",
        "          [5, 6],\n",
        "          [7, 8]]\n",
        "\n",
        "def suma_filas(matriz):\n",
        "    num_columnas = len(matriz[0])\n",
        "    sumas = [0] * num_columnas\n",
        "    for i in range(len(matriz)):\n",
        "        for j in range(num_columnas):\n",
        "            sumas[j] += matriz[i][j]\n",
        "    return sumas\n",
        "\n",
        "print(f\"La suma de las filas es {suma_filas(matriz)}\")"
      ],
      "metadata": {
        "id": "GZkxE5iwtObE",
        "outputId": "6549e799-12eb-4507-d064-585b29cf650a",
        "colab": {
          "base_uri": "https://localhost:8080/"
        }
      },
      "execution_count": null,
      "outputs": [
        {
          "output_type": "stream",
          "name": "stdout",
          "text": [
            "La suma de las filas es [16, 20]\n"
          ]
        }
      ]
    },
    {
      "cell_type": "markdown",
      "source": [
        "# p2"
      ],
      "metadata": {
        "id": "hFUeb7sWvF2F"
      }
    },
    {
      "cell_type": "code",
      "source": [
        "matriz = [[1,2],\n",
        "          [3,4],\n",
        "          [5,6],\n",
        "          [7,8]]\n",
        "\n",
        "def suma_filas(matriz):\n",
        "    return [sum(fila) for fila in matriz]\n",
        "\n",
        "print(f\"La suma de las filas es {suma_filas(matriz)}\")"
      ],
      "metadata": {
        "id": "VV6kMIuGvH69",
        "outputId": "9d702bd4-843b-42f7-ad5a-2247ca190829",
        "colab": {
          "base_uri": "https://localhost:8080/"
        }
      },
      "execution_count": null,
      "outputs": [
        {
          "output_type": "stream",
          "name": "stdout",
          "text": [
            "La suma de las filas es [3, 7, 11, 15]\n"
          ]
        }
      ]
    },
    {
      "cell_type": "code",
      "source": [
        "matriz = [[1, 2],\n",
        "          [3, 4],\n",
        "          [5, 6],\n",
        "          [7, 8]]\n",
        "\n",
        "def suma_filas(matriz):\n",
        "    sumas = []\n",
        "    for fila in matriz:\n",
        "        suma_fila = 0\n",
        "        for num in fila:\n",
        "            suma_fila = num + 1\n",
        "        sumas.append(suma_fila)\n",
        "    return sumas\n",
        "\n",
        "print(f\"La suma de las filas es {suma_filas(matriz)}\")"
      ],
      "metadata": {
        "id": "dqBHoaWKvNqM",
        "outputId": "97a90638-41a8-4050-8fe2-4cae4cf68814",
        "colab": {
          "base_uri": "https://localhost:8080/"
        }
      },
      "execution_count": null,
      "outputs": [
        {
          "output_type": "stream",
          "name": "stdout",
          "text": [
            "La suma de las filas es [3, 5, 7, 9]\n"
          ]
        }
      ]
    },
    {
      "cell_type": "markdown",
      "source": [
        "Sabemos que la fórmula que relaciona la potencia eléctrica (P) con la intesidad de corriente (I) y con la resistencia del conductor (R) es:\n",
        "\n",
        "$P = I^2 \\cdot R$\n",
        "\n",
        "Necesitamos crear una función que reciba como parámetros $P$, $I$, $R$ (en ese orden) y nos diga si los valores recibidos cumplen la fórmula anterior con un error menor a una millonésima (1E-6).\n",
        "\n",
        "Si se cumple la fórmula considerando ese error admisible se imprimirá `True` y si no se cumple se imprimirá `False`.\n",
        "\n",
        "Indique cúal de estos códigos logra este objetivo."
      ],
      "metadata": {
        "id": "435CmvXDzHuX"
      }
    },
    {
      "cell_type": "code",
      "source": [
        "def comprueba_potencia(p, i, r):\n",
        "    return abs(p - i**2 * r) < 1E-6\n",
        "\n",
        "print(comprueba_potencia(400, 2, 100))\n",
        "print(comprueba_potencia(400, 2.01, 100))\n",
        "print(comprueba_potencia(1800, 30, 2))"
      ],
      "metadata": {
        "id": "PONr5TAy0MOd",
        "outputId": "6eee939e-f272-48e7-e985-e43d29aa6ae2",
        "colab": {
          "base_uri": "https://localhost:8080/"
        }
      },
      "execution_count": null,
      "outputs": [
        {
          "output_type": "stream",
          "name": "stdout",
          "text": [
            "True\n",
            "False\n",
            "True\n"
          ]
        }
      ]
    },
    {
      "cell_type": "code",
      "source": [
        "1e-6"
      ],
      "metadata": {
        "id": "Lt36Vf6d1D03",
        "outputId": "de01cb5a-dd1f-4ff3-de9a-a51f04844dc5",
        "colab": {
          "base_uri": "https://localhost:8080/"
        }
      },
      "execution_count": null,
      "outputs": [
        {
          "output_type": "execute_result",
          "data": {
            "text/plain": [
              "1e-06"
            ]
          },
          "metadata": {},
          "execution_count": 4
        }
      ]
    },
    {
      "cell_type": "code",
      "source": [
        "1E-6"
      ],
      "metadata": {
        "id": "i8cXsG0E1YV3",
        "outputId": "b83e267e-aca2-495b-ed62-922be63268f5",
        "colab": {
          "base_uri": "https://localhost:8080/"
        }
      },
      "execution_count": null,
      "outputs": [
        {
          "output_type": "execute_result",
          "data": {
            "text/plain": [
              "1e-06"
            ]
          },
          "metadata": {},
          "execution_count": 5
        }
      ]
    },
    {
      "cell_type": "code",
      "source": [
        "def comprueba_potencia(p, i, r):\n",
        "    return (p - i**2 * r) < 1E-6\n",
        "\n",
        "print(comprueba_potencia(400, 2, 100))\n",
        "print(comprueba_potencia(400, 2.01, 100))\n",
        "print(comprueba_potencia(1800, 30, 2))"
      ],
      "metadata": {
        "id": "1MWmJyLf4Bb9",
        "outputId": "5ffc3d6c-d508-438a-cdc9-5ebd5112b2eb",
        "colab": {
          "base_uri": "https://localhost:8080/"
        }
      },
      "execution_count": null,
      "outputs": [
        {
          "output_type": "stream",
          "name": "stdout",
          "text": [
            "True\n",
            "True\n",
            "True\n"
          ]
        }
      ]
    },
    {
      "cell_type": "code",
      "source": [
        "def comprueba_potencia(p, i, r):\n",
        "    return p == i**2 * r - 1E-6\n",
        "\n",
        "print(comprueba_potencia(400, 2, 100))\n",
        "print(comprueba_potencia(400, 2.01, 100))\n",
        "print(comprueba_potencia(1800, 30, 2))"
      ],
      "metadata": {
        "id": "BprlCQ8W4Iuo",
        "outputId": "5fe081a2-4154-45fa-b2a8-c2bae179a227",
        "colab": {
          "base_uri": "https://localhost:8080/"
        }
      },
      "execution_count": null,
      "outputs": [
        {
          "output_type": "stream",
          "name": "stdout",
          "text": [
            "False\n",
            "False\n",
            "False\n"
          ]
        }
      ]
    },
    {
      "cell_type": "code",
      "source": [
        "def comprueba_potencia(p, i, r):\n",
        "    return p == i**2 * r + 1E-6\n",
        "\n",
        "print(comprueba_potencia(400, 2, 100))\n",
        "print(comprueba_potencia(400, 2.01, 100))\n",
        "print(comprueba_potencia(1800, 30, 2))"
      ],
      "metadata": {
        "id": "PSfxZprR4S4E",
        "outputId": "60139328-d05d-4087-aca6-6baa176a437f",
        "colab": {
          "base_uri": "https://localhost:8080/"
        }
      },
      "execution_count": null,
      "outputs": [
        {
          "output_type": "stream",
          "name": "stdout",
          "text": [
            "False\n",
            "False\n",
            "False\n"
          ]
        }
      ]
    },
    {
      "cell_type": "markdown",
      "source": [
        "# p2"
      ],
      "metadata": {
        "id": "XxK9Jd0W-HDl"
      }
    },
    {
      "cell_type": "code",
      "source": [
        "def comprueba_potencia(p, i, r):\n",
        "    return i**2 * r - 1E-6 < p < i**2 * r + 1E-6\n",
        "\n",
        "print(comprueba_potencia(400, 2, 100))\n",
        "print(comprueba_potencia(400, 2.01, 100))\n",
        "print(comprueba_potencia(1800, 30, 2))"
      ],
      "metadata": {
        "id": "dE6pLHJu-Ii0",
        "outputId": "09bf5ac0-7944-4ad5-9f2c-435fa6df3ad9",
        "colab": {
          "base_uri": "https://localhost:8080/"
        }
      },
      "execution_count": null,
      "outputs": [
        {
          "output_type": "stream",
          "name": "stdout",
          "text": [
            "True\n",
            "False\n",
            "True\n"
          ]
        }
      ]
    },
    {
      "cell_type": "markdown",
      "source": [
        "Dado un número entero n que puede estar entre 20 y 500, queremos crear una función que reciba n y retorne una lista con todos los múltiplos de 17 que hay hasta n incluido.\n",
        "\n",
        "Por ejemplo, si n = 170, la lista que se imprimirá será:\n",
        "\n",
        "    [17, 34, 51, 68, 85, 102, 119, 136, 153, 170]\n",
        "\n",
        "¿Cuál de los siguentes códigos de Python calcula e imprime correctamente esta lista?"
      ],
      "metadata": {
        "id": "wTriYG2wv5pX"
      }
    },
    {
      "cell_type": "code",
      "source": [
        "def divisores_de_diecisiete(n):\n",
        "    divisores = []\n",
        "    for i in range(1, n+1):\n",
        "        if i // 17 == i / 17:\n",
        "            divisores.append(i)\n",
        "    return divisores\n",
        "\n",
        "print(divisores_de_diecisiete(170))\n",
        "print(divisores_de_diecisiete(300))"
      ],
      "metadata": {
        "id": "JvjNvp4mwmRa",
        "colab": {
          "base_uri": "https://localhost:8080/"
        },
        "outputId": "19b4ad9c-6b10-42fc-f759-86ef6ba4252b"
      },
      "execution_count": null,
      "outputs": [
        {
          "output_type": "stream",
          "name": "stdout",
          "text": [
            "[17, 34, 51, 68, 85, 102, 119, 136, 153, 170]\n",
            "[17, 34, 51, 68, 85, 102, 119, 136, 153, 170, 187, 204, 221, 238, 255, 272, 289]\n"
          ]
        }
      ]
    },
    {
      "cell_type": "code",
      "source": [
        "def divisores_de_diecisiete(n):\n",
        "    divisores = []\n",
        "    for i in range(1, n+1):\n",
        "        if i % 17 = 0:\n",
        "            divisores.append(i)\n",
        "    return divisores\n",
        "\n",
        "print(divisores_de_diecisiete(170))\n",
        "print(divisores_de_diecisiete(300))"
      ],
      "metadata": {
        "outputId": "4c3c0138-9b52-47d6-e927-cbf55ad8b9b4",
        "colab": {
          "base_uri": "https://localhost:8080/",
          "height": 141
        },
        "id": "uktcuaq2Ar3q"
      },
      "execution_count": null,
      "outputs": [
        {
          "output_type": "error",
          "ename": "SyntaxError",
          "evalue": "cannot assign to expression here. Maybe you meant '==' instead of '='? (<ipython-input-28-0f6c985a936a>, line 4)",
          "traceback": [
            "\u001b[0;36m  File \u001b[0;32m\"<ipython-input-28-0f6c985a936a>\"\u001b[0;36m, line \u001b[0;32m4\u001b[0m\n\u001b[0;31m    if i % 17 = 0:\u001b[0m\n\u001b[0m       ^\u001b[0m\n\u001b[0;31mSyntaxError\u001b[0m\u001b[0;31m:\u001b[0m cannot assign to expression here. Maybe you meant '==' instead of '='?\n"
          ]
        }
      ]
    },
    {
      "cell_type": "code",
      "source": [
        "def divisores_de_diecisiete(n):\n",
        "    divisores = []\n",
        "    for i in range(n):\n",
        "        if not(i % 17):\n",
        "            divisores.append(i)\n",
        "    return divisores\n",
        "\n",
        "print(divisores_de_diecisiete(170))\n",
        "print(divisores_de_diecisiete(300))"
      ],
      "metadata": {
        "outputId": "753ea5fd-4cd2-4925-bbdf-5a3dc8034d33",
        "colab": {
          "base_uri": "https://localhost:8080/"
        },
        "id": "esJ0t5r9Ar72"
      },
      "execution_count": null,
      "outputs": [
        {
          "output_type": "stream",
          "name": "stdout",
          "text": [
            "[0, 17, 34, 51, 68, 85, 102, 119, 136, 153]\n",
            "[0, 17, 34, 51, 68, 85, 102, 119, 136, 153, 170, 187, 204, 221, 238, 255, 272, 289]\n"
          ]
        }
      ]
    },
    {
      "cell_type": "code",
      "source": [
        "def divisores_de_diecisiete(n):\n",
        "    divisores = []\n",
        "    for i in range(1, n+1):\n",
        "        if i // 17 - int(i / 17) == 0:\n",
        "            divisores += [i]\n",
        "    return divisores\n",
        "\n",
        "print(divisores_de_diecisiete(170))\n",
        "print(divisores_de_diecisiete(300))"
      ],
      "metadata": {
        "outputId": "4ad53a04-b16e-44db-d5f4-abdcabae9527",
        "colab": {
          "base_uri": "https://localhost:8080/"
        },
        "id": "PIFS42g_AsAQ"
      },
      "execution_count": null,
      "outputs": [
        {
          "output_type": "stream",
          "name": "stdout",
          "text": [
            "[17, 34, 51, 68, 85, 102, 119, 136, 153, 170]\n",
            "[17, 34, 51, 68, 85, 102, 119, 136, 153, 170, 187, 204, 221, 238, 255, 272, 289]\n"
          ]
        }
      ]
    },
    {
      "cell_type": "markdown",
      "source": [
        "Quiero crear una función que genere una lista de números aleatorios enteros entre -9 y 9.\n",
        "\n",
        "La lista podrá tener entre 2 y 10 números.\n",
        "\n",
        "Quiero crear otra función que recibe una lista y calcula el máximo de los números de esa lista.\n",
        "\n",
        "Indique cuál de estos códigos de Python crea correctamente estas dos funciones e imprime el máximo de la lista generada."
      ],
      "metadata": {
        "id": "y3PvNzjzEFfo"
      }
    },
    {
      "cell_type": "code",
      "source": [
        "# Elección 1\n",
        "\n",
        "import random\n",
        "\n",
        "def genera_lista():\n",
        "    longitud = random.randint(2, 10)\n",
        "    result = []\n",
        "    for i in range(longitud):\n",
        "        result.append(random.randint(-9, 9))\n",
        "    return result\n",
        "\n",
        "def maximo_lista(lista):\n",
        "    return max(lista)\n",
        "\n",
        "list_rnd = genera_lista()\n",
        "\n",
        "print(f\"Generamos la lista {list_rnd} y su máximo es {maximo_lista(list_rnd)}.\")"
      ],
      "metadata": {
        "colab": {
          "base_uri": "https://localhost:8080/"
        },
        "id": "UNnaMr4eE_2t",
        "outputId": "e449e7b9-2587-4643-ed9a-9a54c950373b"
      },
      "execution_count": null,
      "outputs": [
        {
          "output_type": "stream",
          "name": "stdout",
          "text": [
            "Generamos la lista [3, -9, -2, -1, -1, 4, 8, -5, 9] y su máximo es 9.\n"
          ]
        }
      ]
    },
    {
      "cell_type": "code",
      "source": [
        "# Elección 2\n",
        "\n",
        "from random import randint\n",
        "\n",
        "def genera_lista():\n",
        "    longitud = randint(2, 10)\n",
        "    result = []\n",
        "    rnd = randint(-9, 9)\n",
        "    for i in range(longitud):\n",
        "        result.append(rnd)\n",
        "    return result\n",
        "\n",
        "def maximo_lista(lista):\n",
        "    return max(lista)\n",
        "\n",
        "print(f\"Generamos la lista {genera_lista()} y su máximo es {maximo_lista(genera_lista())}.\")"
      ],
      "metadata": {
        "colab": {
          "base_uri": "https://localhost:8080/"
        },
        "outputId": "07081052-2310-4873-934e-810bddffe3d2",
        "id": "V63OlNJJGusL"
      },
      "execution_count": null,
      "outputs": [
        {
          "output_type": "stream",
          "name": "stdout",
          "text": [
            "Generamos la lista [1, 1, 1, 1, 1, 1] y su máximo es 0.\n"
          ]
        }
      ]
    },
    {
      "cell_type": "code",
      "source": [
        "# Elección 3\n",
        "\n",
        "from random import randint\n",
        "\n",
        "def genera_lista():\n",
        "    longitud = randint(2, 10)\n",
        "    result = []\n",
        "    for i in range(longitud):\n",
        "        result += randint(-9, 9)\n",
        "    return result\n",
        "\n",
        "def maximo_lista(lista):\n",
        "    maximo = lista[0]  # Inicializamos el máximo con el primer valor de la lista\n",
        "    for num in lista:\n",
        "        if num > maximo:\n",
        "            maximo = num\n",
        "    return maximo\n",
        "\n",
        "list_rnd = genera_lista()\n",
        "\n",
        "print(f\"Generamos la lista {list_rnd} y su máximo es {maximo_lista(list_rnd)}.\")"
      ],
      "metadata": {
        "colab": {
          "base_uri": "https://localhost:8080/",
          "height": 367
        },
        "outputId": "afcc49b9-7d49-4fe5-9808-e70eeffccc7b",
        "id": "SOtLnfezGuzZ"
      },
      "execution_count": null,
      "outputs": [
        {
          "output_type": "error",
          "ename": "TypeError",
          "evalue": "'int' object is not iterable",
          "traceback": [
            "\u001b[0;31m---------------------------------------------------------------------------\u001b[0m",
            "\u001b[0;31mTypeError\u001b[0m                                 Traceback (most recent call last)",
            "\u001b[0;32m<ipython-input-13-21cb1439aee4>\u001b[0m in \u001b[0;36m<cell line: 19>\u001b[0;34m()\u001b[0m\n\u001b[1;32m     17\u001b[0m     \u001b[0;32mreturn\u001b[0m \u001b[0mmaximo\u001b[0m\u001b[0;34m\u001b[0m\u001b[0;34m\u001b[0m\u001b[0m\n\u001b[1;32m     18\u001b[0m \u001b[0;34m\u001b[0m\u001b[0m\n\u001b[0;32m---> 19\u001b[0;31m \u001b[0mlist_rnd\u001b[0m \u001b[0;34m=\u001b[0m \u001b[0mgenera_lista\u001b[0m\u001b[0;34m(\u001b[0m\u001b[0;34m)\u001b[0m\u001b[0;34m\u001b[0m\u001b[0;34m\u001b[0m\u001b[0m\n\u001b[0m\u001b[1;32m     20\u001b[0m \u001b[0;34m\u001b[0m\u001b[0m\n\u001b[1;32m     21\u001b[0m \u001b[0mprint\u001b[0m\u001b[0;34m(\u001b[0m\u001b[0;34mf\"Generamos la lista {list_rnd} y su máximo es {maximo_lista(list_rnd)}.\"\u001b[0m\u001b[0;34m)\u001b[0m\u001b[0;34m\u001b[0m\u001b[0;34m\u001b[0m\u001b[0m\n",
            "\u001b[0;32m<ipython-input-13-21cb1439aee4>\u001b[0m in \u001b[0;36mgenera_lista\u001b[0;34m()\u001b[0m\n\u001b[1;32m      7\u001b[0m     \u001b[0mresult\u001b[0m \u001b[0;34m=\u001b[0m \u001b[0;34m[\u001b[0m\u001b[0;34m]\u001b[0m\u001b[0;34m\u001b[0m\u001b[0;34m\u001b[0m\u001b[0m\n\u001b[1;32m      8\u001b[0m     \u001b[0;32mfor\u001b[0m \u001b[0mi\u001b[0m \u001b[0;32min\u001b[0m \u001b[0mrange\u001b[0m\u001b[0;34m(\u001b[0m\u001b[0mlongitud\u001b[0m\u001b[0;34m)\u001b[0m\u001b[0;34m:\u001b[0m\u001b[0;34m\u001b[0m\u001b[0;34m\u001b[0m\u001b[0m\n\u001b[0;32m----> 9\u001b[0;31m         \u001b[0mresult\u001b[0m \u001b[0;34m+=\u001b[0m \u001b[0mrandint\u001b[0m\u001b[0;34m(\u001b[0m\u001b[0;34m-\u001b[0m\u001b[0;36m9\u001b[0m\u001b[0;34m,\u001b[0m \u001b[0;36m9\u001b[0m\u001b[0;34m)\u001b[0m\u001b[0;34m\u001b[0m\u001b[0;34m\u001b[0m\u001b[0m\n\u001b[0m\u001b[1;32m     10\u001b[0m     \u001b[0;32mreturn\u001b[0m \u001b[0mresult\u001b[0m\u001b[0;34m\u001b[0m\u001b[0;34m\u001b[0m\u001b[0m\n\u001b[1;32m     11\u001b[0m \u001b[0;34m\u001b[0m\u001b[0m\n",
            "\u001b[0;31mTypeError\u001b[0m: 'int' object is not iterable"
          ]
        }
      ]
    },
    {
      "cell_type": "code",
      "source": [
        "# Elección 4\n",
        "\n",
        "import random\n",
        "\n",
        "from random import randint\n",
        "\n",
        "def genera_lista():\n",
        "    longitud = randint(2, 10)\n",
        "    result = []\n",
        "    for i in range(longitud):\n",
        "        result += [randint(-9, 9)]\n",
        "    return result\n",
        "\n",
        "def maximo_lista(lista):\n",
        "    return sorted(lista)[1]\n",
        "\n",
        "list_rnd = genera_lista()\n",
        "\n",
        "print(f\"Generamos la lista {list_rnd} y su máximo es {maximo_lista(list_rnd)}.\")"
      ],
      "metadata": {
        "colab": {
          "base_uri": "https://localhost:8080/"
        },
        "outputId": "da7ca496-11d4-4e3c-a5ab-81d4fe933e58",
        "id": "3A5DbmFRGu6u"
      },
      "execution_count": null,
      "outputs": [
        {
          "output_type": "stream",
          "name": "stdout",
          "text": [
            "Generamos la lista [7, 6, -1, -1, -6, -8, -4] y su máximo es -6.\n"
          ]
        }
      ]
    },
    {
      "cell_type": "code",
      "source": [
        "sorted([3, -9, -2, -1, -1, 4, 8, -5, 9])[-1]"
      ],
      "metadata": {
        "id": "4kLQ__Kfkivr",
        "outputId": "601fa51b-144c-4dcc-9578-fdc7f640ed4c",
        "colab": {
          "base_uri": "https://localhost:8080/"
        }
      },
      "execution_count": null,
      "outputs": [
        {
          "output_type": "execute_result",
          "data": {
            "text/plain": [
              "9"
            ]
          },
          "metadata": {},
          "execution_count": 17
        }
      ]
    },
    {
      "cell_type": "markdown",
      "source": [
        "# p2"
      ],
      "metadata": {
        "id": "m18ZA0p1mbac"
      }
    },
    {
      "cell_type": "code",
      "source": [
        "from random import randint\n",
        "\n",
        "def genera_lista():\n",
        "    longitud = randint(2, 10)\n",
        "    result = []\n",
        "    for i in range(longitud):\n",
        "        result += [randint(-9, 9)]\n",
        "    return result\n",
        "\n",
        "def maximo_lista(lista):\n",
        "    maximo = lista[0]  # Inicializamos el máximo con el primer valor de la lista\n",
        "    for num in lista:\n",
        "        if num > maximo:\n",
        "            maximo = num\n",
        "    return maximo\n",
        "\n",
        "list_rnd = genera_lista()\n",
        "\n",
        "print(f\"Generamos la lista {list_rnd} y su máximo es {maximo_lista(list_rnd)}.\")"
      ],
      "metadata": {
        "id": "9legPaC8mc9d",
        "outputId": "8be18d15-add7-4407-83dd-50db1428105d",
        "colab": {
          "base_uri": "https://localhost:8080/"
        }
      },
      "execution_count": null,
      "outputs": [
        {
          "output_type": "stream",
          "name": "stdout",
          "text": [
            "Generamos la lista [-3, -2, -2, 7, 1, 2, 5, -6, -2] y su máximo es 7.\n"
          ]
        }
      ]
    },
    {
      "cell_type": "code",
      "source": [
        "import random\n",
        "\n",
        "def genera_lista():\n",
        "    longitud = randint(2, 10)\n",
        "    result = []\n",
        "    for i in range(longitud):\n",
        "        result.append(randint(-9, 9))\n",
        "    return result\n",
        "\n",
        "def maximo_lista(lista):\n",
        "    return max(lista)\n",
        "\n",
        "print(f\"Generamos la lista {genera_lista()} y su máximo es {maximo_lista(genera_lista())}.\")"
      ],
      "metadata": {
        "id": "eSHB7SIUmoPG",
        "outputId": "052f1506-ac37-4a82-c17d-efa5c4ae709a",
        "colab": {
          "base_uri": "https://localhost:8080/",
          "height": 332
        }
      },
      "execution_count": null,
      "outputs": [
        {
          "output_type": "error",
          "ename": "NameError",
          "evalue": "name 'randint' is not defined",
          "traceback": [
            "\u001b[0;31m---------------------------------------------------------------------------\u001b[0m",
            "\u001b[0;31mNameError\u001b[0m                                 Traceback (most recent call last)",
            "\u001b[0;32m<ipython-input-1-1c1dfb8c8bad>\u001b[0m in \u001b[0;36m<cell line: 13>\u001b[0;34m()\u001b[0m\n\u001b[1;32m     11\u001b[0m     \u001b[0;32mreturn\u001b[0m \u001b[0mmax\u001b[0m\u001b[0;34m(\u001b[0m\u001b[0mlista\u001b[0m\u001b[0;34m)\u001b[0m\u001b[0;34m\u001b[0m\u001b[0;34m\u001b[0m\u001b[0m\n\u001b[1;32m     12\u001b[0m \u001b[0;34m\u001b[0m\u001b[0m\n\u001b[0;32m---> 13\u001b[0;31m \u001b[0mprint\u001b[0m\u001b[0;34m(\u001b[0m\u001b[0;34mf\"Generamos la lista {genera_lista()} y su máximo es {maximo_lista(genera_lista())}.\"\u001b[0m\u001b[0;34m)\u001b[0m\u001b[0;34m\u001b[0m\u001b[0;34m\u001b[0m\u001b[0m\n\u001b[0m",
            "\u001b[0;32m<ipython-input-1-1c1dfb8c8bad>\u001b[0m in \u001b[0;36mgenera_lista\u001b[0;34m()\u001b[0m\n\u001b[1;32m      2\u001b[0m \u001b[0;34m\u001b[0m\u001b[0m\n\u001b[1;32m      3\u001b[0m \u001b[0;32mdef\u001b[0m \u001b[0mgenera_lista\u001b[0m\u001b[0;34m(\u001b[0m\u001b[0;34m)\u001b[0m\u001b[0;34m:\u001b[0m\u001b[0;34m\u001b[0m\u001b[0;34m\u001b[0m\u001b[0m\n\u001b[0;32m----> 4\u001b[0;31m     \u001b[0mlongitud\u001b[0m \u001b[0;34m=\u001b[0m \u001b[0mrandint\u001b[0m\u001b[0;34m(\u001b[0m\u001b[0;36m2\u001b[0m\u001b[0;34m,\u001b[0m \u001b[0;36m10\u001b[0m\u001b[0;34m)\u001b[0m\u001b[0;34m\u001b[0m\u001b[0;34m\u001b[0m\u001b[0m\n\u001b[0m\u001b[1;32m      5\u001b[0m     \u001b[0mresult\u001b[0m \u001b[0;34m=\u001b[0m \u001b[0;34m[\u001b[0m\u001b[0;34m]\u001b[0m\u001b[0;34m\u001b[0m\u001b[0;34m\u001b[0m\u001b[0m\n\u001b[1;32m      6\u001b[0m     \u001b[0;32mfor\u001b[0m \u001b[0mi\u001b[0m \u001b[0;32min\u001b[0m \u001b[0mrange\u001b[0m\u001b[0;34m(\u001b[0m\u001b[0mlongitud\u001b[0m\u001b[0;34m)\u001b[0m\u001b[0;34m:\u001b[0m\u001b[0;34m\u001b[0m\u001b[0;34m\u001b[0m\u001b[0m\n",
            "\u001b[0;31mNameError\u001b[0m: name 'randint' is not defined"
          ]
        }
      ]
    },
    {
      "cell_type": "code",
      "source": [
        "def siguiente(n):\n",
        "    n += 1\n",
        "    return  n\n",
        "\n",
        "siguiente(5)"
      ],
      "metadata": {
        "colab": {
          "base_uri": "https://localhost:8080/"
        },
        "id": "s4fKn4qknj6_",
        "outputId": "46f77805-6540-4b60-b85e-c7a0392826a7"
      },
      "execution_count": 5,
      "outputs": [
        {
          "output_type": "execute_result",
          "data": {
            "text/plain": [
              "6"
            ]
          },
          "metadata": {},
          "execution_count": 5
        }
      ]
    },
    {
      "cell_type": "code",
      "source": [
        "def siguiente(n):\n",
        "    n + 1\n",
        "    return  n\n",
        "\n",
        "siguiente(5)"
      ],
      "metadata": {
        "outputId": "c9989bbd-2afd-49ec-c978-02bdd3a17442",
        "colab": {
          "base_uri": "https://localhost:8080/"
        },
        "id": "As28feabn9h6"
      },
      "execution_count": 7,
      "outputs": [
        {
          "output_type": "execute_result",
          "data": {
            "text/plain": [
              "5"
            ]
          },
          "metadata": {},
          "execution_count": 7
        }
      ]
    },
    {
      "cell_type": "code",
      "source": [
        "def siguiente(n):\n",
        "    n 1= 1\n",
        "    return  n\n",
        "\n",
        "siguiente(5)"
      ],
      "metadata": {
        "outputId": "46f77805-6540-4b60-b85e-c7a0392826a7",
        "colab": {
          "base_uri": "https://localhost:8080/"
        },
        "id": "u4g5o-M4n9sD"
      },
      "execution_count": null,
      "outputs": [
        {
          "output_type": "execute_result",
          "data": {
            "text/plain": [
              "6"
            ]
          },
          "metadata": {},
          "execution_count": 5
        }
      ]
    },
    {
      "cell_type": "code",
      "source": [
        "def siguiente(n):\n",
        "    n += 1\n",
        "    return  n\n",
        "\n",
        "siguiente(5)"
      ],
      "metadata": {
        "outputId": "46f77805-6540-4b60-b85e-c7a0392826a7",
        "colab": {
          "base_uri": "https://localhost:8080/"
        },
        "id": "tCRyckKSn94y"
      },
      "execution_count": null,
      "outputs": [
        {
          "output_type": "execute_result",
          "data": {
            "text/plain": [
              "6"
            ]
          },
          "metadata": {},
          "execution_count": 5
        }
      ]
    },
    {
      "cell_type": "code",
      "source": [
        "def horas_a_segundos(horas):\n",
        "    minutos = horas * 60\n",
        "    segundos = minutos * 60\n",
        "    return segundos\n",
        "\n",
        "print(horas_a_segundos(2))\n",
        "\n"
      ],
      "metadata": {
        "id": "doHLD4Ge6dL0"
      },
      "execution_count": null,
      "outputs": []
    },
    {
      "cell_type": "code",
      "source": [
        "def resto(numerador, denominador):\n",
        "    return numerador % denominador\n",
        "\n",
        "a = 17\n",
        "b = 5\n",
        "\n",
        "print(resto(a, b))"
      ],
      "metadata": {
        "id": "J_dWgamS-AA_"
      },
      "execution_count": null,
      "outputs": []
    },
    {
      "cell_type": "code",
      "source": [
        "def cadena_a_entero(num):\n",
        "    return int(num)\n",
        "\n",
        "num = \"5\"\n",
        "print(cadena_a_entero(num))"
      ],
      "metadata": {
        "id": "5YKYDnAyAIag",
        "outputId": "6a151dc6-e406-4846-adf1-8cb18206fee6",
        "colab": {
          "base_uri": "https://localhost:8080/"
        }
      },
      "execution_count": 8,
      "outputs": [
        {
          "output_type": "stream",
          "name": "stdout",
          "text": [
            "5\n"
          ]
        }
      ]
    },
    {
      "cell_type": "code",
      "source": [
        "def perimetro(largo, ancho):\n",
        "    return 2 * (largo + ancho)\n",
        "\n",
        "print(perimetro(10, 3))"
      ],
      "metadata": {
        "id": "srkfScJXBGJW",
        "outputId": "fd1a1cfe-3bbf-48c8-d79d-1010b3c18036",
        "colab": {
          "base_uri": "https://localhost:8080/"
        }
      },
      "execution_count": 9,
      "outputs": [
        {
          "output_type": "stream",
          "name": "stdout",
          "text": [
            "26\n"
          ]
        }
      ]
    },
    {
      "cell_type": "code",
      "source": [
        "def enfasis(palabra):\n",
        "    return palabra + \"!\"\n",
        "\n",
        "dia1 = \"Viernes\"\n",
        "dia2 = \"Sábado\"\n",
        "print(enfasis(dia1))\n",
        "print(enfasis(dia2))"
      ],
      "metadata": {
        "id": "Cak87i4YEva9",
        "outputId": "d8e677d2-a366-425a-9e1b-f7a1258ed3f1",
        "colab": {
          "base_uri": "https://localhost:8080/"
        }
      },
      "execution_count": 12,
      "outputs": [
        {
          "output_type": "stream",
          "name": "stdout",
          "text": [
            "Viernes!\n",
            "Sábado!\n"
          ]
        }
      ]
    },
    {
      "cell_type": "code",
      "source": [
        "def mayor_menor(edad):\n",
        "    if edad >= 18:\n",
        "        return \"es mayor de edad\"\n",
        "    else:\n",
        "        return \"es menor de edad\"\n",
        "\n",
        "edad = 17\n",
        "print(f\"Con {edad} años {mayor_menor(edad)}.\")"
      ],
      "metadata": {
        "id": "c9c4UWCUSdgs",
        "outputId": "3c28d7de-5a58-4370-b2a8-201ea3908365",
        "colab": {
          "base_uri": "https://localhost:8080/"
        }
      },
      "execution_count": 15,
      "outputs": [
        {
          "output_type": "stream",
          "name": "stdout",
          "text": [
            "Con 17 años es menor de edad.\n"
          ]
        }
      ]
    }
  ]
}