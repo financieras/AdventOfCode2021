{
  "nbformat": 4,
  "nbformat_minor": 0,
  "metadata": {
    "colab": {
      "provenance": [],
      "authorship_tag": "ABX9TyNqBZwosr+y1NV3gXqHkD7r",
      "include_colab_link": true
    },
    "kernelspec": {
      "name": "python3",
      "display_name": "Python 3"
    },
    "language_info": {
      "name": "python"
    }
  },
  "cells": [
    {
      "cell_type": "markdown",
      "metadata": {
        "id": "view-in-github",
        "colab_type": "text"
      },
      "source": [
        "<a href=\"https://colab.research.google.com/github/financieras/AdventOfCode2021/blob/master/test.ipynb\" target=\"_parent\"><img src=\"https://colab.research.google.com/assets/colab-badge.svg\" alt=\"Open In Colab\"/></a>"
      ]
    },
    {
      "cell_type": "code",
      "execution_count": null,
      "metadata": {
        "id": "JrPsNMw__-k3"
      },
      "outputs": [],
      "source": [
        "def elementos_centrales(lista):\n",
        "    if len(lista) < 3:\n",
        "        return \"La lista debe contener al menos tres elementos\"\n",
        "\n",
        "    # sin usar el operador asterisco (*) para capturar los elementos centrales\n",
        "    elementos_centrales = lista[1:-1]\n",
        "\n",
        "    return elementos_centrales\n",
        "\n",
        "# Ejemplo de uso\n",
        "mi_lista = [1, 2, 3, 4, 5, 6, 7]\n",
        "resultado = elementos_centrales(mi_lista)\n",
        "print(resultado)\n"
      ]
    },
    {
      "cell_type": "code",
      "source": [
        "def suma(a, b, c):\n",
        "    return a + b + c\n",
        "\n",
        "# Lista de argumentos\n",
        "args = [1, 2, 3]\n",
        "\n",
        "# Usando el operador asterisco (*) para desempaquetar los argumentos\n",
        "resultado = suma(*args)\n",
        "\n",
        "print(resultado)\n"
      ],
      "metadata": {
        "colab": {
          "base_uri": "https://localhost:8080/"
        },
        "id": "OdvrCFB5A5Up",
        "outputId": "dc92cfb6-7b92-49ee-df2a-3b27805603a0"
      },
      "execution_count": 4,
      "outputs": [
        {
          "output_type": "stream",
          "name": "stdout",
          "text": [
            "6\n"
          ]
        }
      ]
    },
    {
      "cell_type": "code",
      "source": [
        "def suma(a, b, c):\n",
        "    return a + b + c\n",
        "\n",
        "def desempaquetar_y_sumar(lista):\n",
        "    # Usando el operador asterisco (*) para desempaquetar los elementos de la lista como argumentos\n",
        "    resultado = suma(*lista)\n",
        "    return resultado\n",
        "\n",
        "# Lista de argumentos\n",
        "args = [1, 2, 3, 4]\n",
        "\n",
        "# Llamada a la función desempaquetar_y_sumar con la lista de argumentos\n",
        "resultado_final = desempaquetar_y_sumar(args)\n",
        "\n",
        "print(resultado_final)\n"
      ],
      "metadata": {
        "colab": {
          "base_uri": "https://localhost:8080/",
          "height": 332
        },
        "id": "tJ5uOZbZBFQO",
        "outputId": "abfd25a9-052c-4482-cbf4-c13f684a6be9"
      },
      "execution_count": 6,
      "outputs": [
        {
          "output_type": "error",
          "ename": "TypeError",
          "evalue": "suma() takes 3 positional arguments but 4 were given",
          "traceback": [
            "\u001b[0;31m---------------------------------------------------------------------------\u001b[0m",
            "\u001b[0;31mTypeError\u001b[0m                                 Traceback (most recent call last)",
            "\u001b[0;32m<ipython-input-6-1560febb6448>\u001b[0m in \u001b[0;36m<cell line: 13>\u001b[0;34m()\u001b[0m\n\u001b[1;32m     11\u001b[0m \u001b[0;34m\u001b[0m\u001b[0m\n\u001b[1;32m     12\u001b[0m \u001b[0;31m# Llamada a la función desempaquetar_y_sumar con la lista de argumentos\u001b[0m\u001b[0;34m\u001b[0m\u001b[0;34m\u001b[0m\u001b[0m\n\u001b[0;32m---> 13\u001b[0;31m \u001b[0mresultado_final\u001b[0m \u001b[0;34m=\u001b[0m \u001b[0mdesempaquetar_y_sumar\u001b[0m\u001b[0;34m(\u001b[0m\u001b[0margs\u001b[0m\u001b[0;34m)\u001b[0m\u001b[0;34m\u001b[0m\u001b[0;34m\u001b[0m\u001b[0m\n\u001b[0m\u001b[1;32m     14\u001b[0m \u001b[0;34m\u001b[0m\u001b[0m\n\u001b[1;32m     15\u001b[0m \u001b[0mprint\u001b[0m\u001b[0;34m(\u001b[0m\u001b[0mresultado_final\u001b[0m\u001b[0;34m)\u001b[0m\u001b[0;34m\u001b[0m\u001b[0;34m\u001b[0m\u001b[0m\n",
            "\u001b[0;32m<ipython-input-6-1560febb6448>\u001b[0m in \u001b[0;36mdesempaquetar_y_sumar\u001b[0;34m(lista)\u001b[0m\n\u001b[1;32m      4\u001b[0m \u001b[0;32mdef\u001b[0m \u001b[0mdesempaquetar_y_sumar\u001b[0m\u001b[0;34m(\u001b[0m\u001b[0mlista\u001b[0m\u001b[0;34m)\u001b[0m\u001b[0;34m:\u001b[0m\u001b[0;34m\u001b[0m\u001b[0;34m\u001b[0m\u001b[0m\n\u001b[1;32m      5\u001b[0m     \u001b[0;31m# Usando el operador asterisco (*) para desempaquetar los elementos de la lista como argumentos\u001b[0m\u001b[0;34m\u001b[0m\u001b[0;34m\u001b[0m\u001b[0m\n\u001b[0;32m----> 6\u001b[0;31m     \u001b[0mresultado\u001b[0m \u001b[0;34m=\u001b[0m \u001b[0msuma\u001b[0m\u001b[0;34m(\u001b[0m\u001b[0;34m*\u001b[0m\u001b[0mlista\u001b[0m\u001b[0;34m)\u001b[0m\u001b[0;34m\u001b[0m\u001b[0;34m\u001b[0m\u001b[0m\n\u001b[0m\u001b[1;32m      7\u001b[0m     \u001b[0;32mreturn\u001b[0m \u001b[0mresultado\u001b[0m\u001b[0;34m\u001b[0m\u001b[0;34m\u001b[0m\u001b[0m\n\u001b[1;32m      8\u001b[0m \u001b[0;34m\u001b[0m\u001b[0m\n",
            "\u001b[0;31mTypeError\u001b[0m: suma() takes 3 positional arguments but 4 were given"
          ]
        }
      ]
    },
    {
      "cell_type": "code",
      "source": [
        "def suma(*args):\n",
        "    print(\"args:\", args)\n",
        "    return sum(args)\n",
        "\n",
        "def desempaquetar_y_sumar(lista):\n",
        "    # Llamada a la función suma con el operador asterisco (*) para desempaquetar los elementos de la lista\n",
        "    resultado = suma(*lista)\n",
        "    return resultado\n",
        "\n",
        "# Lista de argumentos\n",
        "args = [1, 2, 3, 4]\n",
        "\n",
        "# Llamada a la función desempaquetar_y_sumar con la lista de argumentos\n",
        "resultado_final = desempaquetar_y_sumar(args)\n",
        "\n",
        "print(resultado_final)\n"
      ],
      "metadata": {
        "colab": {
          "base_uri": "https://localhost:8080/"
        },
        "id": "uTmGB_rlBaGk",
        "outputId": "d5b6863a-2b48-4108-c3e2-d722fb48b42c"
      },
      "execution_count": 9,
      "outputs": [
        {
          "output_type": "stream",
          "name": "stdout",
          "text": [
            "args: (1, 2, 3, 4)\n",
            "10\n"
          ]
        }
      ]
    },
    {
      "cell_type": "code",
      "source": [
        "import random\n",
        "\n",
        "def suma(*args):\n",
        "    return sum(args)\n",
        "\n",
        "def desempaquetar_y_sumar(lista):\n",
        "    # Llamada a la función suma con el operador asterisco (*) para desempaquetar los elementos de la lista\n",
        "    resultado = suma(*lista)\n",
        "    return resultado\n",
        "\n",
        "# Generar una lista con longitud variable entre 2 y 6 y números aleatorios enteros sin repetición\n",
        "longitud = random.randint(2, 9)\n",
        "args = random.sample(range(10), longitud)\n",
        "\n",
        "# Llamada a la función desempaquetar_y_sumar con la lista de argumentos generada aleatoriamente\n",
        "resultado_final = desempaquetar_y_sumar(args)\n",
        "\n",
        "print(\"Lista de argumentos:\", args)\n",
        "print(\"Resultado final:\", resultado_final)\n"
      ],
      "metadata": {
        "colab": {
          "base_uri": "https://localhost:8080/"
        },
        "id": "9gZPl5ziCTLQ",
        "outputId": "3488aec5-17bf-45cb-ae4f-32d39ddf21ae"
      },
      "execution_count": 14,
      "outputs": [
        {
          "output_type": "stream",
          "name": "stdout",
          "text": [
            "Lista de argumentos: [2, 7, 4, 6, 8, 5, 9, 3]\n",
            "Resultado final: 44\n"
          ]
        }
      ]
    },
    {
      "cell_type": "code",
      "source": [
        "import random\n",
        "\n",
        "def generar_lista_aleatoria():\n",
        "    longitud = random.randint(2, 9)\n",
        "    lista_aleatoria = random.sample(range(10), longitud)\n",
        "    print(\"Lista de argumentos:\", args)\n",
        "    return lista_aleatoria\n",
        "\n",
        "def suma(*args):\n",
        "    print(\"args:\", args)\n",
        "    return sum(args)\n",
        "\n",
        "def desempaquetar_y_sumar(lista):\n",
        "    # Llamada a la función suma con el operador asterisco (*) para desempaquetar los elementos de la lista\n",
        "    resultado = suma(*lista)\n",
        "    return resultado\n",
        "\n",
        "# Generar una lista aleatoria de números enteros\n",
        "args = generar_lista_aleatoria()\n",
        "\n",
        "# Llamada a la función desempaquetar_y_sumar con la lista de argumentos generada aleatoriamente\n",
        "resultado_final = desempaquetar_y_sumar(args)\n",
        "\n",
        "print(\"Resultado final:\", resultado_final)"
      ],
      "metadata": {
        "colab": {
          "base_uri": "https://localhost:8080/"
        },
        "id": "5m7OO2YqCu8z",
        "outputId": "40674279-60ee-4d7c-d6e4-4aa3f6411298"
      },
      "execution_count": 20,
      "outputs": [
        {
          "output_type": "stream",
          "name": "stdout",
          "text": [
            "Lista de argumentos: [9, 6, 1, 0, 3, 7]\n",
            "args: (2, 1, 7, 8, 6)\n",
            "Resultado final: 24\n"
          ]
        }
      ]
    }
  ]
}