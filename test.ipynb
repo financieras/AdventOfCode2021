{
  "nbformat": 4,
  "nbformat_minor": 0,
  "metadata": {
    "colab": {
      "provenance": [],
      "authorship_tag": "ABX9TyMzqrRgIfENqRxmAjlV7Lew",
      "include_colab_link": true
    },
    "kernelspec": {
      "name": "python3",
      "display_name": "Python 3"
    },
    "language_info": {
      "name": "python"
    }
  },
  "cells": [
    {
      "cell_type": "markdown",
      "metadata": {
        "id": "view-in-github",
        "colab_type": "text"
      },
      "source": [
        "<a href=\"https://colab.research.google.com/github/financieras/AdventOfCode2021/blob/master/test.ipynb\" target=\"_parent\"><img src=\"https://colab.research.google.com/assets/colab-badge.svg\" alt=\"Open In Colab\"/></a>"
      ]
    },
    {
      "cell_type": "code",
      "execution_count": 1,
      "metadata": {
        "colab": {
          "base_uri": "https://localhost:8080/"
        },
        "id": "yEN8QyihBORT",
        "outputId": "f1411da8-79fb-4558-d8ca-cde27875497c"
      },
      "outputs": [
        {
          "output_type": "stream",
          "name": "stdout",
          "text": [
            "5.0\n",
            "3.14\n",
            "25.0\n",
            "0.0\n"
          ]
        }
      ],
      "source": [
        "def absoluto(numero):\n",
        "    if numero < 0:\n",
        "        return -numero\n",
        "    return numero\n",
        "\n",
        "# elevando al cuadrado y haciendo la raiz cuadrada\n",
        "def absoluto(numero):\n",
        "    return (numero ** 2) ** 0.5     # retorna un float\n",
        "\n",
        "print(absoluto(-5))     # 5\n",
        "print(absoluto(-3.14))  # 3.14\n",
        "print(absoluto(25))     # 25\n",
        "print(absoluto(0))      # 0"
      ]
    },
    {
      "cell_type": "code",
      "execution_count": 2,
      "metadata": {
        "colab": {
          "base_uri": "https://localhost:8080/"
        },
        "id": "oTsrdnjyBedA",
        "outputId": "687885af-4da9-4c46-b691-0f8e7694e2d3"
      },
      "outputs": [
        {
          "output_type": "stream",
          "name": "stdout",
          "text": [
            "5\n",
            "3.14\n",
            "25\n",
            "0\n"
          ]
        }
      ],
      "source": [
        "# usando un operador ternario\n",
        "def absoluto(n):\n",
        "    return n if n >= 0 else -n\n",
        "\n",
        "# usando la función max\n",
        "def absoluto(numero):\n",
        "    return max(numero, -numero)\n",
        "\n",
        "print(absoluto(-5))     # 5\n",
        "print(absoluto(-3.14))  # 3.14\n",
        "print(absoluto(25))     # 25\n",
        "print(absoluto(0))      # 0"
      ]
    },
    {
      "cell_type": "code",
      "source": [
        "def obtener_elemento_por_indice(lista, indice):\n",
        "    \"\"\"\n",
        "    Esta función toma una lista y un índice como entrada\n",
        "    y devuelve el elemento de la lista correspondiente al índice dado.\n",
        "    Si el índice está fuera del rango de la lista, devuelve None.\n",
        "    \"\"\"\n",
        "    if 0 <= indice < len(lista):\n",
        "        return lista[indice]\n",
        "    else:\n",
        "        return None\n",
        "\n",
        "lista = [10, 11, 12]\n",
        "\n",
        "# Caso 1\n",
        "indice = 2\n",
        "print(obtener_elemento_por_indice(lista, indice))   # 12\n",
        "\n",
        "# Caso 2\n",
        "indice = 3\n",
        "print(obtener_elemento_por_indice(lista, indice))   # None"
      ],
      "metadata": {
        "colab": {
          "base_uri": "https://localhost:8080/"
        },
        "id": "49kxq7-NHxO3",
        "outputId": "583ab1f3-283b-4759-df16-4e747c83d067"
      },
      "execution_count": 7,
      "outputs": [
        {
          "output_type": "stream",
          "name": "stdout",
          "text": [
            "12\n",
            "None\n"
          ]
        }
      ]
    },
    {
      "cell_type": "code",
      "source": [
        "lista = [10, 11, 12]\n",
        "lista[3]    # IndexError: list index out of range"
      ],
      "metadata": {
        "colab": {
          "base_uri": "https://localhost:8080/",
          "height": 159
        },
        "id": "jScECKO0Ja_B",
        "outputId": "bf27ed3a-e248-4909-abfb-691b799f93c0"
      },
      "execution_count": 8,
      "outputs": [
        {
          "output_type": "error",
          "ename": "IndexError",
          "evalue": "list index out of range",
          "traceback": [
            "\u001b[0;31m---------------------------------------------------------------------------\u001b[0m",
            "\u001b[0;31mIndexError\u001b[0m                                Traceback (most recent call last)",
            "\u001b[0;32m<ipython-input-8-576cdb101f18>\u001b[0m in \u001b[0;36m<cell line: 2>\u001b[0;34m()\u001b[0m\n\u001b[1;32m      1\u001b[0m \u001b[0mlista\u001b[0m \u001b[0;34m=\u001b[0m \u001b[0;34m[\u001b[0m\u001b[0;36m10\u001b[0m\u001b[0;34m,\u001b[0m \u001b[0;36m11\u001b[0m\u001b[0;34m,\u001b[0m \u001b[0;36m12\u001b[0m\u001b[0;34m]\u001b[0m\u001b[0;34m\u001b[0m\u001b[0;34m\u001b[0m\u001b[0m\n\u001b[0;32m----> 2\u001b[0;31m \u001b[0mlista\u001b[0m\u001b[0;34m[\u001b[0m\u001b[0;36m3\u001b[0m\u001b[0;34m]\u001b[0m    \u001b[0;31m# Error, porque el índice 3 no existe en la lista\u001b[0m\u001b[0;34m\u001b[0m\u001b[0;34m\u001b[0m\u001b[0m\n\u001b[0m",
            "\u001b[0;31mIndexError\u001b[0m: list index out of range"
          ]
        }
      ]
    },
    {
      "cell_type": "code",
      "source": [
        "def concatenar_strings(*strings):\n",
        "    \"\"\"\n",
        "    Esta función toma un número indeterminado de argumentos tipo string\n",
        "    y devuelve la concatenación de todos ellos.\n",
        "    \"\"\"\n",
        "    concatenacion = \"\"\n",
        "    for string in strings:\n",
        "        concatenacion += string\n",
        "    return concatenacion\n",
        "\n",
        "# Ejemplo de uso de la función\n",
        "print(concatenar_strings(\"Hola\", \" \", \"mundo\"))\n",
        "print(concatenar_strings(\"Python\", \" es\", \" \", \"genial\"))\n",
        "print(concatenar_strings(\"¡Hola!\", \" \", \"¿cómo\", \" \", \"estás?\"))\n"
      ],
      "metadata": {
        "colab": {
          "base_uri": "https://localhost:8080/"
        },
        "id": "FCoW0wAFOSi0",
        "outputId": "2935a356-566c-44b0-8fd4-6559cfdb77b6"
      },
      "execution_count": 10,
      "outputs": [
        {
          "output_type": "stream",
          "name": "stdout",
          "text": [
            "Hola mundo\n",
            "Python es genial\n",
            "¡Hola! ¿cómo estás?\n"
          ]
        }
      ]
    },
    {
      "cell_type": "code",
      "source": [
        "def calcular_pago_hipoteca(monto_prestamo, tasa_interes_anual, duracion_meses):\n",
        "    \"\"\"\n",
        "    Esta función calcula el pago mensual de una hipoteca.\n",
        "    \"\"\"\n",
        "    tasa_interes_mensual = tasa_interes_anual / 12 / 100\n",
        "    pago_mensual = monto_prestamo * (tasa_interes_mensual / (1 - (1 + tasa_interes_mensual) ** -duracion_meses))\n",
        "    return round(pago_mensual, 2)   # redondeamos a dos decimales\n",
        "\n",
        "# Ejemplo de uso de la función\n",
        "monto = 200000  # Monto del préstamo, importe prestado en euros\n",
        "tasa_interes_anual = 4.5  # Tasa de interés anual en porcentaje\n",
        "duracion = 30  # Duración del préstamo en años\n",
        "\n",
        "pago_mensual = calcular_pago_hipoteca(monto, tasa_interes_anual, duracion * 12)\n",
        "print(\"El pago mensual de la hipoteca será de \" + str(pago_mensual) + \" €.\")"
      ],
      "metadata": {
        "colab": {
          "base_uri": "https://localhost:8080/"
        },
        "id": "1AZVLmM3QIJS",
        "outputId": "81f4cab5-db9f-4715-d8d9-61bdd11f69ee"
      },
      "execution_count": 12,
      "outputs": [
        {
          "output_type": "stream",
          "name": "stdout",
          "text": [
            "El pago mensual de la hipoteca será de 1013.37 €.\n"
          ]
        }
      ]
    },
    {
      "cell_type": "code",
      "source": [
        "def calcular_pago_hipoteca(monto_prestamo, tasa_interes_anual, duracion_meses):\n",
        "    \"\"\"\n",
        "    Esta función calcula el pago mensual de una hipoteca.\n",
        "    \"\"\"\n",
        "    tasa_interes_mensual = tasa_interes_anual / 12 / 100\n",
        "    pago_mensual = monto_prestamo * (tasa_interes_mensual / (1 - (1 + tasa_interes_mensual) ** -duracion_meses))\n",
        "    return f\"{pago_mensual:.2f}\"   # mostrando dos decimales redondeados\n",
        "\n",
        "# Ejemplo de uso de la función\n",
        "monto = 200000  # Monto del préstamo, importe prestado en euros\n",
        "tasa_interes_anual = 4.5  # Tasa de interés anual en porcentaje\n",
        "duracion = 30  # Duración del préstamo en años\n",
        "\n",
        "pago_mensual = calcular_pago_hipoteca(monto, tasa_interes_anual, duracion * 12)\n",
        "print(f\"El pago mensual de la hipoteca será de {pago_mensual} €.\")"
      ],
      "metadata": {
        "colab": {
          "base_uri": "https://localhost:8080/"
        },
        "outputId": "b4c99fce-7e62-4d1e-d460-42cf01f95e49",
        "id": "-sWk2EdLSDpA"
      },
      "execution_count": 14,
      "outputs": [
        {
          "output_type": "stream",
          "name": "stdout",
          "text": [
            "El pago mensual de la hipoteca será de 1013.37 €.\n"
          ]
        }
      ]
    }
  ]
}