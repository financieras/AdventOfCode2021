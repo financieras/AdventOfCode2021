{
  "nbformat": 4,
  "nbformat_minor": 0,
  "metadata": {
    "colab": {
      "provenance": [],
      "authorship_tag": "ABX9TyMYEQDHJTYbL5bRvkNJSr/k",
      "include_colab_link": true
    },
    "kernelspec": {
      "name": "python3",
      "display_name": "Python 3"
    },
    "language_info": {
      "name": "python"
    }
  },
  "cells": [
    {
      "cell_type": "markdown",
      "metadata": {
        "id": "view-in-github",
        "colab_type": "text"
      },
      "source": [
        "<a href=\"https://colab.research.google.com/github/financieras/AdventOfCode2021/blob/master/test.ipynb\" target=\"_parent\"><img src=\"https://colab.research.google.com/assets/colab-badge.svg\" alt=\"Open In Colab\"/></a>"
      ]
    },
    {
      "cell_type": "markdown",
      "source": [
        "<pre><code></code></pre>"
      ],
      "metadata": {
        "id": "ELsncyeog963"
      }
    },
    {
      "cell_type": "markdown",
      "source": [
        "En un juego de mesa las victorias dan 3 puntos, los empates dan 1 punto y las derrotas dan 0 puntos.\n",
        "\n",
        "Hemos creado una función que recibe los parámetros (victorias, empates, derrotas) en ese orden, para retornar los puntos totales obtenidos por un jugador.\n",
        "\n",
        "Como las derrotas no dan puntos, en algunas ocasiones no nos dan ese último dato, por lo que solo nos dan (victorias, empates).\n",
        "\n",
        "Indique cuál de los siguientes códigos calcula correctamente los puntos totales obtenidos por el jugador."
      ],
      "metadata": {
        "id": "k5FbZGmxdOV5"
      }
    },
    {
      "cell_type": "code",
      "execution_count": null,
      "metadata": {
        "colab": {
          "base_uri": "https://localhost:8080/"
        },
        "outputId": "95895bdf-1a0e-4898-9b43-84bc31f179e9",
        "id": "DxkLjNZAefZD"
      },
      "outputs": [
        {
          "output_type": "stream",
          "name": "stdout",
          "text": [
            "34\n",
            "39\n"
          ]
        }
      ],
      "source": [
        "def puntuacion(victorias, empates, derrotas=None):\n",
        "    return victorias * 3 + empates\n",
        "\n",
        "print(puntuacion(10, 4, 2))\n",
        "print(puntuacion(12, 3))"
      ]
    },
    {
      "cell_type": "code",
      "execution_count": null,
      "metadata": {
        "colab": {
          "base_uri": "https://localhost:8080/",
          "height": 143
        },
        "id": "f3UP0_1IdNLP",
        "outputId": "d8e10fff-439a-476c-d7c5-94fbf0713d21"
      },
      "outputs": [
        {
          "output_type": "error",
          "ename": "SyntaxError",
          "evalue": "invalid syntax (<ipython-input-8-042b45365f45>, line 1)",
          "traceback": [
            "\u001b[0;36m  File \u001b[0;32m\"<ipython-input-8-042b45365f45>\"\u001b[0;36m, line \u001b[0;32m1\u001b[0m\n\u001b[0;31m    def puntuacion(victorias, empates, derrotas==0):\u001b[0m\n\u001b[0m                                               ^\u001b[0m\n\u001b[0;31mSyntaxError\u001b[0m\u001b[0;31m:\u001b[0m invalid syntax\n"
          ]
        }
      ],
      "source": [
        "def puntuacion(victorias, empates, derrotas==0):\n",
        "    return victorias * 3 + empates * 1 + derrotas\n",
        "\n",
        "print(puntuacion(10, 4, 2))\n",
        "print(puntuacion(12, 3))"
      ]
    },
    {
      "cell_type": "code",
      "execution_count": null,
      "metadata": {
        "colab": {
          "base_uri": "https://localhost:8080/",
          "height": 233
        },
        "outputId": "8ed290c0-3272-4828-8cfc-ce2a02fa2ebc",
        "id": "qyMi2PPriOlv"
      },
      "outputs": [
        {
          "output_type": "error",
          "ename": "TypeError",
          "evalue": "puntuacion() takes 2 positional arguments but 3 were given",
          "traceback": [
            "\u001b[0;31m---------------------------------------------------------------------------\u001b[0m",
            "\u001b[0;31mTypeError\u001b[0m                                 Traceback (most recent call last)",
            "\u001b[0;32m<ipython-input-9-45e50798e5bb>\u001b[0m in \u001b[0;36m<cell line: 4>\u001b[0;34m()\u001b[0m\n\u001b[1;32m      2\u001b[0m     \u001b[0;32mreturn\u001b[0m \u001b[0mvictorias\u001b[0m \u001b[0;34m*\u001b[0m \u001b[0;36m3\u001b[0m \u001b[0;34m+\u001b[0m \u001b[0mempates\u001b[0m\u001b[0;34m\u001b[0m\u001b[0;34m\u001b[0m\u001b[0m\n\u001b[1;32m      3\u001b[0m \u001b[0;34m\u001b[0m\u001b[0m\n\u001b[0;32m----> 4\u001b[0;31m \u001b[0mprint\u001b[0m\u001b[0;34m(\u001b[0m\u001b[0mpuntuacion\u001b[0m\u001b[0;34m(\u001b[0m\u001b[0;36m10\u001b[0m\u001b[0;34m,\u001b[0m \u001b[0;36m4\u001b[0m\u001b[0;34m,\u001b[0m \u001b[0;36m2\u001b[0m\u001b[0;34m)\u001b[0m\u001b[0;34m)\u001b[0m\u001b[0;34m\u001b[0m\u001b[0;34m\u001b[0m\u001b[0m\n\u001b[0m\u001b[1;32m      5\u001b[0m \u001b[0mprint\u001b[0m\u001b[0;34m(\u001b[0m\u001b[0mpuntuacion\u001b[0m\u001b[0;34m(\u001b[0m\u001b[0;36m12\u001b[0m\u001b[0;34m,\u001b[0m \u001b[0;36m3\u001b[0m\u001b[0;34m)\u001b[0m\u001b[0;34m)\u001b[0m\u001b[0;34m\u001b[0m\u001b[0;34m\u001b[0m\u001b[0m\n",
            "\u001b[0;31mTypeError\u001b[0m: puntuacion() takes 2 positional arguments but 3 were given"
          ]
        }
      ],
      "source": [
        "def puntuacion(victorias, empates):\n",
        "    return victorias * 3 + empates\n",
        "\n",
        "print(puntuacion(10, 4, 2))\n",
        "print(puntuacion(12, 3))"
      ]
    },
    {
      "cell_type": "code",
      "execution_count": null,
      "metadata": {
        "colab": {
          "base_uri": "https://localhost:8080/",
          "height": 143
        },
        "outputId": "c4534dfc-642d-4deb-f4eb-039e50a1356c",
        "id": "TDGwalmAefem"
      },
      "outputs": [
        {
          "output_type": "error",
          "ename": "SyntaxError",
          "evalue": "invalid syntax. Maybe you meant '==' or ':=' instead of '='? (<ipython-input-4-69b3060a6525>, line 2)",
          "traceback": [
            "\u001b[0;36m  File \u001b[0;32m\"<ipython-input-4-69b3060a6525>\"\u001b[0;36m, line \u001b[0;32m2\u001b[0m\n\u001b[0;31m    if derrotas = None:\u001b[0m\n\u001b[0m       ^\u001b[0m\n\u001b[0;31mSyntaxError\u001b[0m\u001b[0;31m:\u001b[0m invalid syntax. Maybe you meant '==' or ':=' instead of '='?\n"
          ]
        }
      ],
      "source": [
        "def puntuacion(victorias, empates, derrotas=None):\n",
        "    if derrotas = None:\n",
        "        derrotas = 0\n",
        "    return victorias * 3 + empates * 1 + derrotas * 0\n",
        "\n",
        "print(puntuacion(10, 4, 2))\n",
        "print(puntuacion(12, 3))"
      ]
    },
    {
      "cell_type": "code",
      "execution_count": null,
      "metadata": {
        "colab": {
          "base_uri": "https://localhost:8080/",
          "height": 233
        },
        "outputId": "301e150a-46e1-43af-e6b7-728fc8d38270",
        "id": "tIEREME-efka"
      },
      "outputs": [
        {
          "output_type": "stream",
          "name": "stdout",
          "text": [
            "34\n"
          ]
        },
        {
          "output_type": "error",
          "ename": "TypeError",
          "evalue": "puntuacion() missing 1 required positional argument: 'derrotas'",
          "traceback": [
            "\u001b[0;31m---------------------------------------------------------------------------\u001b[0m",
            "\u001b[0;31mTypeError\u001b[0m                                 Traceback (most recent call last)",
            "\u001b[0;32m<ipython-input-5-fb2abad52ece>\u001b[0m in \u001b[0;36m<cell line: 5>\u001b[0;34m()\u001b[0m\n\u001b[1;32m      3\u001b[0m \u001b[0;34m\u001b[0m\u001b[0m\n\u001b[1;32m      4\u001b[0m \u001b[0mprint\u001b[0m\u001b[0;34m(\u001b[0m\u001b[0mpuntuacion\u001b[0m\u001b[0;34m(\u001b[0m\u001b[0;36m10\u001b[0m\u001b[0;34m,\u001b[0m \u001b[0;36m4\u001b[0m\u001b[0;34m,\u001b[0m \u001b[0;36m2\u001b[0m\u001b[0;34m)\u001b[0m\u001b[0;34m)\u001b[0m\u001b[0;34m\u001b[0m\u001b[0;34m\u001b[0m\u001b[0m\n\u001b[0;32m----> 5\u001b[0;31m \u001b[0mprint\u001b[0m\u001b[0;34m(\u001b[0m\u001b[0mpuntuacion\u001b[0m\u001b[0;34m(\u001b[0m\u001b[0;36m12\u001b[0m\u001b[0;34m,\u001b[0m \u001b[0;36m3\u001b[0m\u001b[0;34m)\u001b[0m\u001b[0;34m)\u001b[0m\u001b[0;34m\u001b[0m\u001b[0;34m\u001b[0m\u001b[0m\n\u001b[0m",
            "\u001b[0;31mTypeError\u001b[0m: puntuacion() missing 1 required positional argument: 'derrotas'"
          ]
        }
      ],
      "source": [
        "def puntuacion(victorias, empates, derrotas):\n",
        "    return victorias * 3 + empates * 1 + derrotas * 0\n",
        "\n",
        "print(puntuacion(10, 4, 2))\n",
        "print(puntuacion(12, 3))"
      ]
    },
    {
      "cell_type": "markdown",
      "source": [
        "  Deseamos elevar un número entero positivo n a un exponente entero positivo m."
      ],
      "metadata": {
        "id": "T1a1sTrljFyl"
      }
    },
    {
      "cell_type": "code",
      "source": [
        "def elevar(n, m):\n",
        "    producto = 1\n",
        "    for i in range(m):\n",
        "        producto *= n\n",
        "    return producto\n",
        "\n",
        "n, m = 2, 4\n",
        "print(f\"Al elevar {n} a {m} obtenemos {elevar(n, m)}.\")\n",
        "\n",
        "a = b = 3\n",
        "print(f\"Al elevar {a} a {b} obtenemos {elevar(a, b)}.\")"
      ],
      "metadata": {
        "colab": {
          "base_uri": "https://localhost:8080/"
        },
        "outputId": "b98d9ede-ac17-4164-f690-23de2130674a",
        "id": "6r-MGFnEkqht"
      },
      "execution_count": 5,
      "outputs": [
        {
          "output_type": "stream",
          "name": "stdout",
          "text": [
            "Al elevar 2 a 4 obtenemos 16.\n",
            "Al elevar 3 a 3 obtenemos 27.\n"
          ]
        }
      ]
    },
    {
      "cell_type": "code",
      "source": [
        "def elevar(n, m):\n",
        "    return n ** m\n",
        "\n",
        "n, m = 2, 4\n",
        "print(f\"Al elevar {n} a {m} obtenemos {elevar(n, m)}.\")\n",
        "\n",
        "a, b = 3\n",
        "print(f\"Al elevar {a} a {b} obtenemos {elevar(a, b)}.\")"
      ],
      "metadata": {
        "colab": {
          "base_uri": "https://localhost:8080/",
          "height": 251
        },
        "outputId": "81f756d3-b55f-4acf-92bb-38f0dfb39e3c",
        "id": "Yvq4Go1tkqdT"
      },
      "execution_count": null,
      "outputs": [
        {
          "output_type": "stream",
          "name": "stdout",
          "text": [
            "Al elevar 2 a 4 obtenemos 16.\n"
          ]
        },
        {
          "output_type": "error",
          "ename": "TypeError",
          "evalue": "cannot unpack non-iterable int object",
          "traceback": [
            "\u001b[0;31m---------------------------------------------------------------------------\u001b[0m",
            "\u001b[0;31mTypeError\u001b[0m                                 Traceback (most recent call last)",
            "\u001b[0;32m<ipython-input-15-90c96924e634>\u001b[0m in \u001b[0;36m<cell line: 7>\u001b[0;34m()\u001b[0m\n\u001b[1;32m      5\u001b[0m \u001b[0mprint\u001b[0m\u001b[0;34m(\u001b[0m\u001b[0;34mf\"Al elevar {n} a {m} obtenemos {elevar(n, m)}.\"\u001b[0m\u001b[0;34m)\u001b[0m\u001b[0;34m\u001b[0m\u001b[0;34m\u001b[0m\u001b[0m\n\u001b[1;32m      6\u001b[0m \u001b[0;34m\u001b[0m\u001b[0m\n\u001b[0;32m----> 7\u001b[0;31m \u001b[0ma\u001b[0m\u001b[0;34m,\u001b[0m \u001b[0mb\u001b[0m \u001b[0;34m=\u001b[0m \u001b[0;36m3\u001b[0m\u001b[0;34m\u001b[0m\u001b[0;34m\u001b[0m\u001b[0m\n\u001b[0m\u001b[1;32m      8\u001b[0m \u001b[0mprint\u001b[0m\u001b[0;34m(\u001b[0m\u001b[0;34mf\"Al elevar {a} a {b} obtenemos {elevar(a, b)}.\"\u001b[0m\u001b[0;34m)\u001b[0m\u001b[0;34m\u001b[0m\u001b[0;34m\u001b[0m\u001b[0m\n",
            "\u001b[0;31mTypeError\u001b[0m: cannot unpack non-iterable int object"
          ]
        }
      ]
    },
    {
      "cell_type": "code",
      "source": [
        "n = 2\n",
        "m = 4\n",
        "\n",
        "def elevar(n, m):\n",
        "    return n ** m\n",
        "\n",
        "print(f\"Al elevar {n} a {m} obtenemos {elevar(n, m)}.\")\n",
        "\n",
        "a, b = 3\n",
        "\n",
        "print(f\"Al elevar {a} a {b} obtenemos {elevar(a, b)}.\")"
      ],
      "metadata": {
        "colab": {
          "base_uri": "https://localhost:8080/",
          "height": 269
        },
        "id": "VuEJIFJ2jTdk",
        "outputId": "6626f2bf-bb85-40e1-d43d-a24810bf2fdc"
      },
      "execution_count": 4,
      "outputs": [
        {
          "output_type": "stream",
          "name": "stdout",
          "text": [
            "Al elevar 2 a 4 obtenemos 16.\n"
          ]
        },
        {
          "output_type": "error",
          "ename": "TypeError",
          "evalue": "cannot unpack non-iterable int object",
          "traceback": [
            "\u001b[0;31m---------------------------------------------------------------------------\u001b[0m",
            "\u001b[0;31mTypeError\u001b[0m                                 Traceback (most recent call last)",
            "\u001b[0;32m<ipython-input-4-ab3b96930c25>\u001b[0m in \u001b[0;36m<cell line: 9>\u001b[0;34m()\u001b[0m\n\u001b[1;32m      7\u001b[0m \u001b[0mprint\u001b[0m\u001b[0;34m(\u001b[0m\u001b[0;34mf\"Al elevar {n} a {m} obtenemos {elevar(n, m)}.\"\u001b[0m\u001b[0;34m)\u001b[0m\u001b[0;34m\u001b[0m\u001b[0;34m\u001b[0m\u001b[0m\n\u001b[1;32m      8\u001b[0m \u001b[0;34m\u001b[0m\u001b[0m\n\u001b[0;32m----> 9\u001b[0;31m \u001b[0ma\u001b[0m\u001b[0;34m,\u001b[0m \u001b[0mb\u001b[0m \u001b[0;34m=\u001b[0m \u001b[0;36m3\u001b[0m\u001b[0;34m\u001b[0m\u001b[0;34m\u001b[0m\u001b[0m\n\u001b[0m\u001b[1;32m     10\u001b[0m \u001b[0;34m\u001b[0m\u001b[0m\n\u001b[1;32m     11\u001b[0m \u001b[0mprint\u001b[0m\u001b[0;34m(\u001b[0m\u001b[0;34mf\"Al elevar {a} a {b} obtenemos {elevar(a, b)}.\"\u001b[0m\u001b[0;34m)\u001b[0m\u001b[0;34m\u001b[0m\u001b[0;34m\u001b[0m\u001b[0m\n",
            "\u001b[0;31mTypeError\u001b[0m: cannot unpack non-iterable int object"
          ]
        }
      ]
    },
    {
      "cell_type": "code",
      "source": [
        "def elevar(n, m):\n",
        "    producto = 1\n",
        "    for _ in range(m):\n",
        "        producto *= n\n",
        "    return producto\n",
        "\n",
        "print(f\"Al elevar {2} a {4} obtenemos {elevar(2, 4)}.\")\n",
        "\n",
        "a == 3\n",
        "print(f\"Al elevar {a} a {a} obtenemos {elevar(a, a)}.\")"
      ],
      "metadata": {
        "colab": {
          "base_uri": "https://localhost:8080/"
        },
        "outputId": "3c0122b2-f91a-4288-e3e8-043e8903146b",
        "id": "LNFxdcRskqnD"
      },
      "execution_count": 6,
      "outputs": [
        {
          "output_type": "stream",
          "name": "stdout",
          "text": [
            "Al elevar 2 a 4 obtenemos 16.\n",
            "Al elevar 3 a 3 obtenemos 27.\n"
          ]
        }
      ]
    },
    {
      "cell_type": "markdown",
      "source": [
        "Tenemos una función de Python que recibe como parámetro un diccionario donde se muestran nombres de amigos y su edad correspondiente.\n",
        "\n",
        "Queremos que la función nos retorne cuántos amigos hay en ese grupo.\n",
        "\n",
        "Indique cuál de los siguientes códigos realiza correctamente esta función."
      ],
      "metadata": {
        "id": "Ukbke5TuYaLi"
      }
    },
    {
      "cell_type": "code",
      "source": [
        "grupo1 = {'Ana':15,\n",
        "          'Jose':17,\n",
        "          'Paula':16}\n",
        "\n",
        "grupo2 = {'Eva':16,\n",
        "          'Mario':18,\n",
        "          'Sole':17,\n",
        "          'Pablo':16}\n",
        "\n",
        "def num_amigos(diccionario):\n",
        "    return len(diccionario.items())\n",
        "\n",
        "print(f\"El grupo 1 tiene {num_amigos(grupo1)} miembros.\")\n",
        "print(f\"El grupo 2 tiene {num_amigos(grupo2)} miembros.\")"
      ],
      "metadata": {
        "outputId": "61198172-e6df-4bd4-ddfb-897215b710fc",
        "colab": {
          "base_uri": "https://localhost:8080/"
        },
        "id": "UvrnrJ2JaK3B"
      },
      "execution_count": 1,
      "outputs": [
        {
          "output_type": "stream",
          "name": "stdout",
          "text": [
            "El grupo 1 tiene 3 miembros.\n",
            "El grupo 2 tiene 4 miembros.\n"
          ]
        }
      ]
    },
    {
      "cell_type": "code",
      "source": [
        "grupo1 = {'Ana':15,\n",
        "          'Jose':17,\n",
        "          'Paula':16}\n",
        "\n",
        "grupo2 = {'Eva':16,\n",
        "          'Mario':18,\n",
        "          'Sole':17,\n",
        "          'Pablo':16}\n",
        "\n",
        "def num_amigos(diccionario):\n",
        "    return length(diccionario)\n",
        "\n",
        "print(f\"El grupo 1 tiene {num_amigos(grupo1)} miembros.\")\n",
        "print(f\"El grupo 2 tiene {num_amigos(grupo2)} miembros.\")"
      ],
      "metadata": {
        "outputId": "81bd413c-99af-40e5-9bf1-4a7d10b4d41b",
        "colab": {
          "base_uri": "https://localhost:8080/",
          "height": 358
        },
        "id": "npH832sDaKuo"
      },
      "execution_count": 12,
      "outputs": [
        {
          "output_type": "error",
          "ename": "NameError",
          "evalue": "name 'length' is not defined",
          "traceback": [
            "\u001b[0;31m---------------------------------------------------------------------------\u001b[0m",
            "\u001b[0;31mNameError\u001b[0m                                 Traceback (most recent call last)",
            "\u001b[0;32m<ipython-input-12-8dcccc01b57c>\u001b[0m in \u001b[0;36m<cell line: 13>\u001b[0;34m()\u001b[0m\n\u001b[1;32m     11\u001b[0m     \u001b[0;32mreturn\u001b[0m \u001b[0mlength\u001b[0m\u001b[0;34m(\u001b[0m\u001b[0mdiccionario\u001b[0m\u001b[0;34m)\u001b[0m\u001b[0;34m\u001b[0m\u001b[0;34m\u001b[0m\u001b[0m\n\u001b[1;32m     12\u001b[0m \u001b[0;34m\u001b[0m\u001b[0m\n\u001b[0;32m---> 13\u001b[0;31m \u001b[0mprint\u001b[0m\u001b[0;34m(\u001b[0m\u001b[0;34mf\"El grupo 1 tiene {num_amigos(grupo1)} miembros.\"\u001b[0m\u001b[0;34m)\u001b[0m\u001b[0;34m\u001b[0m\u001b[0;34m\u001b[0m\u001b[0m\n\u001b[0m\u001b[1;32m     14\u001b[0m \u001b[0mprint\u001b[0m\u001b[0;34m(\u001b[0m\u001b[0;34mf\"El grupo 2 tiene {num_amigos(grupo2)} miembros.\"\u001b[0m\u001b[0;34m)\u001b[0m\u001b[0;34m\u001b[0m\u001b[0;34m\u001b[0m\u001b[0m\n",
            "\u001b[0;32m<ipython-input-12-8dcccc01b57c>\u001b[0m in \u001b[0;36mnum_amigos\u001b[0;34m(diccionario)\u001b[0m\n\u001b[1;32m      9\u001b[0m \u001b[0;34m\u001b[0m\u001b[0m\n\u001b[1;32m     10\u001b[0m \u001b[0;32mdef\u001b[0m \u001b[0mnum_amigos\u001b[0m\u001b[0;34m(\u001b[0m\u001b[0mdiccionario\u001b[0m\u001b[0;34m)\u001b[0m\u001b[0;34m:\u001b[0m\u001b[0;34m\u001b[0m\u001b[0;34m\u001b[0m\u001b[0m\n\u001b[0;32m---> 11\u001b[0;31m     \u001b[0;32mreturn\u001b[0m \u001b[0mlength\u001b[0m\u001b[0;34m(\u001b[0m\u001b[0mdiccionario\u001b[0m\u001b[0;34m)\u001b[0m\u001b[0;34m\u001b[0m\u001b[0;34m\u001b[0m\u001b[0m\n\u001b[0m\u001b[1;32m     12\u001b[0m \u001b[0;34m\u001b[0m\u001b[0m\n\u001b[1;32m     13\u001b[0m \u001b[0mprint\u001b[0m\u001b[0;34m(\u001b[0m\u001b[0;34mf\"El grupo 1 tiene {num_amigos(grupo1)} miembros.\"\u001b[0m\u001b[0;34m)\u001b[0m\u001b[0;34m\u001b[0m\u001b[0;34m\u001b[0m\u001b[0m\n",
            "\u001b[0;31mNameError\u001b[0m: name 'length' is not defined"
          ]
        }
      ]
    },
    {
      "cell_type": "code",
      "source": [
        "grupo1 = {'Ana':15,\n",
        "          'Jose':17,\n",
        "          'Paula':16}\n",
        "\n",
        "grupo2 = {'Eva':16,\n",
        "          'Mario':18,\n",
        "          'Sole':17,\n",
        "          'Pablo':16}\n",
        "\n",
        "def num_amigos(diccionario):\n",
        "    return leng(diccionario)\n",
        "\n",
        "print(f\"El grupo 1 tiene {num_amigos(grupo1)} miembros.\")\n",
        "print(f\"El grupo 2 tiene {num_amigos(grupo2)} miembros.\")"
      ],
      "metadata": {
        "colab": {
          "base_uri": "https://localhost:8080/",
          "height": 358
        },
        "id": "uryONLSJYa5Z",
        "outputId": "6abe3338-04d0-48a9-93a3-602798ba533d"
      },
      "execution_count": 2,
      "outputs": [
        {
          "output_type": "error",
          "ename": "NameError",
          "evalue": "name 'leng' is not defined",
          "traceback": [
            "\u001b[0;31m---------------------------------------------------------------------------\u001b[0m",
            "\u001b[0;31mNameError\u001b[0m                                 Traceback (most recent call last)",
            "\u001b[0;32m<ipython-input-2-fe2063b2ed56>\u001b[0m in \u001b[0;36m<cell line: 13>\u001b[0;34m()\u001b[0m\n\u001b[1;32m     11\u001b[0m     \u001b[0;32mreturn\u001b[0m \u001b[0mleng\u001b[0m\u001b[0;34m(\u001b[0m\u001b[0mdiccionario\u001b[0m\u001b[0;34m)\u001b[0m\u001b[0;34m\u001b[0m\u001b[0;34m\u001b[0m\u001b[0m\n\u001b[1;32m     12\u001b[0m \u001b[0;34m\u001b[0m\u001b[0m\n\u001b[0;32m---> 13\u001b[0;31m \u001b[0mprint\u001b[0m\u001b[0;34m(\u001b[0m\u001b[0;34mf\"El grupo 1 tiene {num_amigos(grupo1)} miembros.\"\u001b[0m\u001b[0;34m)\u001b[0m\u001b[0;34m\u001b[0m\u001b[0;34m\u001b[0m\u001b[0m\n\u001b[0m\u001b[1;32m     14\u001b[0m \u001b[0mprint\u001b[0m\u001b[0;34m(\u001b[0m\u001b[0;34mf\"El grupo 2 tiene {num_amigos(grupo2)} miembros.\"\u001b[0m\u001b[0;34m)\u001b[0m\u001b[0;34m\u001b[0m\u001b[0;34m\u001b[0m\u001b[0m\n",
            "\u001b[0;32m<ipython-input-2-fe2063b2ed56>\u001b[0m in \u001b[0;36mnum_amigos\u001b[0;34m(diccionario)\u001b[0m\n\u001b[1;32m      9\u001b[0m \u001b[0;34m\u001b[0m\u001b[0m\n\u001b[1;32m     10\u001b[0m \u001b[0;32mdef\u001b[0m \u001b[0mnum_amigos\u001b[0m\u001b[0;34m(\u001b[0m\u001b[0mdiccionario\u001b[0m\u001b[0;34m)\u001b[0m\u001b[0;34m:\u001b[0m\u001b[0;34m\u001b[0m\u001b[0;34m\u001b[0m\u001b[0m\n\u001b[0;32m---> 11\u001b[0;31m     \u001b[0;32mreturn\u001b[0m \u001b[0mleng\u001b[0m\u001b[0;34m(\u001b[0m\u001b[0mdiccionario\u001b[0m\u001b[0;34m)\u001b[0m\u001b[0;34m\u001b[0m\u001b[0;34m\u001b[0m\u001b[0m\n\u001b[0m\u001b[1;32m     12\u001b[0m \u001b[0;34m\u001b[0m\u001b[0m\n\u001b[1;32m     13\u001b[0m \u001b[0mprint\u001b[0m\u001b[0;34m(\u001b[0m\u001b[0;34mf\"El grupo 1 tiene {num_amigos(grupo1)} miembros.\"\u001b[0m\u001b[0;34m)\u001b[0m\u001b[0;34m\u001b[0m\u001b[0;34m\u001b[0m\u001b[0m\n",
            "\u001b[0;31mNameError\u001b[0m: name 'leng' is not defined"
          ]
        }
      ]
    },
    {
      "cell_type": "code",
      "source": [
        "grupo1 = {'Ana':15,\n",
        "          'Jose':17,\n",
        "          'Paula':16}\n",
        "\n",
        "grupo2 = {'Eva':16,\n",
        "          'Mario':18,\n",
        "          'Sole':17,\n",
        "          'Pablo':16}\n",
        "\n",
        "def num_amigos(diccionario):\n",
        "    count = 0\n",
        "    for key() in diccionario:\n",
        "        count += 1\n",
        "    return count\n",
        "\n",
        "print(f\"El grupo 1 tiene {num_amigos(grupo1)} miembros.\")\n",
        "print(f\"El grupo 2 tiene {num_amigos(grupo2)} miembros.\")"
      ],
      "metadata": {
        "outputId": "8ce3e35a-5d1e-4a0c-e88c-209403184b6a",
        "colab": {
          "base_uri": "https://localhost:8080/",
          "height": 143
        },
        "id": "llOrRJy1aK_h"
      },
      "execution_count": 19,
      "outputs": [
        {
          "output_type": "error",
          "ename": "SyntaxError",
          "evalue": "cannot assign to function call (<ipython-input-19-fdbc259e7431>, line 12)",
          "traceback": [
            "\u001b[0;36m  File \u001b[0;32m\"<ipython-input-19-fdbc259e7431>\"\u001b[0;36m, line \u001b[0;32m12\u001b[0m\n\u001b[0;31m    for key() in diccionario:\u001b[0m\n\u001b[0m        ^\u001b[0m\n\u001b[0;31mSyntaxError\u001b[0m\u001b[0;31m:\u001b[0m cannot assign to function call\n"
          ]
        }
      ]
    },
    {
      "cell_type": "markdown",
      "source": [
        "Disponemos de un array con números en formato de string.\n",
        "Por ejemplo: ['10', '20', '30', '40']\n"
      ],
      "metadata": {
        "id": "wKmNxvxGmw7r"
      }
    }
  ]
}