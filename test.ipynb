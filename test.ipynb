{
  "nbformat": 4,
  "nbformat_minor": 0,
  "metadata": {
    "colab": {
      "provenance": [],
      "authorship_tag": "ABX9TyO3y3BOdsgcHOZQB+i4/jVw",
      "include_colab_link": true
    },
    "kernelspec": {
      "name": "python3",
      "display_name": "Python 3"
    },
    "language_info": {
      "name": "python"
    }
  },
  "cells": [
    {
      "cell_type": "markdown",
      "metadata": {
        "id": "view-in-github",
        "colab_type": "text"
      },
      "source": [
        "<a href=\"https://colab.research.google.com/github/financieras/AdventOfCode2021/blob/master/test.ipynb\" target=\"_parent\"><img src=\"https://colab.research.google.com/assets/colab-badge.svg\" alt=\"Open In Colab\"/></a>"
      ]
    },
    {
      "cell_type": "markdown",
      "source": [
        "<pre><code></code></pre>"
      ],
      "metadata": {
        "id": "ELsncyeog963"
      }
    },
    {
      "cell_type": "markdown",
      "source": [
        "Nos gustaría crear una función en Python que reciba dos parámetros x e y y que retorne True si son iguales y además sus tipos también son iguales, en caso contrario retornaría False.\n",
        "\n",
        "¿Cuál de los siguientes códigos logra este objetivo?"
      ],
      "metadata": {
        "id": "AJWB3_Jziwwe"
      }
    },
    {
      "cell_type": "code",
      "source": [
        "def son_iguales(x, y):\n",
        "    return x is y\n",
        "\n",
        "print(son_iguales(4, 5-1))      # valor esperado: True\n",
        "print(son_iguales(4, 8//2))     # valor esperado: True\n",
        "print(son_iguales(4, 8/2))      # valor esperado: False. 8/2 es 4.0 que es float\n",
        "print(son_iguales(4.0, 8/2))    # valor esperado: False. ambos son float"
      ],
      "metadata": {
        "colab": {
          "base_uri": "https://localhost:8080/"
        },
        "id": "s1BM_cSGixdW",
        "outputId": "c8ceb36f-b914-4c41-f53f-8227ef5293d9"
      },
      "execution_count": 8,
      "outputs": [
        {
          "output_type": "stream",
          "name": "stdout",
          "text": [
            "True\n",
            "True\n",
            "False\n",
            "True\n"
          ]
        }
      ]
    },
    {
      "cell_type": "code",
      "source": [
        "def son_iguales(x, y):\n",
        "    return x is not y\n",
        "\n",
        "print(son_iguales(4, 5-1))      # valor esperado: True\n",
        "print(son_iguales(4, 8//2))     # valor esperado: True\n",
        "print(son_iguales(4, 8/2))      # valor esperado: False. 8/2 es 4.0 que es float\n",
        "print(son_iguales(4.0, 8/2))    # valor esperado: False. ambos son float"
      ],
      "metadata": {
        "outputId": "e7932383-387b-4f5b-de76-e3ca963c3a51",
        "colab": {
          "base_uri": "https://localhost:8080/"
        },
        "id": "YjvCJdlukVcX"
      },
      "execution_count": 10,
      "outputs": [
        {
          "output_type": "stream",
          "name": "stdout",
          "text": [
            "False\n",
            "False\n",
            "True\n",
            "False\n"
          ]
        }
      ]
    },
    {
      "cell_type": "code",
      "source": [
        "def son_iguales(x, y):\n",
        "    return x == y\n",
        "\n",
        "print(son_iguales(4, 5-1))      # valor esperado: True\n",
        "print(son_iguales(4, 8//2))     # valor esperado: True\n",
        "print(son_iguales(4, 8/2))      # valor esperado: False. 8/2 es 4.0 que es float\n",
        "print(son_iguales(4.0, 8/2))    # valor esperado: False. ambos son float"
      ],
      "metadata": {
        "outputId": "9bf2f101-e48a-4b35-cf79-7c1f4ee63b8a",
        "colab": {
          "base_uri": "https://localhost:8080/"
        },
        "id": "ngZnNNZQkViH"
      },
      "execution_count": 11,
      "outputs": [
        {
          "output_type": "stream",
          "name": "stdout",
          "text": [
            "True\n",
            "True\n",
            "True\n",
            "True\n"
          ]
        }
      ]
    },
    {
      "cell_type": "code",
      "source": [
        "def son_iguales(x, y):\n",
        "    return x != y\n",
        "\n",
        "print(son_iguales(4, 5-1))      # valor esperado: True\n",
        "print(son_iguales(4, 8//2))     # valor esperado: True\n",
        "print(son_iguales(4, 8/2))      # valor esperado: False. 8/2 es 4.0 que es float\n",
        "print(son_iguales(4.0, 8/2))    # valor esperado: False. ambos son float"
      ],
      "metadata": {
        "outputId": "359e5bd4-6fa3-4dbb-d50e-ea9c6f74faa4",
        "colab": {
          "base_uri": "https://localhost:8080/"
        },
        "id": "lMcRRuMRkVoe"
      },
      "execution_count": 12,
      "outputs": [
        {
          "output_type": "stream",
          "name": "stdout",
          "text": [
            "False\n",
            "False\n",
            "False\n",
            "False\n"
          ]
        }
      ]
    },
    {
      "cell_type": "code",
      "source": [
        "def son_iguales(x, y):\n",
        "    return x is y and type(x) != type(y)\n",
        "\n",
        "print(son_iguales(4, 5-1))      # valor esperado: True\n",
        "print(son_iguales(4, 8//2))     # valor esperado: True\n",
        "print(son_iguales(4, 8/2))      # valor esperado: False. 8/2 es 4.0 que es float\n",
        "print(son_iguales(4.0, 8/2))    # valor esperado: False. ambos son float"
      ],
      "metadata": {
        "id": "jS_oR7lsmsOo",
        "outputId": "9b445393-5395-4528-e6c2-125fec867e5d",
        "colab": {
          "base_uri": "https://localhost:8080/"
        }
      },
      "execution_count": 13,
      "outputs": [
        {
          "output_type": "stream",
          "name": "stdout",
          "text": [
            "False\n",
            "False\n",
            "False\n",
            "False\n"
          ]
        }
      ]
    },
    {
      "cell_type": "code",
      "source": [
        "def son_iguales(x, y):\n",
        "    return x == y and type(x) != type(y)\n",
        "\n",
        "\n",
        "print(son_iguales(4, 5-1))      # valor esperado: True\n",
        "print(son_iguales(4, 8//2))     # valor esperado: True\n",
        "print(son_iguales(4, 8/2))      # valor esperado: False. 8/2 es 4.0 que es float\n",
        "print(son_iguales(4.0, 8/2))    # valor esperado: False. ambos son float"
      ],
      "metadata": {
        "id": "xpH8M_m9nDtc",
        "outputId": "5d704544-4da2-42b7-89dc-c8afed1062cc",
        "colab": {
          "base_uri": "https://localhost:8080/"
        }
      },
      "execution_count": 14,
      "outputs": [
        {
          "output_type": "stream",
          "name": "stdout",
          "text": [
            "False\n",
            "False\n",
            "True\n",
            "False\n"
          ]
        }
      ]
    },
    {
      "cell_type": "code",
      "source": [
        "def son_iguales(x, y):\n",
        "    return x is y and type(x) == type(y)\n",
        "\n",
        "\n",
        "print(son_iguales(4, 5-1))      # valor esperado: True\n",
        "print(son_iguales(4, 8//2))     # valor esperado: True\n",
        "print(son_iguales(4, 8/2))      # valor esperado: False. 8/2 es 4.0 que es float\n",
        "print(son_iguales(4.0, 8/2))    # valor esperado: False. ambos son float"
      ],
      "metadata": {
        "id": "tLLaO4iJnO_f",
        "outputId": "01315b8c-6ba3-4f57-caff-86f865e25330",
        "colab": {
          "base_uri": "https://localhost:8080/"
        }
      },
      "execution_count": 15,
      "outputs": [
        {
          "output_type": "stream",
          "name": "stdout",
          "text": [
            "True\n",
            "True\n",
            "False\n",
            "True\n"
          ]
        }
      ]
    },
    {
      "cell_type": "markdown",
      "source": [
        "Dado una array de números enteros decir si alguno de los números es 10 o si la suma de dos números consecutivos del array es 10."
      ],
      "metadata": {
        "id": "k4IqeMekn0EH"
      }
    },
    {
      "cell_type": "code",
      "source": [
        "array1 = [1,2,3,4,5,11]\n",
        "array2 = [1,2,3,4,5,10]\n",
        "array3 = [1,2,3,4,6,5]\n",
        "\n",
        "def localiza_diez(arr):\n",
        "    for num in arr:\n",
        "        if num == 10:\n",
        "            return True\n",
        "    for i in range(len(arr)-1):\n",
        "        if arr[i] + arr[i+1] == 10:\n",
        "            return True\n",
        "    return False\n",
        "\n",
        "print(localiza_diez(array1))    # valor esperado: False\n",
        "print(localiza_diez(array2))    # valor esperado: True (hay un 10)\n",
        "print(localiza_diez(array3))    # valor esperado: True (4+6=10)\n",
        ""
      ],
      "metadata": {
        "id": "kwm7FmR4oGO0",
        "outputId": "a817d94d-c463-4465-84a7-bb838a601bf5",
        "colab": {
          "base_uri": "https://localhost:8080/"
        }
      },
      "execution_count": 16,
      "outputs": [
        {
          "output_type": "stream",
          "name": "stdout",
          "text": [
            "False\n",
            "True\n",
            "True\n"
          ]
        }
      ]
    },
    {
      "cell_type": "code",
      "source": [
        "def contiene_diez(arr):\n",
        "    return 10 in arr\n",
        "\n",
        "def suma_consecutiva_diez(arr):\n",
        "    for i in range(len(arr)-1):\n",
        "        if arr[i] + arr[i+1] == 10:\n",
        "            return True\n",
        "    return False\n",
        "\n",
        "def localiza_diez(arr):\n",
        "    return contiene_diez(arr) or suma_consecutiva_diez(arr)\n",
        "\n",
        "array1 = [1, 2, 3, 4, 5, 11]\n",
        "array2 = [1, 2, 3, 4, 5, 10]\n",
        "array3 = [1, 2, 3, 4, 6, 5]\n",
        "\n",
        "print(localiza_diez(array1))    # valor esperado: False\n",
        "print(localiza_diez(array2))    # valor esperado: True (hay un 10)\n",
        "print(localiza_diez(array3))    # valor esperado: True (4+6=10)\n"
      ],
      "metadata": {
        "colab": {
          "base_uri": "https://localhost:8080/"
        },
        "id": "tkyp0rDIq_41",
        "outputId": "a4cd9cba-0619-4806-8dd1-514b534da61c"
      },
      "execution_count": 17,
      "outputs": [
        {
          "output_type": "stream",
          "name": "stdout",
          "text": [
            "False\n",
            "True\n",
            "True\n"
          ]
        }
      ]
    },
    {
      "cell_type": "code",
      "source": [
        "array1 = [1,2,3,4,5,11]\n",
        "array2 = [1,2,3,4,5,10]\n",
        "array3 = [1,2,3,4,6,5]\n",
        "\n",
        "def localiza_diez(arr):\n",
        "    for num in arr:\n",
        "        if num in 10:\n",
        "            return True\n",
        "    for i in range(len(arr)-1):\n",
        "        if arr[i] + arr[i+1] == 10:\n",
        "            return True\n",
        "    return False\n",
        "\n",
        "print(localiza_diez(array1))    # valor esperado: False\n",
        "print(localiza_diez(array2))    # valor esperado: True (hay un 10)\n",
        "print(localiza_diez(array3))    # valor esperado: True (4+6=10)"
      ],
      "metadata": {
        "colab": {
          "base_uri": "https://localhost:8080/",
          "height": 376
        },
        "id": "o1Rd_NoNtXlW",
        "outputId": "8841979e-16b8-45c9-a2dd-3c70cccaff57"
      },
      "execution_count": 18,
      "outputs": [
        {
          "output_type": "error",
          "ename": "TypeError",
          "evalue": "argument of type 'int' is not iterable",
          "traceback": [
            "\u001b[0;31m---------------------------------------------------------------------------\u001b[0m",
            "\u001b[0;31mTypeError\u001b[0m                                 Traceback (most recent call last)",
            "\u001b[0;32m<ipython-input-18-69e57d1dda51>\u001b[0m in \u001b[0;36m<cell line: 14>\u001b[0;34m()\u001b[0m\n\u001b[1;32m     12\u001b[0m     \u001b[0;32mreturn\u001b[0m \u001b[0;32mFalse\u001b[0m\u001b[0;34m\u001b[0m\u001b[0;34m\u001b[0m\u001b[0m\n\u001b[1;32m     13\u001b[0m \u001b[0;34m\u001b[0m\u001b[0m\n\u001b[0;32m---> 14\u001b[0;31m \u001b[0mprint\u001b[0m\u001b[0;34m(\u001b[0m\u001b[0mlocaliza_diez\u001b[0m\u001b[0;34m(\u001b[0m\u001b[0marray1\u001b[0m\u001b[0;34m)\u001b[0m\u001b[0;34m)\u001b[0m    \u001b[0;31m# valor esperado: False\u001b[0m\u001b[0;34m\u001b[0m\u001b[0;34m\u001b[0m\u001b[0m\n\u001b[0m\u001b[1;32m     15\u001b[0m \u001b[0mprint\u001b[0m\u001b[0;34m(\u001b[0m\u001b[0mlocaliza_diez\u001b[0m\u001b[0;34m(\u001b[0m\u001b[0marray2\u001b[0m\u001b[0;34m)\u001b[0m\u001b[0;34m)\u001b[0m    \u001b[0;31m# valor esperado: True (hay un 10)\u001b[0m\u001b[0;34m\u001b[0m\u001b[0;34m\u001b[0m\u001b[0m\n\u001b[1;32m     16\u001b[0m \u001b[0mprint\u001b[0m\u001b[0;34m(\u001b[0m\u001b[0mlocaliza_diez\u001b[0m\u001b[0;34m(\u001b[0m\u001b[0marray3\u001b[0m\u001b[0;34m)\u001b[0m\u001b[0;34m)\u001b[0m    \u001b[0;31m# valor esperado: True (4+6=10)\u001b[0m\u001b[0;34m\u001b[0m\u001b[0;34m\u001b[0m\u001b[0m\n",
            "\u001b[0;32m<ipython-input-18-69e57d1dda51>\u001b[0m in \u001b[0;36mlocaliza_diez\u001b[0;34m(arr)\u001b[0m\n\u001b[1;32m      5\u001b[0m \u001b[0;32mdef\u001b[0m \u001b[0mlocaliza_diez\u001b[0m\u001b[0;34m(\u001b[0m\u001b[0marr\u001b[0m\u001b[0;34m)\u001b[0m\u001b[0;34m:\u001b[0m\u001b[0;34m\u001b[0m\u001b[0;34m\u001b[0m\u001b[0m\n\u001b[1;32m      6\u001b[0m     \u001b[0;32mfor\u001b[0m \u001b[0mnum\u001b[0m \u001b[0;32min\u001b[0m \u001b[0marr\u001b[0m\u001b[0;34m:\u001b[0m\u001b[0;34m\u001b[0m\u001b[0;34m\u001b[0m\u001b[0m\n\u001b[0;32m----> 7\u001b[0;31m         \u001b[0;32mif\u001b[0m \u001b[0mnum\u001b[0m \u001b[0;32min\u001b[0m \u001b[0;36m10\u001b[0m\u001b[0;34m:\u001b[0m\u001b[0;34m\u001b[0m\u001b[0;34m\u001b[0m\u001b[0m\n\u001b[0m\u001b[1;32m      8\u001b[0m             \u001b[0;32mreturn\u001b[0m \u001b[0;32mTrue\u001b[0m\u001b[0;34m\u001b[0m\u001b[0;34m\u001b[0m\u001b[0m\n\u001b[1;32m      9\u001b[0m     \u001b[0;32mfor\u001b[0m \u001b[0mi\u001b[0m \u001b[0;32min\u001b[0m \u001b[0mrange\u001b[0m\u001b[0;34m(\u001b[0m\u001b[0mlen\u001b[0m\u001b[0;34m(\u001b[0m\u001b[0marr\u001b[0m\u001b[0;34m)\u001b[0m\u001b[0;34m-\u001b[0m\u001b[0;36m1\u001b[0m\u001b[0;34m)\u001b[0m\u001b[0;34m:\u001b[0m\u001b[0;34m\u001b[0m\u001b[0;34m\u001b[0m\u001b[0m\n",
            "\u001b[0;31mTypeError\u001b[0m: argument of type 'int' is not iterable"
          ]
        }
      ]
    },
    {
      "cell_type": "code",
      "source": [
        "array1 = [1,2,3,4,5,11]\n",
        "array2 = [1,2,3,4,5,10]\n",
        "array3 = [1,2,3,4,6,5]\n",
        "\n",
        "def localiza_diez(arr):\n",
        "    for num in arr:\n",
        "        if num is 10:\n",
        "            return True\n",
        "    for i in range(len(arr)+1):\n",
        "        if arr[i] + arr[i+1] == 10:\n",
        "            return True\n",
        "    return False\n",
        "\n",
        "print(localiza_diez(array1))    # valor esperado: False\n",
        "print(localiza_diez(array2))    # valor esperado: True (hay un 10)\n",
        "print(localiza_diez(array3))    # valor esperado: True (4+6=10)"
      ],
      "metadata": {
        "outputId": "8b32bd8a-272e-4bde-d874-077f07a81688",
        "colab": {
          "base_uri": "https://localhost:8080/",
          "height": 448
        },
        "id": "bJAqVRvDtyuI"
      },
      "execution_count": 20,
      "outputs": [
        {
          "output_type": "stream",
          "name": "stderr",
          "text": [
            "<>:7: SyntaxWarning: \"is\" with a literal. Did you mean \"==\"?\n",
            "<>:7: SyntaxWarning: \"is\" with a literal. Did you mean \"==\"?\n",
            "<ipython-input-20-39bbd5d827c3>:7: SyntaxWarning: \"is\" with a literal. Did you mean \"==\"?\n",
            "  if num is 10:\n"
          ]
        },
        {
          "output_type": "error",
          "ename": "IndexError",
          "evalue": "list index out of range",
          "traceback": [
            "\u001b[0;31m---------------------------------------------------------------------------\u001b[0m",
            "\u001b[0;31mIndexError\u001b[0m                                Traceback (most recent call last)",
            "\u001b[0;32m<ipython-input-20-39bbd5d827c3>\u001b[0m in \u001b[0;36m<cell line: 14>\u001b[0;34m()\u001b[0m\n\u001b[1;32m     12\u001b[0m     \u001b[0;32mreturn\u001b[0m \u001b[0;32mFalse\u001b[0m\u001b[0;34m\u001b[0m\u001b[0;34m\u001b[0m\u001b[0m\n\u001b[1;32m     13\u001b[0m \u001b[0;34m\u001b[0m\u001b[0m\n\u001b[0;32m---> 14\u001b[0;31m \u001b[0mprint\u001b[0m\u001b[0;34m(\u001b[0m\u001b[0mlocaliza_diez\u001b[0m\u001b[0;34m(\u001b[0m\u001b[0marray1\u001b[0m\u001b[0;34m)\u001b[0m\u001b[0;34m)\u001b[0m    \u001b[0;31m# valor esperado: False\u001b[0m\u001b[0;34m\u001b[0m\u001b[0;34m\u001b[0m\u001b[0m\n\u001b[0m\u001b[1;32m     15\u001b[0m \u001b[0mprint\u001b[0m\u001b[0;34m(\u001b[0m\u001b[0mlocaliza_diez\u001b[0m\u001b[0;34m(\u001b[0m\u001b[0marray2\u001b[0m\u001b[0;34m)\u001b[0m\u001b[0;34m)\u001b[0m    \u001b[0;31m# valor esperado: True (hay un 10)\u001b[0m\u001b[0;34m\u001b[0m\u001b[0;34m\u001b[0m\u001b[0m\n\u001b[1;32m     16\u001b[0m \u001b[0mprint\u001b[0m\u001b[0;34m(\u001b[0m\u001b[0mlocaliza_diez\u001b[0m\u001b[0;34m(\u001b[0m\u001b[0marray3\u001b[0m\u001b[0;34m)\u001b[0m\u001b[0;34m)\u001b[0m    \u001b[0;31m# valor esperado: True (4+6=10)\u001b[0m\u001b[0;34m\u001b[0m\u001b[0;34m\u001b[0m\u001b[0m\n",
            "\u001b[0;32m<ipython-input-20-39bbd5d827c3>\u001b[0m in \u001b[0;36mlocaliza_diez\u001b[0;34m(arr)\u001b[0m\n\u001b[1;32m      8\u001b[0m             \u001b[0;32mreturn\u001b[0m \u001b[0;32mTrue\u001b[0m\u001b[0;34m\u001b[0m\u001b[0;34m\u001b[0m\u001b[0m\n\u001b[1;32m      9\u001b[0m     \u001b[0;32mfor\u001b[0m \u001b[0mi\u001b[0m \u001b[0;32min\u001b[0m \u001b[0mrange\u001b[0m\u001b[0;34m(\u001b[0m\u001b[0mlen\u001b[0m\u001b[0;34m(\u001b[0m\u001b[0marr\u001b[0m\u001b[0;34m)\u001b[0m\u001b[0;34m+\u001b[0m\u001b[0;36m1\u001b[0m\u001b[0;34m)\u001b[0m\u001b[0;34m:\u001b[0m\u001b[0;34m\u001b[0m\u001b[0;34m\u001b[0m\u001b[0m\n\u001b[0;32m---> 10\u001b[0;31m         \u001b[0;32mif\u001b[0m \u001b[0marr\u001b[0m\u001b[0;34m[\u001b[0m\u001b[0mi\u001b[0m\u001b[0;34m]\u001b[0m \u001b[0;34m+\u001b[0m \u001b[0marr\u001b[0m\u001b[0;34m[\u001b[0m\u001b[0mi\u001b[0m\u001b[0;34m+\u001b[0m\u001b[0;36m1\u001b[0m\u001b[0;34m]\u001b[0m \u001b[0;34m==\u001b[0m \u001b[0;36m10\u001b[0m\u001b[0;34m:\u001b[0m\u001b[0;34m\u001b[0m\u001b[0;34m\u001b[0m\u001b[0m\n\u001b[0m\u001b[1;32m     11\u001b[0m             \u001b[0;32mreturn\u001b[0m \u001b[0;32mTrue\u001b[0m\u001b[0;34m\u001b[0m\u001b[0;34m\u001b[0m\u001b[0m\n\u001b[1;32m     12\u001b[0m     \u001b[0;32mreturn\u001b[0m \u001b[0;32mFalse\u001b[0m\u001b[0;34m\u001b[0m\u001b[0;34m\u001b[0m\u001b[0m\n",
            "\u001b[0;31mIndexError\u001b[0m: list index out of range"
          ]
        }
      ]
    },
    {
      "cell_type": "code",
      "source": [
        "def contiene_diez(arr):\n",
        "    return 10 is arr\n",
        "\n",
        "def suma_consecutiva_diez(arr):\n",
        "    for i in range(len(arr)-1):\n",
        "        if arr[i] + arr[i+1] == 10:\n",
        "            return True\n",
        "    return False\n",
        "\n",
        "def localiza_diez(arr):\n",
        "    return contiene_diez(arr) or suma_consecutiva_diez(arr)\n",
        "\n",
        "array1 = [1, 2, 3, 4, 5, 11]\n",
        "array2 = [1, 2, 3, 4, 5, 10]\n",
        "array3 = [1, 2, 3, 4, 6, 5]\n",
        "\n",
        "print(localiza_diez(array1))    # valor esperado: False\n",
        "print(localiza_diez(array2))    # valor esperado: True (hay un 10)\n",
        "print(localiza_diez(array3))    # valor esperado: True (4+6=10)\n"
      ],
      "metadata": {
        "outputId": "5cdc8cdf-d31e-415a-f645-c4cde0bb59a6",
        "colab": {
          "base_uri": "https://localhost:8080/"
        },
        "id": "S2Fyjr5tt_e_"
      },
      "execution_count": 21,
      "outputs": [
        {
          "output_type": "stream",
          "name": "stdout",
          "text": [
            "False\n",
            "False\n",
            "True\n"
          ]
        },
        {
          "output_type": "stream",
          "name": "stderr",
          "text": [
            "<>:2: SyntaxWarning: \"is\" with a literal. Did you mean \"==\"?\n",
            "<>:2: SyntaxWarning: \"is\" with a literal. Did you mean \"==\"?\n",
            "<ipython-input-21-3355d4c86458>:2: SyntaxWarning: \"is\" with a literal. Did you mean \"==\"?\n",
            "  return 10 is arr\n"
          ]
        }
      ]
    }
  ]
}