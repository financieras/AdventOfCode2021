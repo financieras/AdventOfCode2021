{
  "nbformat": 4,
  "nbformat_minor": 0,
  "metadata": {
    "colab": {
      "provenance": [],
      "authorship_tag": "ABX9TyPDrYEm9/M9soYYQH6atjDw",
      "include_colab_link": true
    },
    "kernelspec": {
      "name": "python3",
      "display_name": "Python 3"
    },
    "language_info": {
      "name": "python"
    }
  },
  "cells": [
    {
      "cell_type": "markdown",
      "metadata": {
        "id": "view-in-github",
        "colab_type": "text"
      },
      "source": [
        "<a href=\"https://colab.research.google.com/github/financieras/AdventOfCode2021/blob/master/test.ipynb\" target=\"_parent\"><img src=\"https://colab.research.google.com/assets/colab-badge.svg\" alt=\"Open In Colab\"/></a>"
      ]
    },
    {
      "cell_type": "code",
      "execution_count": 5,
      "metadata": {
        "colab": {
          "base_uri": "https://localhost:8080/"
        },
        "id": "bx6cUAfsEH9F",
        "outputId": "32f493fc-4e05-4783-87a1-b4362d212182"
      },
      "outputs": [
        {
          "output_type": "stream",
          "name": "stdout",
          "text": [
            "El total de la factura es: 38 €.\n"
          ]
        }
      ],
      "source": [
        "p, g = 4, 6\n",
        "\n",
        "def factura(peques, grandes):\n",
        "    return 2 * peques + 5 * grandes\n",
        "\n",
        "print(f'El total de la factura es: {factura(p, g)} €.')"
      ]
    },
    {
      "cell_type": "code",
      "execution_count": 3,
      "metadata": {
        "colab": {
          "base_uri": "https://localhost:8080/"
        },
        "outputId": "92173dac-9ec8-4065-8b3a-2ccaf334aa2c",
        "id": "jwsi9gPEEzlT"
      },
      "outputs": [
        {
          "output_type": "stream",
          "name": "stdout",
          "text": [
            "El total de la factura es: 32 €.\n"
          ]
        }
      ],
      "source": [
        "def factura(p, g):\n",
        "    return 2 * p + 5 * g\n",
        "\n",
        "grandes = 6\n",
        "peques = 4\n",
        "print(f'El total de la factura es: {factura(grandes, peques)} €.')"
      ]
    },
    {
      "cell_type": "code",
      "execution_count": 6,
      "metadata": {
        "colab": {
          "base_uri": "https://localhost:8080/",
          "height": 140
        },
        "outputId": "ef843ccd-0a2a-4c5b-f233-6b7aac2ac1c4",
        "id": "YMaeZfUxEzp3"
      },
      "outputs": [
        {
          "output_type": "error",
          "ename": "SyntaxError",
          "evalue": "f-string: invalid syntax. Perhaps you forgot a comma? (<ipython-input-6-47bbd9b62eb8>, line 7)",
          "traceback": [
            "\u001b[0;36m  File \u001b[0;32m\"<ipython-input-6-47bbd9b62eb8>\"\u001b[0;36m, line \u001b[0;32m7\u001b[0m\n\u001b[0;31m    print(f'El total de la factura es: {factura(p g)} €.')\u001b[0m\n\u001b[0m             ^\u001b[0m\n\u001b[0;31mSyntaxError\u001b[0m\u001b[0;31m:\u001b[0m f-string: invalid syntax. Perhaps you forgot a comma?\n"
          ]
        }
      ],
      "source": [
        "p = 4\n",
        "g = 6\n",
        "\n",
        "def factura(peques, grandes):\n",
        "    return 2 * peques + 5 * grandes\n",
        "\n",
        "print(f'El total de la factura es: {factura(p g)} €.')"
      ]
    },
    {
      "cell_type": "code",
      "execution_count": 7,
      "metadata": {
        "colab": {
          "base_uri": "https://localhost:8080/",
          "height": 210
        },
        "outputId": "2f15b6bc-648f-46da-fcaf-1c599889ae36",
        "id": "OKgmKZ8wEzwB"
      },
      "outputs": [
        {
          "output_type": "error",
          "ename": "TypeError",
          "evalue": "factura() missing 1 required positional argument: 'grandes'",
          "traceback": [
            "\u001b[0;31m---------------------------------------------------------------------------\u001b[0m",
            "\u001b[0;31mTypeError\u001b[0m                                 Traceback (most recent call last)",
            "\u001b[0;32m<ipython-input-7-b4d56c9e4b02>\u001b[0m in \u001b[0;36m<cell line: 7>\u001b[0;34m()\u001b[0m\n\u001b[1;32m      5\u001b[0m \u001b[0mgrandes\u001b[0m \u001b[0;34m=\u001b[0m \u001b[0;36m6\u001b[0m\u001b[0;34m\u001b[0m\u001b[0;34m\u001b[0m\u001b[0m\n\u001b[1;32m      6\u001b[0m \u001b[0;34m\u001b[0m\u001b[0m\n\u001b[0;32m----> 7\u001b[0;31m \u001b[0mprint\u001b[0m\u001b[0;34m(\u001b[0m\u001b[0;34mf'El total de la factura es: {factura(peques + grandes)} €.'\u001b[0m\u001b[0;34m)\u001b[0m\u001b[0;34m\u001b[0m\u001b[0;34m\u001b[0m\u001b[0m\n\u001b[0m",
            "\u001b[0;31mTypeError\u001b[0m: factura() missing 1 required positional argument: 'grandes'"
          ]
        }
      ],
      "source": [
        "def factura(peques, grandes):\n",
        "    return 2 * peques + 5 * grandes\n",
        "\n",
        "peques = 4\n",
        "grandes = 6\n",
        "\n",
        "print(f'El total de la factura es: {factura(peques + grandes)} €.')"
      ]
    },
    {
      "cell_type": "markdown",
      "source": [
        "Un estudiante ha aprobado 2 asignaturas optativas y 5 obligatorias. Las asignaturas optativas son de 4 créditos cada una y las obligatorias son de 6 créditos cada una.\n",
        "En total el alumno ha obtenido 38 créditos ya que 4 x 2 es 8 y 6 x 5 es 30.\n",
        "\n",
        "Indique cuál de los siguientes códigos de Python es capaz de calcular los créditos obtenidos por un alumno en función de las asignaturas optativas y obligatorias aprobadas."
      ],
      "metadata": {
        "id": "Uk73ZIaMHamA"
      }
    },
    {
      "cell_type": "code",
      "source": [
        "op, ob = 2, 5\n",
        "\n",
        "def creditos(optativas, obligatorias):\n",
        "    return 4 * optativas + 6 * obligatorias\n",
        "\n",
        "print(f'Ha obtenido un total de {creditos(op, ob)} crétidos.')"
      ],
      "metadata": {
        "colab": {
          "base_uri": "https://localhost:8080/"
        },
        "id": "Yc9806uwIOCI",
        "outputId": "67fb59d6-345b-44e3-9bee-2eae971297fe"
      },
      "execution_count": 10,
      "outputs": [
        {
          "output_type": "stream",
          "name": "stdout",
          "text": [
            "Ha obtenido un total de 38 crétidos.\n"
          ]
        }
      ]
    }
  ]
}