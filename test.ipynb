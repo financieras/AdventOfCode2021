{
  "nbformat": 4,
  "nbformat_minor": 0,
  "metadata": {
    "colab": {
      "provenance": [],
      "authorship_tag": "ABX9TyMwoJuhgDgJTNPPu5AoyVxu",
      "include_colab_link": true
    },
    "kernelspec": {
      "name": "python3",
      "display_name": "Python 3"
    },
    "language_info": {
      "name": "python"
    }
  },
  "cells": [
    {
      "cell_type": "markdown",
      "metadata": {
        "id": "view-in-github",
        "colab_type": "text"
      },
      "source": [
        "<a href=\"https://colab.research.google.com/github/financieras/AdventOfCode2021/blob/master/test.ipynb\" target=\"_parent\"><img src=\"https://colab.research.google.com/assets/colab-badge.svg\" alt=\"Open In Colab\"/></a>"
      ]
    },
    {
      "cell_type": "code",
      "execution_count": 1,
      "metadata": {
        "colab": {
          "base_uri": "https://localhost:8080/"
        },
        "id": "Fz3mthBXPtHB",
        "outputId": "ef07957f-09ac-4250-e25b-30e65ea18f3c"
      },
      "outputs": [
        {
          "output_type": "execute_result",
          "data": {
            "text/plain": [
              "[[7, -1, 4], [3, 6, -9], [5, -7, 1]]"
            ]
          },
          "metadata": {},
          "execution_count": 1
        }
      ],
      "source": [
        "import random\n",
        "\n",
        "def genera_matriz(n=3):  # matriz cuadrada, por defecto de orden 3x3\n",
        "    matrix = [[0]*n for _ in range(n)]\n",
        "    for i in range(n):\n",
        "        for j in range(n):\n",
        "            matrix[i][j] = random.randint(-9, 9)\n",
        "    return matrix\n",
        "\n",
        "genera_matriz()"
      ]
    },
    {
      "cell_type": "code",
      "source": [
        "from random import randint\n",
        "\n",
        "def lista_suma_veinte():\n",
        "    while True:\n",
        "        lista = [randint(0,9), randint(0,9), randint(0,9), randint(0,9)]\n",
        "        if sum(lista) == 20:\n",
        "            return lista\n",
        "\n",
        "lista_suma_veinte()"
      ],
      "metadata": {
        "colab": {
          "base_uri": "https://localhost:8080/"
        },
        "id": "KUYlNJkIRFV6",
        "outputId": "bffcb7e1-a640-466d-976f-6cd676838b84"
      },
      "execution_count": 17,
      "outputs": [
        {
          "output_type": "execute_result",
          "data": {
            "text/plain": [
              "[6, 3, 2, 9]"
            ]
          },
          "metadata": {},
          "execution_count": 17
        }
      ]
    },
    {
      "cell_type": "code",
      "source": [
        "from random import randint\n",
        "\n",
        "def matriz_4x4():\n",
        "    matrix = []\n",
        "    for _ in range(4):\n",
        "        fila = [randint(0,9), randint(0,9), randint(0,9), randint(0,9)]\n",
        "        matrix.append(fila)\n",
        "    return matrix\n",
        "\n",
        "def suma_diagonal_principal(matriz):\n",
        "    n = len(matriz)\n",
        "    suma = 0    # inicializamos la variable suma\n",
        "    for i in range(n):\n",
        "        for j in range(n):\n",
        "            if i == j:\n",
        "                suma += matriz[i][j]\n",
        "    return suma\n",
        "\n",
        "m = matriz_4x4()\n",
        "print(m)\n",
        "print(\"Suma de la diagonal principal:\", suma_diagonal_principal(m))"
      ],
      "metadata": {
        "colab": {
          "base_uri": "https://localhost:8080/"
        },
        "id": "kFHWUvlDTEUV",
        "outputId": "85bf45b3-3d96-4396-8076-ef447a37fbd3"
      },
      "execution_count": 23,
      "outputs": [
        {
          "output_type": "stream",
          "name": "stdout",
          "text": [
            "[[9, 8, 9, 2], [7, 1, 0, 2], [0, 4, 1, 4], [8, 6, 2, 1]]\n",
            "Suma de la diagonal principal: 12\n"
          ]
        }
      ]
    },
    {
      "cell_type": "code",
      "source": [
        "def suma_diagonal_principal(matriz):\n",
        "    n = len(matriz)\n",
        "    suma = 0    # inicializamos la variable suma\n",
        "    for i in range(n):\n",
        "        for j in range(n):\n",
        "            if i == j:\n",
        "                suma += matriz[i][j]\n",
        "    return suma\n",
        "\n",
        "m = [[9, 8, 9, 2], [7, 1, 0, 2], [0, 4, 1, 4], [8, 6, 2, 3]]\n",
        "print(m)\n",
        "print(\"Suma de la diagonal principal:\", suma_diagonal_principal(m))"
      ],
      "metadata": {
        "colab": {
          "base_uri": "https://localhost:8080/"
        },
        "id": "jcRd4lRjU9Xe",
        "outputId": "f5d39bc0-f51b-4a98-82ef-9847b5e67310"
      },
      "execution_count": 26,
      "outputs": [
        {
          "output_type": "stream",
          "name": "stdout",
          "text": [
            "[[9, 8, 9, 2], [7, 1, 0, 2], [0, 4, 1, 4], [8, 6, 2, 3]]\n",
            "Suma de la diagonal principal: 14\n"
          ]
        }
      ]
    },
    {
      "cell_type": "code",
      "source": [
        "def suma_diagonal_principal(matriz):\n",
        "    n = len(matriz)  # Obtenemos el tamaño de la matriz (número de filas o columnas, ya que es cuadrada)\n",
        "    suma = 0    # Inicializamos la variable suma para almacenar la suma de los elementos de la diagonal principal\n",
        "    for i in range(n):  # Iteramos sobre las filas de la matriz\n",
        "        for j in range(n):  # Iteramos sobre las columnas de la matriz\n",
        "            if i == j:  # Si el índice de fila es igual al índice de columna, estamos en la diagonal principal\n",
        "                suma += matriz[i][j]  # Sumamos el elemento actual de la diagonal principal a la suma total\n",
        "    return suma  # Devolvemos la suma de los elementos de la diagonal principal\n",
        "\n",
        "m = [[9, 8, 9, 2], [7, 1, 0, 2], [0, 4, 1, 4], [8, 6, 2, 3]]  # Definimos una matriz de ejemplo\n",
        "print(m)  # Imprimimos la matriz original\n",
        "print(\"Suma de la diagonal principal:\", suma_diagonal_principal(m))  # Imprimimos la suma de los elementos de la diagonal principal\n"
      ],
      "metadata": {
        "colab": {
          "base_uri": "https://localhost:8080/"
        },
        "id": "ZrykcljWV8za",
        "outputId": "5df61a67-342c-4666-aa21-e7d8dad7fc9b"
      },
      "execution_count": 27,
      "outputs": [
        {
          "output_type": "stream",
          "name": "stdout",
          "text": [
            "[[9, 8, 9, 2], [7, 1, 0, 2], [0, 4, 1, 4], [8, 6, 2, 3]]\n",
            "Suma de la diagonal principal: 14\n"
          ]
        }
      ]
    },
    {
      "cell_type": "code",
      "source": [
        "def suma_diagonal_principal(matriz):\n",
        "    n = len(matriz)  # Obtenemos el tamaño de la matriz (número de filas o columnas, ya que es cuadrada)\n",
        "    suma = 0    # Inicializamos la variable suma para almacenar la suma de los elementos de la diagonal principal\n",
        "    for i in range(n):  # Iteramos sobre las filas de la matriz\n",
        "        for j in range(n):  # Iteramos sobre las columnas de la matriz\n",
        "            if i == j:  # Si el índice de fila es igual al índice de columna, estamos en la diagonal principal\n",
        "                suma += matriz[i][j]  # Sumamos el elemento actual de la diagonal principal a la suma total\n",
        "    return suma  # Devolvemos la suma de los elementos de la diagonal principal\n",
        "\n",
        "m = [[9, 8, 9, 2], [7, 1, 0, 2], [0, 4, 1, 4], [8, 6, 2, 3]]  # Definimos una matriz de ejemplo\n",
        "\n",
        "# Imprimimos la matriz sin corchetes y una fila debajo de la otra\n",
        "for fila in m:\n",
        "    print(*fila)\n",
        "\n",
        "print(\"Suma de la diagonal principal:\", suma_diagonal_principal(m))  # Imprimimos la suma de los elementos de la diagonal principal\n"
      ],
      "metadata": {
        "colab": {
          "base_uri": "https://localhost:8080/"
        },
        "id": "zBeAawILWKgj",
        "outputId": "b2c3d74c-f3d0-441c-bd5b-51518d39bf53"
      },
      "execution_count": 28,
      "outputs": [
        {
          "output_type": "stream",
          "name": "stdout",
          "text": [
            "9 8 9 2\n",
            "7 1 0 2\n",
            "0 4 1 4\n",
            "8 6 2 3\n",
            "Suma de la diagonal principal: 14\n"
          ]
        }
      ]
    }
  ]
}