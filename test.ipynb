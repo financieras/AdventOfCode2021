{
  "nbformat": 4,
  "nbformat_minor": 0,
  "metadata": {
    "colab": {
      "provenance": [],
      "authorship_tag": "ABX9TyP4+rXMx4ozpmpOv4VjZ0nE",
      "include_colab_link": true
    },
    "kernelspec": {
      "name": "python3",
      "display_name": "Python 3"
    },
    "language_info": {
      "name": "python"
    }
  },
  "cells": [
    {
      "cell_type": "markdown",
      "metadata": {
        "id": "view-in-github",
        "colab_type": "text"
      },
      "source": [
        "<a href=\"https://colab.research.google.com/github/financieras/AdventOfCode2021/blob/master/test.ipynb\" target=\"_parent\"><img src=\"https://colab.research.google.com/assets/colab-badge.svg\" alt=\"Open In Colab\"/></a>"
      ]
    },
    {
      "cell_type": "markdown",
      "source": [
        "<pre><code></code></pre>"
      ],
      "metadata": {
        "id": "ELsncyeog963"
      }
    },
    {
      "cell_type": "markdown",
      "source": [
        "Nos gustaría crear una función en Python que reciba dos parámetros x e y y que retorne True si son iguales y además sus tipos también son iguales, en caso contrario retornaría False.\n",
        "\n",
        "¿Cuál de los siguientes códigos logra este objetivo?"
      ],
      "metadata": {
        "id": "AJWB3_Jziwwe"
      }
    },
    {
      "cell_type": "code",
      "source": [
        "def son_iguales(x, y):\n",
        "    return x is y\n",
        "\n",
        "print(son_iguales(4, 5-1))      # valor esperado: True\n",
        "print(son_iguales(4, 8//2))     # valor esperado: True\n",
        "print(son_iguales(4, 8/2))      # valor esperado: False. 8/2 es 4.0 que es float\n",
        "print(son_iguales(4.0, 8/2))    # valor esperado: False. ambos son float"
      ],
      "metadata": {
        "colab": {
          "base_uri": "https://localhost:8080/"
        },
        "id": "s1BM_cSGixdW",
        "outputId": "c8ceb36f-b914-4c41-f53f-8227ef5293d9"
      },
      "execution_count": null,
      "outputs": [
        {
          "output_type": "stream",
          "name": "stdout",
          "text": [
            "True\n",
            "True\n",
            "False\n",
            "True\n"
          ]
        }
      ]
    },
    {
      "cell_type": "code",
      "source": [
        "def son_iguales(x, y):\n",
        "    return x is not y\n",
        "\n",
        "print(son_iguales(4, 5-1))      # valor esperado: True\n",
        "print(son_iguales(4, 8//2))     # valor esperado: True\n",
        "print(son_iguales(4, 8/2))      # valor esperado: False. 8/2 es 4.0 que es float\n",
        "print(son_iguales(4.0, 8/2))    # valor esperado: False. ambos son float"
      ],
      "metadata": {
        "outputId": "e7932383-387b-4f5b-de76-e3ca963c3a51",
        "colab": {
          "base_uri": "https://localhost:8080/"
        },
        "id": "YjvCJdlukVcX"
      },
      "execution_count": null,
      "outputs": [
        {
          "output_type": "stream",
          "name": "stdout",
          "text": [
            "False\n",
            "False\n",
            "True\n",
            "False\n"
          ]
        }
      ]
    },
    {
      "cell_type": "code",
      "source": [
        "def son_iguales(x, y):\n",
        "    return x == y\n",
        "\n",
        "print(son_iguales(4, 5-1))      # valor esperado: True\n",
        "print(son_iguales(4, 8//2))     # valor esperado: True\n",
        "print(son_iguales(4, 8/2))      # valor esperado: False. 8/2 es 4.0 que es float\n",
        "print(son_iguales(4.0, 8/2))    # valor esperado: False. ambos son float"
      ],
      "metadata": {
        "outputId": "9bf2f101-e48a-4b35-cf79-7c1f4ee63b8a",
        "colab": {
          "base_uri": "https://localhost:8080/"
        },
        "id": "ngZnNNZQkViH"
      },
      "execution_count": null,
      "outputs": [
        {
          "output_type": "stream",
          "name": "stdout",
          "text": [
            "True\n",
            "True\n",
            "True\n",
            "True\n"
          ]
        }
      ]
    },
    {
      "cell_type": "code",
      "source": [
        "def son_iguales(x, y):\n",
        "    return x != y\n",
        "\n",
        "print(son_iguales(4, 5-1))      # valor esperado: True\n",
        "print(son_iguales(4, 8//2))     # valor esperado: True\n",
        "print(son_iguales(4, 8/2))      # valor esperado: False. 8/2 es 4.0 que es float\n",
        "print(son_iguales(4.0, 8/2))    # valor esperado: False. ambos son float"
      ],
      "metadata": {
        "outputId": "359e5bd4-6fa3-4dbb-d50e-ea9c6f74faa4",
        "colab": {
          "base_uri": "https://localhost:8080/"
        },
        "id": "lMcRRuMRkVoe"
      },
      "execution_count": null,
      "outputs": [
        {
          "output_type": "stream",
          "name": "stdout",
          "text": [
            "False\n",
            "False\n",
            "False\n",
            "False\n"
          ]
        }
      ]
    },
    {
      "cell_type": "code",
      "source": [
        "def son_iguales(x, y):\n",
        "    return x is y and type(x) != type(y)\n",
        "\n",
        "print(son_iguales(4, 5-1))      # valor esperado: True\n",
        "print(son_iguales(4, 8//2))     # valor esperado: True\n",
        "print(son_iguales(4, 8/2))      # valor esperado: False. 8/2 es 4.0 que es float\n",
        "print(son_iguales(4.0, 8/2))    # valor esperado: False. ambos son float"
      ],
      "metadata": {
        "id": "jS_oR7lsmsOo",
        "outputId": "9b445393-5395-4528-e6c2-125fec867e5d",
        "colab": {
          "base_uri": "https://localhost:8080/"
        }
      },
      "execution_count": null,
      "outputs": [
        {
          "output_type": "stream",
          "name": "stdout",
          "text": [
            "False\n",
            "False\n",
            "False\n",
            "False\n"
          ]
        }
      ]
    },
    {
      "cell_type": "code",
      "source": [
        "def son_iguales(x, y):\n",
        "    return x == y and type(x) != type(y)\n",
        "\n",
        "\n",
        "print(son_iguales(4, 5-1))      # valor esperado: True\n",
        "print(son_iguales(4, 8//2))     # valor esperado: True\n",
        "print(son_iguales(4, 8/2))      # valor esperado: False. 8/2 es 4.0 que es float\n",
        "print(son_iguales(4.0, 8/2))    # valor esperado: False. ambos son float"
      ],
      "metadata": {
        "id": "xpH8M_m9nDtc",
        "outputId": "5d704544-4da2-42b7-89dc-c8afed1062cc",
        "colab": {
          "base_uri": "https://localhost:8080/"
        }
      },
      "execution_count": null,
      "outputs": [
        {
          "output_type": "stream",
          "name": "stdout",
          "text": [
            "False\n",
            "False\n",
            "True\n",
            "False\n"
          ]
        }
      ]
    },
    {
      "cell_type": "code",
      "source": [
        "def son_iguales(x, y):\n",
        "    return x is y and type(x) == type(y)\n",
        "\n",
        "\n",
        "print(son_iguales(4, 5-1))      # valor esperado: True\n",
        "print(son_iguales(4, 8//2))     # valor esperado: True\n",
        "print(son_iguales(4, 8/2))      # valor esperado: False. 8/2 es 4.0 que es float\n",
        "print(son_iguales(4.0, 8/2))    # valor esperado: False. ambos son float"
      ],
      "metadata": {
        "id": "tLLaO4iJnO_f",
        "outputId": "01315b8c-6ba3-4f57-caff-86f865e25330",
        "colab": {
          "base_uri": "https://localhost:8080/"
        }
      },
      "execution_count": null,
      "outputs": [
        {
          "output_type": "stream",
          "name": "stdout",
          "text": [
            "True\n",
            "True\n",
            "False\n",
            "True\n"
          ]
        }
      ]
    },
    {
      "cell_type": "markdown",
      "source": [
        "Dado una array de números enteros decir si alguno de los números es 10 o si la suma de dos números consecutivos del array es 10."
      ],
      "metadata": {
        "id": "k4IqeMekn0EH"
      }
    },
    {
      "cell_type": "code",
      "source": [
        "array1 = [1,2,3,4,5,11]\n",
        "array2 = [1,2,3,4,5,10]\n",
        "array3 = [1,2,3,4,6,5]\n",
        "\n",
        "def localiza_diez(arr):\n",
        "    for num in arr:\n",
        "        if num == 10:\n",
        "            return True\n",
        "    for i in range(len(arr)-1):\n",
        "        if arr[i] + arr[i+1] == 10:\n",
        "            return True\n",
        "    return False\n",
        "\n",
        "print(localiza_diez(array1))    # valor esperado: False\n",
        "print(localiza_diez(array2))    # valor esperado: True (hay un 10)\n",
        "print(localiza_diez(array3))    # valor esperado: True (4+6=10)\n"
      ],
      "metadata": {
        "id": "kwm7FmR4oGO0",
        "outputId": "a817d94d-c463-4465-84a7-bb838a601bf5",
        "colab": {
          "base_uri": "https://localhost:8080/"
        }
      },
      "execution_count": null,
      "outputs": [
        {
          "output_type": "stream",
          "name": "stdout",
          "text": [
            "False\n",
            "True\n",
            "True\n"
          ]
        }
      ]
    },
    {
      "cell_type": "code",
      "source": [
        "def contiene_diez(arr):\n",
        "    return 10 in arr\n",
        "\n",
        "def suma_consecutiva_diez(arr):\n",
        "    for i in range(len(arr)-1):\n",
        "        if arr[i] + arr[i+1] == 10:\n",
        "            return True\n",
        "    return False\n",
        "\n",
        "def localiza_diez(arr):\n",
        "    return contiene_diez(arr) or suma_consecutiva_diez(arr)\n",
        "\n",
        "array1 = [1, 2, 3, 4, 5, 11]\n",
        "array2 = [1, 2, 3, 4, 5, 10]\n",
        "array3 = [1, 2, 3, 4, 6, 5]\n",
        "\n",
        "print(localiza_diez(array1))    # valor esperado: False\n",
        "print(localiza_diez(array2))    # valor esperado: True (hay un 10)\n",
        "print(localiza_diez(array3))    # valor esperado: True (4+6=10)\n"
      ],
      "metadata": {
        "colab": {
          "base_uri": "https://localhost:8080/"
        },
        "id": "tkyp0rDIq_41",
        "outputId": "a4cd9cba-0619-4806-8dd1-514b534da61c"
      },
      "execution_count": null,
      "outputs": [
        {
          "output_type": "stream",
          "name": "stdout",
          "text": [
            "False\n",
            "True\n",
            "True\n"
          ]
        }
      ]
    },
    {
      "cell_type": "code",
      "source": [
        "array1 = [1,2,3,4,5,11]\n",
        "array2 = [1,2,3,4,5,10]\n",
        "array3 = [1,2,3,4,6,5]\n",
        "\n",
        "def localiza_diez(arr):\n",
        "    for num in arr:\n",
        "        if num in 10:\n",
        "            return True\n",
        "    for i in range(len(arr)-1):\n",
        "        if arr[i] + arr[i+1] == 10:\n",
        "            return True\n",
        "    return False\n",
        "\n",
        "print(localiza_diez(array1))    # valor esperado: False\n",
        "print(localiza_diez(array2))    # valor esperado: True (hay un 10)\n",
        "print(localiza_diez(array3))    # valor esperado: True (4+6=10)"
      ],
      "metadata": {
        "colab": {
          "base_uri": "https://localhost:8080/",
          "height": 376
        },
        "id": "o1Rd_NoNtXlW",
        "outputId": "8841979e-16b8-45c9-a2dd-3c70cccaff57"
      },
      "execution_count": null,
      "outputs": [
        {
          "output_type": "error",
          "ename": "TypeError",
          "evalue": "argument of type 'int' is not iterable",
          "traceback": [
            "\u001b[0;31m---------------------------------------------------------------------------\u001b[0m",
            "\u001b[0;31mTypeError\u001b[0m                                 Traceback (most recent call last)",
            "\u001b[0;32m<ipython-input-18-69e57d1dda51>\u001b[0m in \u001b[0;36m<cell line: 14>\u001b[0;34m()\u001b[0m\n\u001b[1;32m     12\u001b[0m     \u001b[0;32mreturn\u001b[0m \u001b[0;32mFalse\u001b[0m\u001b[0;34m\u001b[0m\u001b[0;34m\u001b[0m\u001b[0m\n\u001b[1;32m     13\u001b[0m \u001b[0;34m\u001b[0m\u001b[0m\n\u001b[0;32m---> 14\u001b[0;31m \u001b[0mprint\u001b[0m\u001b[0;34m(\u001b[0m\u001b[0mlocaliza_diez\u001b[0m\u001b[0;34m(\u001b[0m\u001b[0marray1\u001b[0m\u001b[0;34m)\u001b[0m\u001b[0;34m)\u001b[0m    \u001b[0;31m# valor esperado: False\u001b[0m\u001b[0;34m\u001b[0m\u001b[0;34m\u001b[0m\u001b[0m\n\u001b[0m\u001b[1;32m     15\u001b[0m \u001b[0mprint\u001b[0m\u001b[0;34m(\u001b[0m\u001b[0mlocaliza_diez\u001b[0m\u001b[0;34m(\u001b[0m\u001b[0marray2\u001b[0m\u001b[0;34m)\u001b[0m\u001b[0;34m)\u001b[0m    \u001b[0;31m# valor esperado: True (hay un 10)\u001b[0m\u001b[0;34m\u001b[0m\u001b[0;34m\u001b[0m\u001b[0m\n\u001b[1;32m     16\u001b[0m \u001b[0mprint\u001b[0m\u001b[0;34m(\u001b[0m\u001b[0mlocaliza_diez\u001b[0m\u001b[0;34m(\u001b[0m\u001b[0marray3\u001b[0m\u001b[0;34m)\u001b[0m\u001b[0;34m)\u001b[0m    \u001b[0;31m# valor esperado: True (4+6=10)\u001b[0m\u001b[0;34m\u001b[0m\u001b[0;34m\u001b[0m\u001b[0m\n",
            "\u001b[0;32m<ipython-input-18-69e57d1dda51>\u001b[0m in \u001b[0;36mlocaliza_diez\u001b[0;34m(arr)\u001b[0m\n\u001b[1;32m      5\u001b[0m \u001b[0;32mdef\u001b[0m \u001b[0mlocaliza_diez\u001b[0m\u001b[0;34m(\u001b[0m\u001b[0marr\u001b[0m\u001b[0;34m)\u001b[0m\u001b[0;34m:\u001b[0m\u001b[0;34m\u001b[0m\u001b[0;34m\u001b[0m\u001b[0m\n\u001b[1;32m      6\u001b[0m     \u001b[0;32mfor\u001b[0m \u001b[0mnum\u001b[0m \u001b[0;32min\u001b[0m \u001b[0marr\u001b[0m\u001b[0;34m:\u001b[0m\u001b[0;34m\u001b[0m\u001b[0;34m\u001b[0m\u001b[0m\n\u001b[0;32m----> 7\u001b[0;31m         \u001b[0;32mif\u001b[0m \u001b[0mnum\u001b[0m \u001b[0;32min\u001b[0m \u001b[0;36m10\u001b[0m\u001b[0;34m:\u001b[0m\u001b[0;34m\u001b[0m\u001b[0;34m\u001b[0m\u001b[0m\n\u001b[0m\u001b[1;32m      8\u001b[0m             \u001b[0;32mreturn\u001b[0m \u001b[0;32mTrue\u001b[0m\u001b[0;34m\u001b[0m\u001b[0;34m\u001b[0m\u001b[0m\n\u001b[1;32m      9\u001b[0m     \u001b[0;32mfor\u001b[0m \u001b[0mi\u001b[0m \u001b[0;32min\u001b[0m \u001b[0mrange\u001b[0m\u001b[0;34m(\u001b[0m\u001b[0mlen\u001b[0m\u001b[0;34m(\u001b[0m\u001b[0marr\u001b[0m\u001b[0;34m)\u001b[0m\u001b[0;34m-\u001b[0m\u001b[0;36m1\u001b[0m\u001b[0;34m)\u001b[0m\u001b[0;34m:\u001b[0m\u001b[0;34m\u001b[0m\u001b[0;34m\u001b[0m\u001b[0m\n",
            "\u001b[0;31mTypeError\u001b[0m: argument of type 'int' is not iterable"
          ]
        }
      ]
    },
    {
      "cell_type": "code",
      "source": [
        "array1 = [1,2,3,4,5,11]\n",
        "array2 = [1,2,3,4,5,10]\n",
        "array3 = [1,2,3,4,6,5]\n",
        "\n",
        "def localiza_diez(arr):\n",
        "    for num in arr:\n",
        "        if num is 10:\n",
        "            return True\n",
        "    for i in range(len(arr)+1):\n",
        "        if arr[i] + arr[i+1] == 10:\n",
        "            return True\n",
        "    return False\n",
        "\n",
        "print(localiza_diez(array1))    # valor esperado: False\n",
        "print(localiza_diez(array2))    # valor esperado: True (hay un 10)\n",
        "print(localiza_diez(array3))    # valor esperado: True (4+6=10)"
      ],
      "metadata": {
        "outputId": "8b32bd8a-272e-4bde-d874-077f07a81688",
        "colab": {
          "base_uri": "https://localhost:8080/",
          "height": 448
        },
        "id": "bJAqVRvDtyuI"
      },
      "execution_count": null,
      "outputs": [
        {
          "output_type": "stream",
          "name": "stderr",
          "text": [
            "<>:7: SyntaxWarning: \"is\" with a literal. Did you mean \"==\"?\n",
            "<>:7: SyntaxWarning: \"is\" with a literal. Did you mean \"==\"?\n",
            "<ipython-input-20-39bbd5d827c3>:7: SyntaxWarning: \"is\" with a literal. Did you mean \"==\"?\n",
            "  if num is 10:\n"
          ]
        },
        {
          "output_type": "error",
          "ename": "IndexError",
          "evalue": "list index out of range",
          "traceback": [
            "\u001b[0;31m---------------------------------------------------------------------------\u001b[0m",
            "\u001b[0;31mIndexError\u001b[0m                                Traceback (most recent call last)",
            "\u001b[0;32m<ipython-input-20-39bbd5d827c3>\u001b[0m in \u001b[0;36m<cell line: 14>\u001b[0;34m()\u001b[0m\n\u001b[1;32m     12\u001b[0m     \u001b[0;32mreturn\u001b[0m \u001b[0;32mFalse\u001b[0m\u001b[0;34m\u001b[0m\u001b[0;34m\u001b[0m\u001b[0m\n\u001b[1;32m     13\u001b[0m \u001b[0;34m\u001b[0m\u001b[0m\n\u001b[0;32m---> 14\u001b[0;31m \u001b[0mprint\u001b[0m\u001b[0;34m(\u001b[0m\u001b[0mlocaliza_diez\u001b[0m\u001b[0;34m(\u001b[0m\u001b[0marray1\u001b[0m\u001b[0;34m)\u001b[0m\u001b[0;34m)\u001b[0m    \u001b[0;31m# valor esperado: False\u001b[0m\u001b[0;34m\u001b[0m\u001b[0;34m\u001b[0m\u001b[0m\n\u001b[0m\u001b[1;32m     15\u001b[0m \u001b[0mprint\u001b[0m\u001b[0;34m(\u001b[0m\u001b[0mlocaliza_diez\u001b[0m\u001b[0;34m(\u001b[0m\u001b[0marray2\u001b[0m\u001b[0;34m)\u001b[0m\u001b[0;34m)\u001b[0m    \u001b[0;31m# valor esperado: True (hay un 10)\u001b[0m\u001b[0;34m\u001b[0m\u001b[0;34m\u001b[0m\u001b[0m\n\u001b[1;32m     16\u001b[0m \u001b[0mprint\u001b[0m\u001b[0;34m(\u001b[0m\u001b[0mlocaliza_diez\u001b[0m\u001b[0;34m(\u001b[0m\u001b[0marray3\u001b[0m\u001b[0;34m)\u001b[0m\u001b[0;34m)\u001b[0m    \u001b[0;31m# valor esperado: True (4+6=10)\u001b[0m\u001b[0;34m\u001b[0m\u001b[0;34m\u001b[0m\u001b[0m\n",
            "\u001b[0;32m<ipython-input-20-39bbd5d827c3>\u001b[0m in \u001b[0;36mlocaliza_diez\u001b[0;34m(arr)\u001b[0m\n\u001b[1;32m      8\u001b[0m             \u001b[0;32mreturn\u001b[0m \u001b[0;32mTrue\u001b[0m\u001b[0;34m\u001b[0m\u001b[0;34m\u001b[0m\u001b[0m\n\u001b[1;32m      9\u001b[0m     \u001b[0;32mfor\u001b[0m \u001b[0mi\u001b[0m \u001b[0;32min\u001b[0m \u001b[0mrange\u001b[0m\u001b[0;34m(\u001b[0m\u001b[0mlen\u001b[0m\u001b[0;34m(\u001b[0m\u001b[0marr\u001b[0m\u001b[0;34m)\u001b[0m\u001b[0;34m+\u001b[0m\u001b[0;36m1\u001b[0m\u001b[0;34m)\u001b[0m\u001b[0;34m:\u001b[0m\u001b[0;34m\u001b[0m\u001b[0;34m\u001b[0m\u001b[0m\n\u001b[0;32m---> 10\u001b[0;31m         \u001b[0;32mif\u001b[0m \u001b[0marr\u001b[0m\u001b[0;34m[\u001b[0m\u001b[0mi\u001b[0m\u001b[0;34m]\u001b[0m \u001b[0;34m+\u001b[0m \u001b[0marr\u001b[0m\u001b[0;34m[\u001b[0m\u001b[0mi\u001b[0m\u001b[0;34m+\u001b[0m\u001b[0;36m1\u001b[0m\u001b[0;34m]\u001b[0m \u001b[0;34m==\u001b[0m \u001b[0;36m10\u001b[0m\u001b[0;34m:\u001b[0m\u001b[0;34m\u001b[0m\u001b[0;34m\u001b[0m\u001b[0m\n\u001b[0m\u001b[1;32m     11\u001b[0m             \u001b[0;32mreturn\u001b[0m \u001b[0;32mTrue\u001b[0m\u001b[0;34m\u001b[0m\u001b[0;34m\u001b[0m\u001b[0m\n\u001b[1;32m     12\u001b[0m     \u001b[0;32mreturn\u001b[0m \u001b[0;32mFalse\u001b[0m\u001b[0;34m\u001b[0m\u001b[0;34m\u001b[0m\u001b[0m\n",
            "\u001b[0;31mIndexError\u001b[0m: list index out of range"
          ]
        }
      ]
    },
    {
      "cell_type": "code",
      "source": [
        "def contiene_diez(arr):\n",
        "    return 10 is arr\n",
        "\n",
        "def suma_consecutiva_diez(arr):\n",
        "    for i in range(len(arr)-1):\n",
        "        if arr[i] + arr[i+1] == 10:\n",
        "            return True\n",
        "    return False\n",
        "\n",
        "def localiza_diez(arr):\n",
        "    return contiene_diez(arr) or suma_consecutiva_diez(arr)\n",
        "\n",
        "array1 = [1, 2, 3, 4, 5, 11]\n",
        "array2 = [1, 2, 3, 4, 5, 10]\n",
        "array3 = [1, 2, 3, 4, 6, 5]\n",
        "\n",
        "print(localiza_diez(array1))    # valor esperado: False\n",
        "print(localiza_diez(array2))    # valor esperado: True (hay un 10)\n",
        "print(localiza_diez(array3))    # valor esperado: True (4+6=10)\n"
      ],
      "metadata": {
        "outputId": "5cdc8cdf-d31e-415a-f645-c4cde0bb59a6",
        "colab": {
          "base_uri": "https://localhost:8080/"
        },
        "id": "S2Fyjr5tt_e_"
      },
      "execution_count": null,
      "outputs": [
        {
          "output_type": "stream",
          "name": "stdout",
          "text": [
            "False\n",
            "False\n",
            "True\n"
          ]
        },
        {
          "output_type": "stream",
          "name": "stderr",
          "text": [
            "<>:2: SyntaxWarning: \"is\" with a literal. Did you mean \"==\"?\n",
            "<>:2: SyntaxWarning: \"is\" with a literal. Did you mean \"==\"?\n",
            "<ipython-input-21-3355d4c86458>:2: SyntaxWarning: \"is\" with a literal. Did you mean \"==\"?\n",
            "  return 10 is arr\n"
          ]
        }
      ]
    },
    {
      "cell_type": "markdown",
      "source": [
        "Nos gustaría que dado un array de números enteros imprimir True si todos ellos son divisibles por 5, en caso contrario imprimir False.\n",
        "\n",
        "Por ejemplo, para la lista [5, -55, 45, 60] se ha de imprimir True ya que todos los números son divisibles por 5.\n",
        "\n",
        "Otro ejemplo, para la lista [-15, 17, 50, 555 ] se ha de imprimir False ya que 17 no es divisible entre 5, por lo que no todos lo son.\n",
        "\n",
        "Indique cuál de los siguientes códigos de Python logra realizar correctamente este objetivo."
      ],
      "metadata": {
        "id": "453RfAuXSgP2"
      }
    },
    {
      "cell_type": "code",
      "source": [
        "lista1 = [5, -55, 45, 60]\n",
        "lista2 = [-15, 17, 50, 555]\n",
        "\n",
        "def todos(lista):\n",
        "    return all(num % 5 == 0 for num in lista)\n",
        "\n",
        "print(f\"En la lista1 ¿son todos divisibles por cinco?: {todos(lista1)}.\")\n",
        "print(f\"En la lista2 ¿son todos divisibles por cinco?: {todos(lista2)}.\")"
      ],
      "metadata": {
        "id": "5sh0SuyBShKd",
        "outputId": "5ef53237-0d20-4709-dd41-0200e4e8760b",
        "colab": {
          "base_uri": "https://localhost:8080/"
        }
      },
      "execution_count": 3,
      "outputs": [
        {
          "output_type": "stream",
          "name": "stdout",
          "text": [
            "En la lista1 ¿son todos divisibles por cinco?: True.\n",
            "En la lista2 ¿son todos divisibles por cinco?: False.\n"
          ]
        }
      ]
    },
    {
      "cell_type": "code",
      "source": [
        "lista1 = [5, -55, 45, 60]\n",
        "lista2 = [-15, 17, 50, 555]\n",
        "\n",
        "def todos(lista):\n",
        "    return any(num % 5 == 0 for num in lista)\n",
        "\n",
        "print(f\"En la lista1 ¿son todos divisibles por cinco?: {todos(lista1)}.\")\n",
        "print(f\"En la lista2 ¿son todos divisibles por cinco?: {todos(lista2)}.\")"
      ],
      "metadata": {
        "id": "P0znBRBVT2Zl",
        "outputId": "b69e41a8-818a-469b-d027-f5139d6ef39c",
        "colab": {
          "base_uri": "https://localhost:8080/"
        }
      },
      "execution_count": 4,
      "outputs": [
        {
          "output_type": "stream",
          "name": "stdout",
          "text": [
            "En la lista1 ¿son todos divisibles por cinco?: True.\n",
            "En la lista2 ¿son todos divisibles por cinco?: True.\n"
          ]
        }
      ]
    },
    {
      "cell_type": "code",
      "source": [
        "lista1 = [5, -55, 45, 60]\n",
        "lista2 = [-15, 17, 50, 555]\n",
        "\n",
        "def todos(lista):\n",
        "    for num in lista:\n",
        "        if num % 5 == 0:\n",
        "            return False\n",
        "    return True\n",
        "\n",
        "print(f\"En la lista1 ¿son todos divisibles por cinco?: {todos(lista1)}.\")\n",
        "print(f\"En la lista2 ¿son todos divisibles por cinco?: {todos(lista2)}.\")"
      ],
      "metadata": {
        "id": "EVhuiVWIT-Yo",
        "outputId": "186ef021-b4ab-46d8-ff5f-c00837eec68b",
        "colab": {
          "base_uri": "https://localhost:8080/"
        }
      },
      "execution_count": 6,
      "outputs": [
        {
          "output_type": "stream",
          "name": "stdout",
          "text": [
            "En la lista1 ¿son todos divisibles por cinco?: False.\n",
            "En la lista2 ¿son todos divisibles por cinco?: False.\n"
          ]
        }
      ]
    },
    {
      "cell_type": "code",
      "source": [
        "lista1 = [5, -55, 45, 60]\n",
        "lista2 = [-15, 17, 50, 555]\n",
        "\n",
        "def todos(lista):\n",
        "    for num in lista:\n",
        "        if num / 5 == num // 5:\n",
        "            return False\n",
        "    return True\n",
        "\n",
        "print(f\"En la lista1 ¿son todos divisibles por cinco?: {todos(lista1)}.\")\n",
        "print(f\"En la lista2 ¿son todos divisibles por cinco?: {todos(lista2)}.\")"
      ],
      "metadata": {
        "id": "2sX9TWohUSRp",
        "outputId": "7ecb488e-de10-4dd3-8f10-635793f1459e",
        "colab": {
          "base_uri": "https://localhost:8080/"
        }
      },
      "execution_count": 9,
      "outputs": [
        {
          "output_type": "stream",
          "name": "stdout",
          "text": [
            "En la lista1 ¿son todos divisibles por cinco?: False.\n",
            "En la lista2 ¿son todos divisibles por cinco?: False.\n"
          ]
        }
      ]
    },
    {
      "cell_type": "code",
      "source": [
        "lista1 = [5, -55, 45, 60]\n",
        "lista2 = [-15, 17, 50, 555]\n",
        "\n",
        "def todos(lista):\n",
        "    for num in lista:\n",
        "        if num / 5 != num // 5:\n",
        "            return False\n",
        "    return True\n",
        "\n",
        "print(f\"En la lista1 ¿son todos divisibles por cinco?: {todos(lista1)}.\")\n",
        "print(f\"En la lista2 ¿son todos divisibles por cinco?: {todos(lista2)}.\")"
      ],
      "metadata": {
        "id": "RSDCMmLtWV2L",
        "outputId": "aabb137c-39d4-4251-9265-351a1021b2fe",
        "colab": {
          "base_uri": "https://localhost:8080/"
        }
      },
      "execution_count": 11,
      "outputs": [
        {
          "output_type": "stream",
          "name": "stdout",
          "text": [
            "En la lista1 ¿son todos divisibles por cinco?: True.\n",
            "En la lista2 ¿son todos divisibles por cinco?: False.\n"
          ]
        }
      ]
    },
    {
      "cell_type": "code",
      "source": [
        "lista1 = [5, -55, 45, 60]\n",
        "lista2 = [-15, 17, 50, 555]\n",
        "\n",
        "def todos(lista):\n",
        "    return all(num % 5 for num in lista)\n",
        "\n",
        "print(f\"En la lista1 ¿son todos divisibles por cinco?: {todos(lista1)}.\")\n",
        "print(f\"En la lista2 ¿son todos divisibles por cinco?: {todos(lista2)}.\")"
      ],
      "metadata": {
        "id": "Rc6lJRAnWrFk",
        "outputId": "3a5842f3-cfd4-45bb-b7ed-c34421a441d6",
        "colab": {
          "base_uri": "https://localhost:8080/"
        }
      },
      "execution_count": 12,
      "outputs": [
        {
          "output_type": "stream",
          "name": "stdout",
          "text": [
            "En la lista1 ¿son todos divisibles por cinco?: False.\n",
            "En la lista2 ¿son todos divisibles por cinco?: False.\n"
          ]
        }
      ]
    },
    {
      "cell_type": "markdown",
      "source": [
        "He realizado una compra de artículos y he anotado su precio antes de aplicar el 21% de IVA (Impuesto sobre el Valor Añadido).\n",
        "\n",
        "Este es el array con los precios antes de impuestos:\n",
        "[80, 90, 500, 40, 700, 75]\n",
        "\n",
        "Tengo instrucciones de eliminar del carro de compra y por lo tanto del array los artículos cuyo impuesto por IVA sea mayor o igual a 100 €.\n",
        "\n",
        "El array del ejemplo anterior se retornaría así:\n",
        "[80, 90, 40, 75]\n",
        "puesto que:\n",
        "\n",
        "    1. el IVA de 500 € es 21% x 500 = 105 €\n",
        "    2. el IVA de 700 € es 21% x 700 = 147 €"
      ],
      "metadata": {
        "id": "66sbvrx4XHWV"
      }
    },
    {
      "cell_type": "code",
      "source": [
        "lista = [80, 90, 500, 40, 700, 75]\n",
        "\n",
        "def filtra_impuestos(lista):\n",
        "    result = []\n",
        "    for precio in lista:\n",
        "        if 0.21 * precio < 100:\n",
        "            result.append(precio)\n",
        "    print(result)\n",
        "\n",
        "filtra_impuestos(lista)"
      ],
      "metadata": {
        "id": "WkSaJ-dzZWQF",
        "outputId": "26828819-654e-4c77-ecdb-f585d154b0e6",
        "colab": {
          "base_uri": "https://localhost:8080/"
        }
      },
      "execution_count": 18,
      "outputs": [
        {
          "output_type": "stream",
          "name": "stdout",
          "text": [
            "[80, 90, 40, 75]\n"
          ]
        }
      ]
    },
    {
      "cell_type": "code",
      "source": [
        "lista = [80, 90, 500, 40, 700, 75]\n",
        "\n",
        "def filtra_impuestos(lista):\n",
        "    result = [precio for precio in lista if 0.21 * precio >= 100]\n",
        "    print(result)\n",
        "\n",
        "filtra_impuestos(lista)"
      ],
      "metadata": {
        "id": "2-L4Y_UlcpaI",
        "outputId": "58a04cb8-7aca-45b1-cdb3-6479fb67aa01",
        "colab": {
          "base_uri": "https://localhost:8080/"
        }
      },
      "execution_count": 28,
      "outputs": [
        {
          "output_type": "stream",
          "name": "stdout",
          "text": [
            "[500, 700]\n"
          ]
        }
      ]
    },
    {
      "cell_type": "code",
      "source": [
        "lista = [80, 90, 500, 40, 700, 75]\n",
        "\n",
        "def filtra_impuestos(lista):\n",
        "    result = lista - [precio for precio in lista if 0.21 * precio >= 100]\n",
        "    print(result)\n",
        "\n",
        "filtra_impuestos(lista)"
      ],
      "metadata": {
        "id": "yA3vrRrHa6Ms",
        "outputId": "99ba85da-d72e-45f9-f03b-8eb4f328742c",
        "colab": {
          "base_uri": "https://localhost:8080/",
          "height": 332
        }
      },
      "execution_count": 23,
      "outputs": [
        {
          "output_type": "error",
          "ename": "TypeError",
          "evalue": "unsupported operand type(s) for -: 'list' and 'list'",
          "traceback": [
            "\u001b[0;31m---------------------------------------------------------------------------\u001b[0m",
            "\u001b[0;31mTypeError\u001b[0m                                 Traceback (most recent call last)",
            "\u001b[0;32m<ipython-input-23-65a6b185f089>\u001b[0m in \u001b[0;36m<cell line: 7>\u001b[0;34m()\u001b[0m\n\u001b[1;32m      5\u001b[0m     \u001b[0mprint\u001b[0m\u001b[0;34m(\u001b[0m\u001b[0mresult\u001b[0m\u001b[0;34m)\u001b[0m\u001b[0;34m\u001b[0m\u001b[0;34m\u001b[0m\u001b[0m\n\u001b[1;32m      6\u001b[0m \u001b[0;34m\u001b[0m\u001b[0m\n\u001b[0;32m----> 7\u001b[0;31m \u001b[0mfiltra_impuestos\u001b[0m\u001b[0;34m(\u001b[0m\u001b[0mlista\u001b[0m\u001b[0;34m)\u001b[0m\u001b[0;34m\u001b[0m\u001b[0;34m\u001b[0m\u001b[0m\n\u001b[0m",
            "\u001b[0;32m<ipython-input-23-65a6b185f089>\u001b[0m in \u001b[0;36mfiltra_impuestos\u001b[0;34m(lista)\u001b[0m\n\u001b[1;32m      2\u001b[0m \u001b[0;34m\u001b[0m\u001b[0m\n\u001b[1;32m      3\u001b[0m \u001b[0;32mdef\u001b[0m \u001b[0mfiltra_impuestos\u001b[0m\u001b[0;34m(\u001b[0m\u001b[0mlista\u001b[0m\u001b[0;34m)\u001b[0m\u001b[0;34m:\u001b[0m\u001b[0;34m\u001b[0m\u001b[0;34m\u001b[0m\u001b[0m\n\u001b[0;32m----> 4\u001b[0;31m     \u001b[0mresult\u001b[0m \u001b[0;34m=\u001b[0m \u001b[0mlista\u001b[0m \u001b[0;34m-\u001b[0m \u001b[0;34m[\u001b[0m\u001b[0mprecio\u001b[0m \u001b[0;32mfor\u001b[0m \u001b[0mprecio\u001b[0m \u001b[0;32min\u001b[0m \u001b[0mlista\u001b[0m \u001b[0;32mif\u001b[0m \u001b[0;36m0.21\u001b[0m \u001b[0;34m*\u001b[0m \u001b[0mprecio\u001b[0m \u001b[0;34m>=\u001b[0m \u001b[0;36m100\u001b[0m\u001b[0;34m]\u001b[0m\u001b[0;34m\u001b[0m\u001b[0;34m\u001b[0m\u001b[0m\n\u001b[0m\u001b[1;32m      5\u001b[0m     \u001b[0mprint\u001b[0m\u001b[0;34m(\u001b[0m\u001b[0mresult\u001b[0m\u001b[0;34m)\u001b[0m\u001b[0;34m\u001b[0m\u001b[0;34m\u001b[0m\u001b[0m\n\u001b[1;32m      6\u001b[0m \u001b[0;34m\u001b[0m\u001b[0m\n",
            "\u001b[0;31mTypeError\u001b[0m: unsupported operand type(s) for -: 'list' and 'list'"
          ]
        }
      ]
    },
    {
      "cell_type": "code",
      "source": [
        "lista = [80, 90, 500, 40, 700, 75]\n",
        "\n",
        "def filtra_impuestos(lista):\n",
        "    result = list(filter(lambda precio: not(0.21 * precio < 100), lista))\n",
        "    print(result)\n",
        "\n",
        "filtra_impuestos(lista)"
      ],
      "metadata": {
        "id": "3aYTukX4a_tV",
        "outputId": "fddb20e0-da6b-4a71-c20d-f1aac104c6de",
        "colab": {
          "base_uri": "https://localhost:8080/"
        }
      },
      "execution_count": 29,
      "outputs": [
        {
          "output_type": "stream",
          "name": "stdout",
          "text": [
            "[500, 700]\n"
          ]
        }
      ]
    },
    {
      "cell_type": "code",
      "source": [
        "def filtra_impuestos(lista):\n",
        "    return [precio for precio in lista if 0.21 * precio < 100]\n",
        "\n",
        "print(filtra_impuestos([80, 90, 500, 40, 700, 75]))"
      ],
      "metadata": {
        "id": "PDBfsAaBgKU4",
        "outputId": "bfdf636f-c039-4e0b-acf9-ac58e71b87fc",
        "colab": {
          "base_uri": "https://localhost:8080/"
        }
      },
      "execution_count": 30,
      "outputs": [
        {
          "output_type": "stream",
          "name": "stdout",
          "text": [
            "[80, 90, 40, 75]\n"
          ]
        }
      ]
    },
    {
      "cell_type": "markdown",
      "source": [
        "Necesitamos una función que sume los elementos de un array.\n",
        "\n",
        "Ejemplos:\n",
        "1.  Si la lista es [1,2,3,4,5,6,7,8,9,10] la suma es 55.\n",
        "2.  Si la lista está formada por los enteros entre 1 y 100, la suma es 5050.\n",
        "\n",
        "Indique cuál de los siguientes códigos de Python logra realizar correctamente la suma de estas listas."
      ],
      "metadata": {
        "id": "9cvGVno9gxle"
      }
    },
    {
      "cell_type": "code",
      "source": [
        "def sumar_lista(lista):\n",
        "    total = 0\n",
        "    for elemento in lista:\n",
        "        total += elemento\n",
        "    return total\n",
        "\n",
        "print(f\"La suma de la lista 1 es {sumar_lista([1,2,3,4,5,6,7,8,9,10])}.\")\n",
        "print(f\"La suma de la lista 2 es {sumar_lista(list(range(1, 101)))}.\")"
      ],
      "metadata": {
        "id": "M0PayRf8iEpD",
        "outputId": "63c226b1-6907-4e93-dc6d-5bedf447ee6e",
        "colab": {
          "base_uri": "https://localhost:8080/"
        }
      },
      "execution_count": 35,
      "outputs": [
        {
          "output_type": "stream",
          "name": "stdout",
          "text": [
            "La suma de la lista 1 es 55.\n",
            "La suma de la lista 2 es 5050.\n"
          ]
        }
      ]
    },
    {
      "cell_type": "code",
      "source": [
        "lista1 = [1,2,3,4,5,6,7,8,9,10]\n",
        "lista2 = list(range(1, 101))\n",
        "\n",
        "def sumar_lista(arr):\n",
        "    return sum[arr]\n",
        "\n",
        "print(f\"La suma de la lista 1 es {sumar_lista(lista1)}.\")\n",
        "print(f\"La suma de la lista 2 es {sumar_lista(lista2)}.\")"
      ],
      "metadata": {
        "id": "M6hr1Q8HhPpi",
        "outputId": "7ce2bdb0-010c-4986-81f7-224ec059a573",
        "colab": {
          "base_uri": "https://localhost:8080/",
          "height": 349
        }
      },
      "execution_count": 36,
      "outputs": [
        {
          "output_type": "error",
          "ename": "TypeError",
          "evalue": "'builtin_function_or_method' object is not subscriptable",
          "traceback": [
            "\u001b[0;31m---------------------------------------------------------------------------\u001b[0m",
            "\u001b[0;31mTypeError\u001b[0m                                 Traceback (most recent call last)",
            "\u001b[0;32m<ipython-input-36-7c4bfc958562>\u001b[0m in \u001b[0;36m<cell line: 7>\u001b[0;34m()\u001b[0m\n\u001b[1;32m      5\u001b[0m     \u001b[0;32mreturn\u001b[0m \u001b[0msum\u001b[0m\u001b[0;34m[\u001b[0m\u001b[0marr\u001b[0m\u001b[0;34m]\u001b[0m\u001b[0;34m\u001b[0m\u001b[0;34m\u001b[0m\u001b[0m\n\u001b[1;32m      6\u001b[0m \u001b[0;34m\u001b[0m\u001b[0m\n\u001b[0;32m----> 7\u001b[0;31m \u001b[0mprint\u001b[0m\u001b[0;34m(\u001b[0m\u001b[0;34mf\"La suma de la lista 1 es {sumar_lista(lista1)}.\"\u001b[0m\u001b[0;34m)\u001b[0m\u001b[0;34m\u001b[0m\u001b[0;34m\u001b[0m\u001b[0m\n\u001b[0m\u001b[1;32m      8\u001b[0m \u001b[0mprint\u001b[0m\u001b[0;34m(\u001b[0m\u001b[0;34mf\"La suma de la lista 2 es {sumar_lista(lista2)}.\"\u001b[0m\u001b[0;34m)\u001b[0m\u001b[0;34m\u001b[0m\u001b[0;34m\u001b[0m\u001b[0m\n",
            "\u001b[0;32m<ipython-input-36-7c4bfc958562>\u001b[0m in \u001b[0;36msumar_lista\u001b[0;34m(arr)\u001b[0m\n\u001b[1;32m      3\u001b[0m \u001b[0;34m\u001b[0m\u001b[0m\n\u001b[1;32m      4\u001b[0m \u001b[0;32mdef\u001b[0m \u001b[0msumar_lista\u001b[0m\u001b[0;34m(\u001b[0m\u001b[0marr\u001b[0m\u001b[0;34m)\u001b[0m\u001b[0;34m:\u001b[0m\u001b[0;34m\u001b[0m\u001b[0;34m\u001b[0m\u001b[0m\n\u001b[0;32m----> 5\u001b[0;31m     \u001b[0;32mreturn\u001b[0m \u001b[0msum\u001b[0m\u001b[0;34m[\u001b[0m\u001b[0marr\u001b[0m\u001b[0;34m]\u001b[0m\u001b[0;34m\u001b[0m\u001b[0;34m\u001b[0m\u001b[0m\n\u001b[0m\u001b[1;32m      6\u001b[0m \u001b[0;34m\u001b[0m\u001b[0m\n\u001b[1;32m      7\u001b[0m \u001b[0mprint\u001b[0m\u001b[0;34m(\u001b[0m\u001b[0;34mf\"La suma de la lista 1 es {sumar_lista(lista1)}.\"\u001b[0m\u001b[0;34m)\u001b[0m\u001b[0;34m\u001b[0m\u001b[0;34m\u001b[0m\u001b[0m\n",
            "\u001b[0;31mTypeError\u001b[0m: 'builtin_function_or_method' object is not subscriptable"
          ]
        }
      ]
    },
    {
      "cell_type": "code",
      "source": [
        "def sumar_lista(lista):\n",
        "    total = 0\n",
        "    for i in range(len(lista)):\n",
        "        total = lista[i]\n",
        "    return total\n",
        "\n",
        "print(f\"La suma de la lista 1 es {sumar_lista([1,2,3,4,5,6,7,8,9,10])}.\")\n",
        "print(f\"La suma de la lista 2 es {sumar_lista(list(range(1, 101)))}.\")"
      ],
      "metadata": {
        "colab": {
          "base_uri": "https://localhost:8080/"
        },
        "id": "nP6hVLlyjBWx",
        "outputId": "e295b6d0-97e4-4f58-dd49-ca31d27d5a59"
      },
      "execution_count": 39,
      "outputs": [
        {
          "output_type": "stream",
          "name": "stdout",
          "text": [
            "La suma de la lista 1 es 10.\n",
            "La suma de la lista 2 es 100.\n"
          ]
        }
      ]
    },
    {
      "cell_type": "code",
      "source": [
        "def sumar_lista(lista):\n",
        "    total = 0\n",
        "    for i in range(len(lista)):\n",
        "        total += i\n",
        "    return total\n",
        "\n",
        "lista1 = [1,2,3,4,5,6,7,8,9,10]\n",
        "lista2 = list(range(1, 101))\n",
        "\n",
        "print(f\"La suma de la lista 1 es {sumar_lista(lista1)}.\")\n",
        "print(f\"La suma de la lista 2 es {sumar_lista(lista2)}.\")"
      ],
      "metadata": {
        "outputId": "d47eba02-ae5e-423b-9f62-70a5a4cfbfd8",
        "colab": {
          "base_uri": "https://localhost:8080/"
        },
        "id": "U_PVoJtjkeX9"
      },
      "execution_count": 42,
      "outputs": [
        {
          "output_type": "stream",
          "name": "stdout",
          "text": [
            "La suma de la lista 1 es 45.\n",
            "La suma de la lista 2 es 4950.\n"
          ]
        }
      ]
    },
    {
      "cell_type": "markdown",
      "source": [
        "En un diccionario aparecen como clave los días de la semana y como valor una lista con dos elementos, el primero de ellos es el porcentaje de robos y el segundo porcentaje de accidentes al ir o volver del trabajo.\n",
        "Una compañía de seguros quiere determinar cúal es el día o días en los que se producen un mayor número de siniestros.\n",
        "\n"
      ],
      "metadata": {
        "id": "CkeOWSdcqdXm"
      }
    },
    {
      "cell_type": "code",
      "source": [
        "siniestros = {'lunes': [17, 17],\n",
        "              'martes': [19, 19],\n",
        "              'miércoles': [15, 15],\n",
        "              'jueves': [16, 18],\n",
        "              'viernes': [18, 20],\n",
        "              'sábado': [8, 7],\n",
        "              'domingo': [7, 4]}"
      ],
      "metadata": {
        "id": "dfRX7zKEvoVD"
      },
      "execution_count": 43,
      "outputs": []
    }
  ]
}