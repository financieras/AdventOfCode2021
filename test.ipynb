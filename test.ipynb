{
  "nbformat": 4,
  "nbformat_minor": 0,
  "metadata": {
    "colab": {
      "provenance": [],
      "authorship_tag": "ABX9TyON0EyZ787i10rXCfokRIMd",
      "include_colab_link": true
    },
    "kernelspec": {
      "name": "python3",
      "display_name": "Python 3"
    },
    "language_info": {
      "name": "python"
    }
  },
  "cells": [
    {
      "cell_type": "markdown",
      "metadata": {
        "id": "view-in-github",
        "colab_type": "text"
      },
      "source": [
        "<a href=\"https://colab.research.google.com/github/financieras/AdventOfCode2021/blob/master/test.ipynb\" target=\"_parent\"><img src=\"https://colab.research.google.com/assets/colab-badge.svg\" alt=\"Open In Colab\"/></a>"
      ]
    },
    {
      "cell_type": "code",
      "execution_count": null,
      "metadata": {
        "id": "pglr1wf0zt1T"
      },
      "outputs": [],
      "source": []
    },
    {
      "cell_type": "markdown",
      "source": [
        "<p>En la Wikipedia podemos leer sobre el problema del tripo y del tablero de ajedrez. https://es.wikipedia.org/wiki/Problema_del_trigo_y_del_tablero_de_ajedrez</p>\n",
        "\n",
        "Queremos saber cuantos granos de trigo se pueden llegar a tener si por la primera casilla del tablero nos dan 1 grano, por la segunda casilla nos dan 2 granos, por la tercera casilla nos dan 4, granos y así doblando el número de granos hasta llegar a la casilla 64, ya que un tablero tien 8 filas y 8 columnas.\n",
        "\n",
        "El número total de granos que nos pueden llegar a dar es:\n",
        "$$1+2+4+8+...+2^{63} = 18.446.744.073.709.551.615$$\n",
        "\n",
        "Queremos crear un código que nos proporcione este cálculo."
      ],
      "metadata": {
        "id": "CylE5fKWzuMj"
      }
    },
    {
      "cell_type": "code",
      "source": [
        "def granos_de_una_casilla(n):\n",
        "    return 2 ** (n-1)\n",
        "\n",
        "def acumulado_de_granos(n):\n",
        "    total = 0    # inicializamos la variable\n",
        "    for i in range(n):\n",
        "        total += 2 ** i\n",
        "    return total\n",
        "\n",
        "print(\"Granos de la casilla 64:\", granos_de_una_casilla(64))\n",
        "print(\"Acumulado en 64 casillas:\", acumulado_de_granos(64))"
      ],
      "metadata": {
        "colab": {
          "base_uri": "https://localhost:8080/"
        },
        "id": "3DhXZgNZ1Vj8",
        "outputId": "19d337c3-3f89-4a46-ea9f-f85d967e4d14"
      },
      "execution_count": 10,
      "outputs": [
        {
          "output_type": "stream",
          "name": "stdout",
          "text": [
            "Granos de la casilla 64: 9223372036854775808\n",
            "Acumulado en 64 casillas: 18446744073709551615\n"
          ]
        }
      ]
    },
    {
      "cell_type": "code",
      "source": [
        "total = 0\n",
        "for i in range(64):\n",
        "    total += 2 ** i\n",
        "    print(i+1, 2 ** i, total)"
      ],
      "metadata": {
        "colab": {
          "base_uri": "https://localhost:8080/"
        },
        "id": "x7wlnODq3Z5f",
        "outputId": "cb251dfc-3d6e-4d4e-ddad-a2118cafb538"
      },
      "execution_count": 7,
      "outputs": [
        {
          "output_type": "stream",
          "name": "stdout",
          "text": [
            "1 1 1\n",
            "2 2 3\n",
            "3 4 7\n",
            "4 8 15\n",
            "5 16 31\n",
            "6 32 63\n",
            "7 64 127\n",
            "8 128 255\n",
            "9 256 511\n",
            "10 512 1023\n",
            "11 1024 2047\n",
            "12 2048 4095\n",
            "13 4096 8191\n",
            "14 8192 16383\n",
            "15 16384 32767\n",
            "16 32768 65535\n",
            "17 65536 131071\n",
            "18 131072 262143\n",
            "19 262144 524287\n",
            "20 524288 1048575\n",
            "21 1048576 2097151\n",
            "22 2097152 4194303\n",
            "23 4194304 8388607\n",
            "24 8388608 16777215\n",
            "25 16777216 33554431\n",
            "26 33554432 67108863\n",
            "27 67108864 134217727\n",
            "28 134217728 268435455\n",
            "29 268435456 536870911\n",
            "30 536870912 1073741823\n",
            "31 1073741824 2147483647\n",
            "32 2147483648 4294967295\n",
            "33 4294967296 8589934591\n",
            "34 8589934592 17179869183\n",
            "35 17179869184 34359738367\n",
            "36 34359738368 68719476735\n",
            "37 68719476736 137438953471\n",
            "38 137438953472 274877906943\n",
            "39 274877906944 549755813887\n",
            "40 549755813888 1099511627775\n",
            "41 1099511627776 2199023255551\n",
            "42 2199023255552 4398046511103\n",
            "43 4398046511104 8796093022207\n",
            "44 8796093022208 17592186044415\n",
            "45 17592186044416 35184372088831\n",
            "46 35184372088832 70368744177663\n",
            "47 70368744177664 140737488355327\n",
            "48 140737488355328 281474976710655\n",
            "49 281474976710656 562949953421311\n",
            "50 562949953421312 1125899906842623\n",
            "51 1125899906842624 2251799813685247\n",
            "52 2251799813685248 4503599627370495\n",
            "53 4503599627370496 9007199254740991\n",
            "54 9007199254740992 18014398509481983\n",
            "55 18014398509481984 36028797018963967\n",
            "56 36028797018963968 72057594037927935\n",
            "57 72057594037927936 144115188075855871\n",
            "58 144115188075855872 288230376151711743\n",
            "59 288230376151711744 576460752303423487\n",
            "60 576460752303423488 1152921504606846975\n",
            "61 1152921504606846976 2305843009213693951\n",
            "62 2305843009213693952 4611686018427387903\n",
            "63 4611686018427387904 9223372036854775807\n",
            "64 9223372036854775808 18446744073709551615\n"
          ]
        }
      ]
    }
  ]
}