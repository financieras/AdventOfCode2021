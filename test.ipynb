{
  "nbformat": 4,
  "nbformat_minor": 0,
  "metadata": {
    "colab": {
      "provenance": [],
      "authorship_tag": "ABX9TyNotNmAv6TLvxA5eoR+zdhE",
      "include_colab_link": true
    },
    "kernelspec": {
      "name": "python3",
      "display_name": "Python 3"
    },
    "language_info": {
      "name": "python"
    }
  },
  "cells": [
    {
      "cell_type": "markdown",
      "metadata": {
        "id": "view-in-github",
        "colab_type": "text"
      },
      "source": [
        "<a href=\"https://colab.research.google.com/github/financieras/AdventOfCode2021/blob/master/test.ipynb\" target=\"_parent\"><img src=\"https://colab.research.google.com/assets/colab-badge.svg\" alt=\"Open In Colab\"/></a>"
      ]
    },
    {
      "cell_type": "code",
      "execution_count": null,
      "metadata": {
        "colab": {
          "base_uri": "https://localhost:8080/"
        },
        "id": "bx6cUAfsEH9F",
        "outputId": "32f493fc-4e05-4783-87a1-b4362d212182"
      },
      "outputs": [
        {
          "output_type": "stream",
          "name": "stdout",
          "text": [
            "El total de la factura es: 38 €.\n"
          ]
        }
      ],
      "source": [
        "p, g = 4, 6\n",
        "\n",
        "def factura(peques, grandes):\n",
        "    return 2 * peques + 5 * grandes\n",
        "\n",
        "print(f'El total de la factura es: {factura(p, g)} €.')"
      ]
    },
    {
      "cell_type": "code",
      "execution_count": null,
      "metadata": {
        "colab": {
          "base_uri": "https://localhost:8080/"
        },
        "outputId": "92173dac-9ec8-4065-8b3a-2ccaf334aa2c",
        "id": "jwsi9gPEEzlT"
      },
      "outputs": [
        {
          "output_type": "stream",
          "name": "stdout",
          "text": [
            "El total de la factura es: 32 €.\n"
          ]
        }
      ],
      "source": [
        "def factura(p, g):\n",
        "    return 2 * p + 5 * g\n",
        "\n",
        "grandes = 6\n",
        "peques = 4\n",
        "print(f'El total de la factura es: {factura(grandes, peques)} €.')"
      ]
    },
    {
      "cell_type": "code",
      "execution_count": null,
      "metadata": {
        "colab": {
          "base_uri": "https://localhost:8080/",
          "height": 140
        },
        "outputId": "ef843ccd-0a2a-4c5b-f233-6b7aac2ac1c4",
        "id": "YMaeZfUxEzp3"
      },
      "outputs": [
        {
          "output_type": "error",
          "ename": "SyntaxError",
          "evalue": "f-string: invalid syntax. Perhaps you forgot a comma? (<ipython-input-6-47bbd9b62eb8>, line 7)",
          "traceback": [
            "\u001b[0;36m  File \u001b[0;32m\"<ipython-input-6-47bbd9b62eb8>\"\u001b[0;36m, line \u001b[0;32m7\u001b[0m\n\u001b[0;31m    print(f'El total de la factura es: {factura(p g)} €.')\u001b[0m\n\u001b[0m             ^\u001b[0m\n\u001b[0;31mSyntaxError\u001b[0m\u001b[0;31m:\u001b[0m f-string: invalid syntax. Perhaps you forgot a comma?\n"
          ]
        }
      ],
      "source": [
        "p = 4\n",
        "g = 6\n",
        "\n",
        "def factura(peques, grandes):\n",
        "    return 2 * peques + 5 * grandes\n",
        "\n",
        "print(f'El total de la factura es: {factura(p g)} €.')"
      ]
    },
    {
      "cell_type": "code",
      "execution_count": null,
      "metadata": {
        "colab": {
          "base_uri": "https://localhost:8080/",
          "height": 210
        },
        "outputId": "2f15b6bc-648f-46da-fcaf-1c599889ae36",
        "id": "OKgmKZ8wEzwB"
      },
      "outputs": [
        {
          "output_type": "error",
          "ename": "TypeError",
          "evalue": "factura() missing 1 required positional argument: 'grandes'",
          "traceback": [
            "\u001b[0;31m---------------------------------------------------------------------------\u001b[0m",
            "\u001b[0;31mTypeError\u001b[0m                                 Traceback (most recent call last)",
            "\u001b[0;32m<ipython-input-7-b4d56c9e4b02>\u001b[0m in \u001b[0;36m<cell line: 7>\u001b[0;34m()\u001b[0m\n\u001b[1;32m      5\u001b[0m \u001b[0mgrandes\u001b[0m \u001b[0;34m=\u001b[0m \u001b[0;36m6\u001b[0m\u001b[0;34m\u001b[0m\u001b[0;34m\u001b[0m\u001b[0m\n\u001b[1;32m      6\u001b[0m \u001b[0;34m\u001b[0m\u001b[0m\n\u001b[0;32m----> 7\u001b[0;31m \u001b[0mprint\u001b[0m\u001b[0;34m(\u001b[0m\u001b[0;34mf'El total de la factura es: {factura(peques + grandes)} €.'\u001b[0m\u001b[0;34m)\u001b[0m\u001b[0;34m\u001b[0m\u001b[0;34m\u001b[0m\u001b[0m\n\u001b[0m",
            "\u001b[0;31mTypeError\u001b[0m: factura() missing 1 required positional argument: 'grandes'"
          ]
        }
      ],
      "source": [
        "def factura(peques, grandes):\n",
        "    return 2 * peques + 5 * grandes\n",
        "\n",
        "peques = 4\n",
        "grandes = 6\n",
        "\n",
        "print(f'El total de la factura es: {factura(peques + grandes)} €.')"
      ]
    },
    {
      "cell_type": "markdown",
      "source": [
        "Un estudiante ha aprobado 2 asignaturas optativas y 5 obligatorias. Las asignaturas optativas son de 4 créditos cada una y las obligatorias son de 6 créditos cada una.\n",
        "En total el alumno ha obtenido 38 créditos ya que 4 x 2 es 8 y 6 x 5 es 30.\n",
        "\n",
        "Indique cuál de los siguientes códigos de Python es capaz de calcular los créditos obtenidos por un alumno en función de las asignaturas optativas y obligatorias aprobadas."
      ],
      "metadata": {
        "id": "Uk73ZIaMHamA"
      }
    },
    {
      "cell_type": "code",
      "source": [
        "op, ob = 2, 5\n",
        "\n",
        "def creditos(optativas, obligatorias):\n",
        "    return 4 * optativas + 6 * obligatorias\n",
        "\n",
        "print(f'Ha obtenido un total de {creditos(op, ob)} crétidos.')"
      ],
      "metadata": {
        "colab": {
          "base_uri": "https://localhost:8080/"
        },
        "id": "Yc9806uwIOCI",
        "outputId": "80e6f8a3-3882-47b3-a288-93334f60ecc6"
      },
      "execution_count": 1,
      "outputs": [
        {
          "output_type": "stream",
          "name": "stdout",
          "text": [
            "Ha obtenido un total de 38 crétidos.\n"
          ]
        }
      ]
    },
    {
      "cell_type": "code",
      "source": [
        "def creditos(op, ob):\n",
        "    return 4 * op + 6 * ob\n",
        "\n",
        "optativas = 2\n",
        "obligatorias = 5\n",
        "print(f'Ha obtenido un total de {creditos(obligatorias, optativas)} crétidos.')"
      ],
      "metadata": {
        "id": "gWD6U4dvMzD5",
        "outputId": "4e82256d-ca25-4894-920a-f6eeea7eac08",
        "colab": {
          "base_uri": "https://localhost:8080/"
        }
      },
      "execution_count": 3,
      "outputs": [
        {
          "output_type": "stream",
          "name": "stdout",
          "text": [
            "Ha obtenido un total de 32 crétidos.\n"
          ]
        }
      ]
    },
    {
      "cell_type": "code",
      "source": [
        "op = 2\n",
        "ob = 5\n",
        "\n",
        "def creditos(optativas, obligatorias):\n",
        "    return 4 * optativas + 6 * obligatorias\n",
        "\n",
        "print(f'Ha obtenido un total de {creditos(op ob)} crétidos.')"
      ],
      "metadata": {
        "id": "I9MYojRqNlRT",
        "outputId": "efcdcd8f-62c3-452b-c4ee-1d3158f5f06c",
        "colab": {
          "base_uri": "https://localhost:8080/"
        }
      },
      "execution_count": 4,
      "outputs": [
        {
          "output_type": "stream",
          "name": "stdout",
          "text": [
            "Ha obtenido un total de 38 crétidos.\n"
          ]
        }
      ]
    },
    {
      "cell_type": "code",
      "source": [
        "def creditos(optativas, obligatorias):\n",
        "    return 4 * optativas + 6 * obligatorias\n",
        "\n",
        "optativas = 2\n",
        "obligatorias = 5\n",
        "\n",
        "print(f'Ha obtenido un total de {creditos(optativas + obligatorias)} crétidos.')"
      ],
      "metadata": {
        "id": "3K5ctb33OiEj",
        "outputId": "fc9617d7-8864-4c91-c8e7-d0548d115952",
        "colab": {
          "base_uri": "https://localhost:8080/",
          "height": 215
        }
      },
      "execution_count": 9,
      "outputs": [
        {
          "output_type": "error",
          "ename": "TypeError",
          "evalue": "creditos() missing 1 required positional argument: 'obligatorias'",
          "traceback": [
            "\u001b[0;31m---------------------------------------------------------------------------\u001b[0m",
            "\u001b[0;31mTypeError\u001b[0m                                 Traceback (most recent call last)",
            "\u001b[0;32m<ipython-input-9-98fa3676b8dd>\u001b[0m in \u001b[0;36m<cell line: 7>\u001b[0;34m()\u001b[0m\n\u001b[1;32m      5\u001b[0m \u001b[0mobligatorias\u001b[0m \u001b[0;34m=\u001b[0m \u001b[0;36m5\u001b[0m\u001b[0;34m\u001b[0m\u001b[0;34m\u001b[0m\u001b[0m\n\u001b[1;32m      6\u001b[0m \u001b[0;34m\u001b[0m\u001b[0m\n\u001b[0;32m----> 7\u001b[0;31m \u001b[0mprint\u001b[0m\u001b[0;34m(\u001b[0m\u001b[0;34mf'Ha obtenido un total de {creditos(optativas + obligatorias)} crétidos.'\u001b[0m\u001b[0;34m)\u001b[0m\u001b[0;34m\u001b[0m\u001b[0;34m\u001b[0m\u001b[0m\n\u001b[0m",
            "\u001b[0;31mTypeError\u001b[0m: creditos() missing 1 required positional argument: 'obligatorias'"
          ]
        }
      ]
    },
    {
      "cell_type": "markdown",
      "source": [
        "En un restaurante hacen un descuento si vienen a comer dos personas y la suma de sus edades es menor o igual a 40.\n",
        "\n",
        "Indique cuál se los siguentes códigos muestra `True` o `False` en caso de obtengan o no el descuento anunciado."
      ],
      "metadata": {
        "id": "XQfIvD3DR-iJ"
      }
    },
    {
      "cell_type": "code",
      "source": [
        "edad1 = 16\n",
        "edad2 = 17\n",
        "\n",
        "def hay_descuento(edad1, edad2):\n",
        "    total = edad1 + edad2\n",
        "    return total <= 40\n",
        "\n",
        "print(hay_descuento(edad1, edad2))"
      ],
      "metadata": {
        "colab": {
          "base_uri": "https://localhost:8080/"
        },
        "id": "LyPkO2fZSuLf",
        "outputId": "8b403622-83e0-451e-9902-768014c80161"
      },
      "execution_count": 11,
      "outputs": [
        {
          "output_type": "stream",
          "name": "stdout",
          "text": [
            "True\n"
          ]
        }
      ]
    },
    {
      "cell_type": "code",
      "source": [
        "def hay_descuento(a, b):\n",
        "    if a + b <= 40:\n",
        "        return True\n",
        "\n",
        "a = 16\n",
        "b = 17\n",
        "print(hay_descuento(a, b))"
      ],
      "metadata": {
        "outputId": "b0ca6a75-6674-4d85-8a91-9abf8678a614",
        "colab": {
          "base_uri": "https://localhost:8080/"
        },
        "id": "Q_c0_mq0TPwO"
      },
      "execution_count": 1,
      "outputs": [
        {
          "output_type": "stream",
          "name": "stdout",
          "text": [
            "True\n"
          ]
        }
      ]
    },
    {
      "cell_type": "code",
      "source": [
        "edad1 = 16\n",
        "edad2 = 17\n",
        "\n",
        "def hay_descuento(a, b):\n",
        "    suma = edad1 + edad2\n",
        "    return total <= 40\n",
        "\n",
        "print(hay_descuento(a, b))"
      ],
      "metadata": {
        "outputId": "bc0ba79f-04c6-47f3-f000-c19e28b3d9ce",
        "colab": {
          "base_uri": "https://localhost:8080/",
          "height": 340
        },
        "id": "v1JeI_u0TP1M"
      },
      "execution_count": 2,
      "outputs": [
        {
          "output_type": "error",
          "ename": "NameError",
          "evalue": "name 'total' is not defined",
          "traceback": [
            "\u001b[0;31m---------------------------------------------------------------------------\u001b[0m",
            "\u001b[0;31mNameError\u001b[0m                                 Traceback (most recent call last)",
            "\u001b[0;32m<ipython-input-2-bd00e70f7e6e>\u001b[0m in \u001b[0;36m<cell line: 8>\u001b[0;34m()\u001b[0m\n\u001b[1;32m      6\u001b[0m     \u001b[0;32mreturn\u001b[0m \u001b[0mtotal\u001b[0m \u001b[0;34m<=\u001b[0m \u001b[0;36m40\u001b[0m\u001b[0;34m\u001b[0m\u001b[0;34m\u001b[0m\u001b[0m\n\u001b[1;32m      7\u001b[0m \u001b[0;34m\u001b[0m\u001b[0m\n\u001b[0;32m----> 8\u001b[0;31m \u001b[0mprint\u001b[0m\u001b[0;34m(\u001b[0m\u001b[0mhay_descuento\u001b[0m\u001b[0;34m(\u001b[0m\u001b[0ma\u001b[0m\u001b[0;34m,\u001b[0m \u001b[0mb\u001b[0m\u001b[0;34m)\u001b[0m\u001b[0;34m)\u001b[0m\u001b[0;34m\u001b[0m\u001b[0;34m\u001b[0m\u001b[0m\n\u001b[0m",
            "\u001b[0;32m<ipython-input-2-bd00e70f7e6e>\u001b[0m in \u001b[0;36mhay_descuento\u001b[0;34m(a, b)\u001b[0m\n\u001b[1;32m      4\u001b[0m \u001b[0;32mdef\u001b[0m \u001b[0mhay_descuento\u001b[0m\u001b[0;34m(\u001b[0m\u001b[0ma\u001b[0m\u001b[0;34m,\u001b[0m \u001b[0mb\u001b[0m\u001b[0;34m)\u001b[0m\u001b[0;34m:\u001b[0m\u001b[0;34m\u001b[0m\u001b[0;34m\u001b[0m\u001b[0m\n\u001b[1;32m      5\u001b[0m     \u001b[0msuma\u001b[0m \u001b[0;34m=\u001b[0m \u001b[0medad1\u001b[0m \u001b[0;34m+\u001b[0m \u001b[0medad2\u001b[0m\u001b[0;34m\u001b[0m\u001b[0;34m\u001b[0m\u001b[0m\n\u001b[0;32m----> 6\u001b[0;31m     \u001b[0;32mreturn\u001b[0m \u001b[0mtotal\u001b[0m \u001b[0;34m<=\u001b[0m \u001b[0;36m40\u001b[0m\u001b[0;34m\u001b[0m\u001b[0;34m\u001b[0m\u001b[0m\n\u001b[0m\u001b[1;32m      7\u001b[0m \u001b[0;34m\u001b[0m\u001b[0m\n\u001b[1;32m      8\u001b[0m \u001b[0mprint\u001b[0m\u001b[0;34m(\u001b[0m\u001b[0mhay_descuento\u001b[0m\u001b[0;34m(\u001b[0m\u001b[0ma\u001b[0m\u001b[0;34m,\u001b[0m \u001b[0mb\u001b[0m\u001b[0;34m)\u001b[0m\u001b[0;34m)\u001b[0m\u001b[0;34m\u001b[0m\u001b[0;34m\u001b[0m\u001b[0m\n",
            "\u001b[0;31mNameError\u001b[0m: name 'total' is not defined"
          ]
        }
      ]
    },
    {
      "cell_type": "code",
      "source": [
        "def hay_descuento(edad1, edad2):\n",
        "    return 'False' if a + b <= 40 else 'True'\n",
        "\n",
        "a, b = 16, 17\n",
        "print(hay_descuento(a, b))"
      ],
      "metadata": {
        "outputId": "ad7bd8a1-f64e-4d84-e005-b1cdaa7b679e",
        "colab": {
          "base_uri": "https://localhost:8080/"
        },
        "id": "R2bBbAAcTP63"
      },
      "execution_count": 4,
      "outputs": [
        {
          "output_type": "stream",
          "name": "stdout",
          "text": [
            "False\n"
          ]
        }
      ]
    },
    {
      "cell_type": "markdown",
      "source": [
        "En un gimnasio hacen un descuento si se apuntan dos amigos y la suma de sus edades es menor o igual a 50 años.\n",
        "\n",
        "Indique cuál de los siguientes códigos muestra True o False en caso de que obtengan o no el descuento anunciado."
      ],
      "metadata": {
        "id": "oHwwGJvkXh2m"
      }
    },
    {
      "cell_type": "code",
      "source": [
        "edad_persona1 = edad_persona2 = 18\n",
        "\n",
        "def hay_descuento(edad_persona1, edad_persona2):\n",
        "    return edad_persona1 + edad_persona2 <= 50\n",
        "\n",
        "print(hay_descuento(edad_persona1, edad_persona2))"
      ],
      "metadata": {
        "colab": {
          "base_uri": "https://localhost:8080/"
        },
        "outputId": "7d91975a-4d2d-4c4d-ae5e-f6c717a8383a",
        "id": "aVImN8HYYVzZ"
      },
      "execution_count": 14,
      "outputs": [
        {
          "output_type": "stream",
          "name": "stdout",
          "text": [
            "True\n"
          ]
        }
      ]
    },
    {
      "cell_type": "code",
      "source": [
        "def hay_descuento(a, b):\n",
        "    if a + b <= 50:\n",
        "        return True\n",
        "\n",
        "edad_a = 18\n",
        "edad_b = 18\n",
        "print(hay_descuento(edad_a, edad_b))"
      ],
      "metadata": {
        "outputId": "e3a1da70-e8f7-406d-ee19-6a0cbd5097f5",
        "colab": {
          "base_uri": "https://localhost:8080/"
        },
        "id": "By2JedZBYVzt"
      },
      "execution_count": 15,
      "outputs": [
        {
          "output_type": "stream",
          "name": "stdout",
          "text": [
            "True\n"
          ]
        }
      ]
    },
    {
      "cell_type": "code",
      "source": [
        "edad1 = 18\n",
        "edad2 = 18\n",
        "\n",
        "def hay_descuento(a, b):\n",
        "    suma = edad1 + edad2\n",
        "    return total <= 50\n",
        "\n",
        "print(hay_descuento(a, b))"
      ],
      "metadata": {
        "outputId": "bc0ba79f-04c6-47f3-f000-c19e28b3d9ce",
        "colab": {
          "base_uri": "https://localhost:8080/",
          "height": 340
        },
        "id": "NA4scsDBYVzu"
      },
      "execution_count": null,
      "outputs": [
        {
          "output_type": "error",
          "ename": "NameError",
          "evalue": "name 'total' is not defined",
          "traceback": [
            "\u001b[0;31m---------------------------------------------------------------------------\u001b[0m",
            "\u001b[0;31mNameError\u001b[0m                                 Traceback (most recent call last)",
            "\u001b[0;32m<ipython-input-2-bd00e70f7e6e>\u001b[0m in \u001b[0;36m<cell line: 8>\u001b[0;34m()\u001b[0m\n\u001b[1;32m      6\u001b[0m     \u001b[0;32mreturn\u001b[0m \u001b[0mtotal\u001b[0m \u001b[0;34m<=\u001b[0m \u001b[0;36m40\u001b[0m\u001b[0;34m\u001b[0m\u001b[0;34m\u001b[0m\u001b[0m\n\u001b[1;32m      7\u001b[0m \u001b[0;34m\u001b[0m\u001b[0m\n\u001b[0;32m----> 8\u001b[0;31m \u001b[0mprint\u001b[0m\u001b[0;34m(\u001b[0m\u001b[0mhay_descuento\u001b[0m\u001b[0;34m(\u001b[0m\u001b[0ma\u001b[0m\u001b[0;34m,\u001b[0m \u001b[0mb\u001b[0m\u001b[0;34m)\u001b[0m\u001b[0;34m)\u001b[0m\u001b[0;34m\u001b[0m\u001b[0;34m\u001b[0m\u001b[0m\n\u001b[0m",
            "\u001b[0;32m<ipython-input-2-bd00e70f7e6e>\u001b[0m in \u001b[0;36mhay_descuento\u001b[0;34m(a, b)\u001b[0m\n\u001b[1;32m      4\u001b[0m \u001b[0;32mdef\u001b[0m \u001b[0mhay_descuento\u001b[0m\u001b[0;34m(\u001b[0m\u001b[0ma\u001b[0m\u001b[0;34m,\u001b[0m \u001b[0mb\u001b[0m\u001b[0;34m)\u001b[0m\u001b[0;34m:\u001b[0m\u001b[0;34m\u001b[0m\u001b[0;34m\u001b[0m\u001b[0m\n\u001b[1;32m      5\u001b[0m     \u001b[0msuma\u001b[0m \u001b[0;34m=\u001b[0m \u001b[0medad1\u001b[0m \u001b[0;34m+\u001b[0m \u001b[0medad2\u001b[0m\u001b[0;34m\u001b[0m\u001b[0;34m\u001b[0m\u001b[0m\n\u001b[0;32m----> 6\u001b[0;31m     \u001b[0;32mreturn\u001b[0m \u001b[0mtotal\u001b[0m \u001b[0;34m<=\u001b[0m \u001b[0;36m40\u001b[0m\u001b[0;34m\u001b[0m\u001b[0;34m\u001b[0m\u001b[0m\n\u001b[0m\u001b[1;32m      7\u001b[0m \u001b[0;34m\u001b[0m\u001b[0m\n\u001b[1;32m      8\u001b[0m \u001b[0mprint\u001b[0m\u001b[0;34m(\u001b[0m\u001b[0mhay_descuento\u001b[0m\u001b[0;34m(\u001b[0m\u001b[0ma\u001b[0m\u001b[0;34m,\u001b[0m \u001b[0mb\u001b[0m\u001b[0;34m)\u001b[0m\u001b[0;34m)\u001b[0m\u001b[0;34m\u001b[0m\u001b[0;34m\u001b[0m\u001b[0m\n",
            "\u001b[0;31mNameError\u001b[0m: name 'total' is not defined"
          ]
        }
      ]
    },
    {
      "cell_type": "code",
      "source": [
        "def hay_descuento(edad1, edad2):\n",
        "    return 'False' if a + b <= 40 else 'True'\n",
        "\n",
        "a, b = 18, 18\n",
        "print(hay_descuento(a, b))"
      ],
      "metadata": {
        "outputId": "ad7bd8a1-f64e-4d84-e005-b1cdaa7b679e",
        "colab": {
          "base_uri": "https://localhost:8080/"
        },
        "id": "m0DMiWSoYVzv"
      },
      "execution_count": null,
      "outputs": [
        {
          "output_type": "stream",
          "name": "stdout",
          "text": [
            "False\n"
          ]
        }
      ]
    },
    {
      "cell_type": "markdown",
      "source": [
        "En una lista de números enteros, los puede haber positivos, negativos y también puede estar el cero. Algunos pueden incluso repetirse.\n",
        "\n",
        "Deseamos localizar el mayor de todos ellos, y las listas nunca están vacías.\n",
        "\n",
        "Por ejemplo, en la lista [5, -2, 0, 9, 7, -4, 7] el mayor es 9.\n",
        "\n",
        "Indique cuál de los siguientes códigos es capaz de identificar el mayor de todos e imprimirlo."
      ],
      "metadata": {
        "id": "pMB6o3RFcQ-y"
      }
    },
    {
      "cell_type": "code",
      "source": [
        "lista = [5, -2, 0, 9, 7, -4, 7]\n",
        "\n",
        "def el_mayor(lista):\n",
        "    max = lista[0]\n",
        "    for num in lista:\n",
        "        if num > max:\n",
        "            max = num\n",
        "    return max\n",
        "\n",
        "print(f\"El mayor es {el_mayor(lista)}.\")"
      ],
      "metadata": {
        "id": "G1V-Rfvuc31Q",
        "outputId": "21c3d87a-b7c6-467b-f396-4322a353194c",
        "colab": {
          "base_uri": "https://localhost:8080/"
        }
      },
      "execution_count": 17,
      "outputs": [
        {
          "output_type": "stream",
          "name": "stdout",
          "text": [
            "El mayor es 9.\n"
          ]
        }
      ]
    },
    {
      "cell_type": "code",
      "source": [
        "def el_mayor(lista):\n",
        "    return max(lista)\n",
        "\n",
        "lista = [5, -2, 0, 9, 7, -4, 7]\n",
        "\n",
        "print(f\"El mayor es {el_mayor(max(lista))}.\")"
      ],
      "metadata": {
        "id": "fJh6G0uUdejK",
        "outputId": "c3079249-9a82-4370-f39b-de9acfd4f14f",
        "colab": {
          "base_uri": "https://localhost:8080/",
          "height": 340
        }
      },
      "execution_count": 18,
      "outputs": [
        {
          "output_type": "error",
          "ename": "TypeError",
          "evalue": "'int' object is not iterable",
          "traceback": [
            "\u001b[0;31m---------------------------------------------------------------------------\u001b[0m",
            "\u001b[0;31mTypeError\u001b[0m                                 Traceback (most recent call last)",
            "\u001b[0;32m<ipython-input-18-79a0152b67a4>\u001b[0m in \u001b[0;36m<cell line: 6>\u001b[0;34m()\u001b[0m\n\u001b[1;32m      4\u001b[0m \u001b[0mlista\u001b[0m \u001b[0;34m=\u001b[0m \u001b[0;34m[\u001b[0m\u001b[0;36m5\u001b[0m\u001b[0;34m,\u001b[0m \u001b[0;34m-\u001b[0m\u001b[0;36m2\u001b[0m\u001b[0;34m,\u001b[0m \u001b[0;36m0\u001b[0m\u001b[0;34m,\u001b[0m \u001b[0;36m9\u001b[0m\u001b[0;34m,\u001b[0m \u001b[0;36m7\u001b[0m\u001b[0;34m,\u001b[0m \u001b[0;34m-\u001b[0m\u001b[0;36m4\u001b[0m\u001b[0;34m,\u001b[0m \u001b[0;36m7\u001b[0m\u001b[0;34m]\u001b[0m\u001b[0;34m\u001b[0m\u001b[0;34m\u001b[0m\u001b[0m\n\u001b[1;32m      5\u001b[0m \u001b[0;34m\u001b[0m\u001b[0m\n\u001b[0;32m----> 6\u001b[0;31m \u001b[0mprint\u001b[0m\u001b[0;34m(\u001b[0m\u001b[0;34mf\"El mayor es {el_mayor(max(lista))}.\"\u001b[0m\u001b[0;34m)\u001b[0m\u001b[0;34m\u001b[0m\u001b[0;34m\u001b[0m\u001b[0m\n\u001b[0m",
            "\u001b[0;32m<ipython-input-18-79a0152b67a4>\u001b[0m in \u001b[0;36mel_mayor\u001b[0;34m(lista)\u001b[0m\n\u001b[1;32m      1\u001b[0m \u001b[0;32mdef\u001b[0m \u001b[0mel_mayor\u001b[0m\u001b[0;34m(\u001b[0m\u001b[0mlista\u001b[0m\u001b[0;34m)\u001b[0m\u001b[0;34m:\u001b[0m\u001b[0;34m\u001b[0m\u001b[0;34m\u001b[0m\u001b[0m\n\u001b[0;32m----> 2\u001b[0;31m     \u001b[0;32mreturn\u001b[0m \u001b[0mmax\u001b[0m\u001b[0;34m(\u001b[0m\u001b[0mlista\u001b[0m\u001b[0;34m)\u001b[0m\u001b[0;34m\u001b[0m\u001b[0;34m\u001b[0m\u001b[0m\n\u001b[0m\u001b[1;32m      3\u001b[0m \u001b[0;34m\u001b[0m\u001b[0m\n\u001b[1;32m      4\u001b[0m \u001b[0mlista\u001b[0m \u001b[0;34m=\u001b[0m \u001b[0;34m[\u001b[0m\u001b[0;36m5\u001b[0m\u001b[0;34m,\u001b[0m \u001b[0;34m-\u001b[0m\u001b[0;36m2\u001b[0m\u001b[0;34m,\u001b[0m \u001b[0;36m0\u001b[0m\u001b[0;34m,\u001b[0m \u001b[0;36m9\u001b[0m\u001b[0;34m,\u001b[0m \u001b[0;36m7\u001b[0m\u001b[0;34m,\u001b[0m \u001b[0;34m-\u001b[0m\u001b[0;36m4\u001b[0m\u001b[0;34m,\u001b[0m \u001b[0;36m7\u001b[0m\u001b[0;34m]\u001b[0m\u001b[0;34m\u001b[0m\u001b[0;34m\u001b[0m\u001b[0m\n\u001b[1;32m      5\u001b[0m \u001b[0;34m\u001b[0m\u001b[0m\n",
            "\u001b[0;31mTypeError\u001b[0m: 'int' object is not iterable"
          ]
        }
      ]
    },
    {
      "cell_type": "code",
      "source": [
        "def el_mayor(lista):\n",
        "    return sort(lista)[-1]\n",
        "\n",
        "lista = [5, -2, 0, 9, 7, -4, 7]\n",
        "\n",
        "print(f\"El mayor es {el_mayor(lista)}.\")"
      ],
      "metadata": {
        "id": "lQgFER-SeUdp",
        "outputId": "4bb3cea4-b3d9-4013-c021-909dee7a7c5e",
        "colab": {
          "base_uri": "https://localhost:8080/",
          "height": 340
        }
      },
      "execution_count": 21,
      "outputs": [
        {
          "output_type": "error",
          "ename": "NameError",
          "evalue": "name 'sort' is not defined",
          "traceback": [
            "\u001b[0;31m---------------------------------------------------------------------------\u001b[0m",
            "\u001b[0;31mNameError\u001b[0m                                 Traceback (most recent call last)",
            "\u001b[0;32m<ipython-input-21-be1b4957637e>\u001b[0m in \u001b[0;36m<cell line: 6>\u001b[0;34m()\u001b[0m\n\u001b[1;32m      4\u001b[0m \u001b[0mlista\u001b[0m \u001b[0;34m=\u001b[0m \u001b[0;34m[\u001b[0m\u001b[0;36m5\u001b[0m\u001b[0;34m,\u001b[0m \u001b[0;34m-\u001b[0m\u001b[0;36m2\u001b[0m\u001b[0;34m,\u001b[0m \u001b[0;36m0\u001b[0m\u001b[0;34m,\u001b[0m \u001b[0;36m9\u001b[0m\u001b[0;34m,\u001b[0m \u001b[0;36m7\u001b[0m\u001b[0;34m,\u001b[0m \u001b[0;34m-\u001b[0m\u001b[0;36m4\u001b[0m\u001b[0;34m,\u001b[0m \u001b[0;36m7\u001b[0m\u001b[0;34m]\u001b[0m\u001b[0;34m\u001b[0m\u001b[0;34m\u001b[0m\u001b[0m\n\u001b[1;32m      5\u001b[0m \u001b[0;34m\u001b[0m\u001b[0m\n\u001b[0;32m----> 6\u001b[0;31m \u001b[0mprint\u001b[0m\u001b[0;34m(\u001b[0m\u001b[0;34mf\"El mayor es {el_mayor(lista)}.\"\u001b[0m\u001b[0;34m)\u001b[0m\u001b[0;34m\u001b[0m\u001b[0;34m\u001b[0m\u001b[0m\n\u001b[0m",
            "\u001b[0;32m<ipython-input-21-be1b4957637e>\u001b[0m in \u001b[0;36mel_mayor\u001b[0;34m(lista)\u001b[0m\n\u001b[1;32m      1\u001b[0m \u001b[0;32mdef\u001b[0m \u001b[0mel_mayor\u001b[0m\u001b[0;34m(\u001b[0m\u001b[0mlista\u001b[0m\u001b[0;34m)\u001b[0m\u001b[0;34m:\u001b[0m\u001b[0;34m\u001b[0m\u001b[0;34m\u001b[0m\u001b[0m\n\u001b[0;32m----> 2\u001b[0;31m     \u001b[0;32mreturn\u001b[0m \u001b[0msort\u001b[0m\u001b[0;34m(\u001b[0m\u001b[0mlista\u001b[0m\u001b[0;34m)\u001b[0m\u001b[0;34m[\u001b[0m\u001b[0;34m-\u001b[0m\u001b[0;36m1\u001b[0m\u001b[0;34m]\u001b[0m\u001b[0;34m\u001b[0m\u001b[0;34m\u001b[0m\u001b[0m\n\u001b[0m\u001b[1;32m      3\u001b[0m \u001b[0;34m\u001b[0m\u001b[0m\n\u001b[1;32m      4\u001b[0m \u001b[0mlista\u001b[0m \u001b[0;34m=\u001b[0m \u001b[0;34m[\u001b[0m\u001b[0;36m5\u001b[0m\u001b[0;34m,\u001b[0m \u001b[0;34m-\u001b[0m\u001b[0;36m2\u001b[0m\u001b[0;34m,\u001b[0m \u001b[0;36m0\u001b[0m\u001b[0;34m,\u001b[0m \u001b[0;36m9\u001b[0m\u001b[0;34m,\u001b[0m \u001b[0;36m7\u001b[0m\u001b[0;34m,\u001b[0m \u001b[0;34m-\u001b[0m\u001b[0;36m4\u001b[0m\u001b[0;34m,\u001b[0m \u001b[0;36m7\u001b[0m\u001b[0;34m]\u001b[0m\u001b[0;34m\u001b[0m\u001b[0;34m\u001b[0m\u001b[0m\n\u001b[1;32m      5\u001b[0m \u001b[0;34m\u001b[0m\u001b[0m\n",
            "\u001b[0;31mNameError\u001b[0m: name 'sort' is not defined"
          ]
        }
      ]
    },
    {
      "cell_type": "code",
      "source": [
        "import numpy as np\n",
        "\n",
        "def el_mayor(lista):\n",
        "    return amax(lista)\n",
        "\n",
        "lista = [5, -2, 0, 9, 7, -4, 7]\n",
        "\n",
        "print(f\"El mayor es {el_mayor(lista)}.\")"
      ],
      "metadata": {
        "id": "7xAyeNz-elZ0",
        "outputId": "db4b3f97-260a-4b13-d190-c7b7c6be9889",
        "colab": {
          "base_uri": "https://localhost:8080/",
          "height": 340
        }
      },
      "execution_count": 22,
      "outputs": [
        {
          "output_type": "error",
          "ename": "NameError",
          "evalue": "name 'amax' is not defined",
          "traceback": [
            "\u001b[0;31m---------------------------------------------------------------------------\u001b[0m",
            "\u001b[0;31mNameError\u001b[0m                                 Traceback (most recent call last)",
            "\u001b[0;32m<ipython-input-22-f3a4474832af>\u001b[0m in \u001b[0;36m<cell line: 8>\u001b[0;34m()\u001b[0m\n\u001b[1;32m      6\u001b[0m \u001b[0mlista\u001b[0m \u001b[0;34m=\u001b[0m \u001b[0;34m[\u001b[0m\u001b[0;36m5\u001b[0m\u001b[0;34m,\u001b[0m \u001b[0;34m-\u001b[0m\u001b[0;36m2\u001b[0m\u001b[0;34m,\u001b[0m \u001b[0;36m0\u001b[0m\u001b[0;34m,\u001b[0m \u001b[0;36m9\u001b[0m\u001b[0;34m,\u001b[0m \u001b[0;36m7\u001b[0m\u001b[0;34m,\u001b[0m \u001b[0;34m-\u001b[0m\u001b[0;36m4\u001b[0m\u001b[0;34m,\u001b[0m \u001b[0;36m7\u001b[0m\u001b[0;34m]\u001b[0m\u001b[0;34m\u001b[0m\u001b[0;34m\u001b[0m\u001b[0m\n\u001b[1;32m      7\u001b[0m \u001b[0;34m\u001b[0m\u001b[0m\n\u001b[0;32m----> 8\u001b[0;31m \u001b[0mprint\u001b[0m\u001b[0;34m(\u001b[0m\u001b[0;34mf\"El mayor es {el_mayor(lista)}.\"\u001b[0m\u001b[0;34m)\u001b[0m\u001b[0;34m\u001b[0m\u001b[0;34m\u001b[0m\u001b[0m\n\u001b[0m",
            "\u001b[0;32m<ipython-input-22-f3a4474832af>\u001b[0m in \u001b[0;36mel_mayor\u001b[0;34m(lista)\u001b[0m\n\u001b[1;32m      2\u001b[0m \u001b[0;34m\u001b[0m\u001b[0m\n\u001b[1;32m      3\u001b[0m \u001b[0;32mdef\u001b[0m \u001b[0mel_mayor\u001b[0m\u001b[0;34m(\u001b[0m\u001b[0mlista\u001b[0m\u001b[0;34m)\u001b[0m\u001b[0;34m:\u001b[0m\u001b[0;34m\u001b[0m\u001b[0;34m\u001b[0m\u001b[0m\n\u001b[0;32m----> 4\u001b[0;31m     \u001b[0;32mreturn\u001b[0m \u001b[0mamax\u001b[0m\u001b[0;34m(\u001b[0m\u001b[0mlista\u001b[0m\u001b[0;34m)\u001b[0m\u001b[0;34m\u001b[0m\u001b[0;34m\u001b[0m\u001b[0m\n\u001b[0m\u001b[1;32m      5\u001b[0m \u001b[0;34m\u001b[0m\u001b[0m\n\u001b[1;32m      6\u001b[0m \u001b[0mlista\u001b[0m \u001b[0;34m=\u001b[0m \u001b[0;34m[\u001b[0m\u001b[0;36m5\u001b[0m\u001b[0;34m,\u001b[0m \u001b[0;34m-\u001b[0m\u001b[0;36m2\u001b[0m\u001b[0;34m,\u001b[0m \u001b[0;36m0\u001b[0m\u001b[0;34m,\u001b[0m \u001b[0;36m9\u001b[0m\u001b[0;34m,\u001b[0m \u001b[0;36m7\u001b[0m\u001b[0;34m,\u001b[0m \u001b[0;34m-\u001b[0m\u001b[0;36m4\u001b[0m\u001b[0;34m,\u001b[0m \u001b[0;36m7\u001b[0m\u001b[0;34m]\u001b[0m\u001b[0;34m\u001b[0m\u001b[0;34m\u001b[0m\u001b[0m\n",
            "\u001b[0;31mNameError\u001b[0m: name 'amax' is not defined"
          ]
        }
      ]
    }
  ]
}