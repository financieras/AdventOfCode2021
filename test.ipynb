{
  "nbformat": 4,
  "nbformat_minor": 0,
  "metadata": {
    "colab": {
      "provenance": [],
      "authorship_tag": "ABX9TyMrRM3/InYgHP4XPl3FGEol",
      "include_colab_link": true
    },
    "kernelspec": {
      "name": "python3",
      "display_name": "Python 3"
    },
    "language_info": {
      "name": "python"
    }
  },
  "cells": [
    {
      "cell_type": "markdown",
      "metadata": {
        "id": "view-in-github",
        "colab_type": "text"
      },
      "source": [
        "<a href=\"https://colab.research.google.com/github/financieras/AdventOfCode2021/blob/master/test.ipynb\" target=\"_parent\"><img src=\"https://colab.research.google.com/assets/colab-badge.svg\" alt=\"Open In Colab\"/></a>"
      ]
    },
    {
      "cell_type": "markdown",
      "source": [
        "<pre><code></code></pre>"
      ],
      "metadata": {
        "id": "ELsncyeog963"
      }
    },
    {
      "cell_type": "markdown",
      "source": [
        "En un juego de mesa las victorias dan 3 puntos, los empates dan 1 punto y las derrotas dan 0 puntos.\n",
        "\n",
        "Hemos creado una función que recibe los parámetros (victorias, empates, derrotas) en ese orden, para retornar los puntos totales obtenidos por un jugador.\n",
        "\n",
        "Como las derrotas no dan puntos, en algunas ocasiones no nos dan ese último dato, por lo que solo nos dan (victorias, empates).\n",
        "\n",
        "Indique cuál de los siguientes códigos calcula correctamente los puntos totales obtenidos por el jugador."
      ],
      "metadata": {
        "id": "k5FbZGmxdOV5"
      }
    },
    {
      "cell_type": "code",
      "execution_count": 6,
      "metadata": {
        "colab": {
          "base_uri": "https://localhost:8080/"
        },
        "outputId": "95895bdf-1a0e-4898-9b43-84bc31f179e9",
        "id": "DxkLjNZAefZD"
      },
      "outputs": [
        {
          "output_type": "stream",
          "name": "stdout",
          "text": [
            "34\n",
            "39\n"
          ]
        }
      ],
      "source": [
        "def puntuacion(victorias, empates, derrotas=None):\n",
        "    return victorias * 3 + empates\n",
        "\n",
        "print(puntuacion(10, 4, 2))\n",
        "print(puntuacion(12, 3))"
      ]
    },
    {
      "cell_type": "code",
      "execution_count": 8,
      "metadata": {
        "colab": {
          "base_uri": "https://localhost:8080/",
          "height": 143
        },
        "id": "f3UP0_1IdNLP",
        "outputId": "d8e10fff-439a-476c-d7c5-94fbf0713d21"
      },
      "outputs": [
        {
          "output_type": "error",
          "ename": "SyntaxError",
          "evalue": "invalid syntax (<ipython-input-8-042b45365f45>, line 1)",
          "traceback": [
            "\u001b[0;36m  File \u001b[0;32m\"<ipython-input-8-042b45365f45>\"\u001b[0;36m, line \u001b[0;32m1\u001b[0m\n\u001b[0;31m    def puntuacion(victorias, empates, derrotas==0):\u001b[0m\n\u001b[0m                                               ^\u001b[0m\n\u001b[0;31mSyntaxError\u001b[0m\u001b[0;31m:\u001b[0m invalid syntax\n"
          ]
        }
      ],
      "source": [
        "def puntuacion(victorias, empates, derrotas==0):\n",
        "    return victorias * 3 + empates * 1 + derrotas\n",
        "\n",
        "print(puntuacion(10, 4, 2))\n",
        "print(puntuacion(12, 3))"
      ]
    },
    {
      "cell_type": "code",
      "execution_count": 9,
      "metadata": {
        "colab": {
          "base_uri": "https://localhost:8080/",
          "height": 233
        },
        "outputId": "8ed290c0-3272-4828-8cfc-ce2a02fa2ebc",
        "id": "qyMi2PPriOlv"
      },
      "outputs": [
        {
          "output_type": "error",
          "ename": "TypeError",
          "evalue": "puntuacion() takes 2 positional arguments but 3 were given",
          "traceback": [
            "\u001b[0;31m---------------------------------------------------------------------------\u001b[0m",
            "\u001b[0;31mTypeError\u001b[0m                                 Traceback (most recent call last)",
            "\u001b[0;32m<ipython-input-9-45e50798e5bb>\u001b[0m in \u001b[0;36m<cell line: 4>\u001b[0;34m()\u001b[0m\n\u001b[1;32m      2\u001b[0m     \u001b[0;32mreturn\u001b[0m \u001b[0mvictorias\u001b[0m \u001b[0;34m*\u001b[0m \u001b[0;36m3\u001b[0m \u001b[0;34m+\u001b[0m \u001b[0mempates\u001b[0m\u001b[0;34m\u001b[0m\u001b[0;34m\u001b[0m\u001b[0m\n\u001b[1;32m      3\u001b[0m \u001b[0;34m\u001b[0m\u001b[0m\n\u001b[0;32m----> 4\u001b[0;31m \u001b[0mprint\u001b[0m\u001b[0;34m(\u001b[0m\u001b[0mpuntuacion\u001b[0m\u001b[0;34m(\u001b[0m\u001b[0;36m10\u001b[0m\u001b[0;34m,\u001b[0m \u001b[0;36m4\u001b[0m\u001b[0;34m,\u001b[0m \u001b[0;36m2\u001b[0m\u001b[0;34m)\u001b[0m\u001b[0;34m)\u001b[0m\u001b[0;34m\u001b[0m\u001b[0;34m\u001b[0m\u001b[0m\n\u001b[0m\u001b[1;32m      5\u001b[0m \u001b[0mprint\u001b[0m\u001b[0;34m(\u001b[0m\u001b[0mpuntuacion\u001b[0m\u001b[0;34m(\u001b[0m\u001b[0;36m12\u001b[0m\u001b[0;34m,\u001b[0m \u001b[0;36m3\u001b[0m\u001b[0;34m)\u001b[0m\u001b[0;34m)\u001b[0m\u001b[0;34m\u001b[0m\u001b[0;34m\u001b[0m\u001b[0m\n",
            "\u001b[0;31mTypeError\u001b[0m: puntuacion() takes 2 positional arguments but 3 were given"
          ]
        }
      ],
      "source": [
        "def puntuacion(victorias, empates):\n",
        "    return victorias * 3 + empates\n",
        "\n",
        "print(puntuacion(10, 4, 2))\n",
        "print(puntuacion(12, 3))"
      ]
    },
    {
      "cell_type": "code",
      "execution_count": 4,
      "metadata": {
        "colab": {
          "base_uri": "https://localhost:8080/",
          "height": 143
        },
        "outputId": "c4534dfc-642d-4deb-f4eb-039e50a1356c",
        "id": "TDGwalmAefem"
      },
      "outputs": [
        {
          "output_type": "error",
          "ename": "SyntaxError",
          "evalue": "invalid syntax. Maybe you meant '==' or ':=' instead of '='? (<ipython-input-4-69b3060a6525>, line 2)",
          "traceback": [
            "\u001b[0;36m  File \u001b[0;32m\"<ipython-input-4-69b3060a6525>\"\u001b[0;36m, line \u001b[0;32m2\u001b[0m\n\u001b[0;31m    if derrotas = None:\u001b[0m\n\u001b[0m       ^\u001b[0m\n\u001b[0;31mSyntaxError\u001b[0m\u001b[0;31m:\u001b[0m invalid syntax. Maybe you meant '==' or ':=' instead of '='?\n"
          ]
        }
      ],
      "source": [
        "def puntuacion(victorias, empates, derrotas=None):\n",
        "    if derrotas = None:\n",
        "        derrotas = 0\n",
        "    return victorias * 3 + empates * 1 + derrotas * 0\n",
        "\n",
        "print(puntuacion(10, 4, 2))\n",
        "print(puntuacion(12, 3))"
      ]
    },
    {
      "cell_type": "code",
      "execution_count": 5,
      "metadata": {
        "colab": {
          "base_uri": "https://localhost:8080/",
          "height": 233
        },
        "outputId": "301e150a-46e1-43af-e6b7-728fc8d38270",
        "id": "tIEREME-efka"
      },
      "outputs": [
        {
          "output_type": "stream",
          "name": "stdout",
          "text": [
            "34\n"
          ]
        },
        {
          "output_type": "error",
          "ename": "TypeError",
          "evalue": "puntuacion() missing 1 required positional argument: 'derrotas'",
          "traceback": [
            "\u001b[0;31m---------------------------------------------------------------------------\u001b[0m",
            "\u001b[0;31mTypeError\u001b[0m                                 Traceback (most recent call last)",
            "\u001b[0;32m<ipython-input-5-fb2abad52ece>\u001b[0m in \u001b[0;36m<cell line: 5>\u001b[0;34m()\u001b[0m\n\u001b[1;32m      3\u001b[0m \u001b[0;34m\u001b[0m\u001b[0m\n\u001b[1;32m      4\u001b[0m \u001b[0mprint\u001b[0m\u001b[0;34m(\u001b[0m\u001b[0mpuntuacion\u001b[0m\u001b[0;34m(\u001b[0m\u001b[0;36m10\u001b[0m\u001b[0;34m,\u001b[0m \u001b[0;36m4\u001b[0m\u001b[0;34m,\u001b[0m \u001b[0;36m2\u001b[0m\u001b[0;34m)\u001b[0m\u001b[0;34m)\u001b[0m\u001b[0;34m\u001b[0m\u001b[0;34m\u001b[0m\u001b[0m\n\u001b[0;32m----> 5\u001b[0;31m \u001b[0mprint\u001b[0m\u001b[0;34m(\u001b[0m\u001b[0mpuntuacion\u001b[0m\u001b[0;34m(\u001b[0m\u001b[0;36m12\u001b[0m\u001b[0;34m,\u001b[0m \u001b[0;36m3\u001b[0m\u001b[0;34m)\u001b[0m\u001b[0;34m)\u001b[0m\u001b[0;34m\u001b[0m\u001b[0;34m\u001b[0m\u001b[0m\n\u001b[0m",
            "\u001b[0;31mTypeError\u001b[0m: puntuacion() missing 1 required positional argument: 'derrotas'"
          ]
        }
      ],
      "source": [
        "def puntuacion(victorias, empates, derrotas):\n",
        "    return victorias * 3 + empates * 1 + derrotas * 0\n",
        "\n",
        "print(puntuacion(10, 4, 2))\n",
        "print(puntuacion(12, 3))"
      ]
    },
    {
      "cell_type": "markdown",
      "source": [
        "  Deseamos elevar un número entero positivo n a un exponente entero positivo m."
      ],
      "metadata": {
        "id": "T1a1sTrljFyl"
      }
    },
    {
      "cell_type": "code",
      "source": [
        "n = 2\n",
        "m = 4\n",
        "\n",
        "def elevar(n, m):\n",
        "    return n ** m\n",
        "\n",
        "print(f\"Al elevar {n} a {m} obtenemos {elevar(n, m)}.\")\n",
        "\n",
        "a = b = 3\n",
        "\n",
        "print(f\"Al elevar {a} a {b} obtenemos {elevar(a, b)}.\")"
      ],
      "metadata": {
        "colab": {
          "base_uri": "https://localhost:8080/"
        },
        "id": "VuEJIFJ2jTdk",
        "outputId": "3ce7143a-5fbf-4038-d297-44e5c28b552d"
      },
      "execution_count": 14,
      "outputs": [
        {
          "output_type": "stream",
          "name": "stdout",
          "text": [
            "Al elevar 2 a 4 obtenemos 16.\n",
            "Al elevar 3 a 3 obtenemos 27.\n"
          ]
        }
      ]
    },
    {
      "cell_type": "code",
      "source": [
        "def elevar(n, m):\n",
        "    return n ** m\n",
        "\n",
        "n, m = 2, 4\n",
        "print(f\"Al elevar {n} a {m} obtenemos {elevar(n, m)}.\")\n",
        "\n",
        "a, b = 3\n",
        "print(f\"Al elevar {a} a {b} obtenemos {elevar(a, b)}.\")"
      ],
      "metadata": {
        "colab": {
          "base_uri": "https://localhost:8080/",
          "height": 251
        },
        "outputId": "81f756d3-b55f-4acf-92bb-38f0dfb39e3c",
        "id": "Yvq4Go1tkqdT"
      },
      "execution_count": 15,
      "outputs": [
        {
          "output_type": "stream",
          "name": "stdout",
          "text": [
            "Al elevar 2 a 4 obtenemos 16.\n"
          ]
        },
        {
          "output_type": "error",
          "ename": "TypeError",
          "evalue": "cannot unpack non-iterable int object",
          "traceback": [
            "\u001b[0;31m---------------------------------------------------------------------------\u001b[0m",
            "\u001b[0;31mTypeError\u001b[0m                                 Traceback (most recent call last)",
            "\u001b[0;32m<ipython-input-15-90c96924e634>\u001b[0m in \u001b[0;36m<cell line: 7>\u001b[0;34m()\u001b[0m\n\u001b[1;32m      5\u001b[0m \u001b[0mprint\u001b[0m\u001b[0;34m(\u001b[0m\u001b[0;34mf\"Al elevar {n} a {m} obtenemos {elevar(n, m)}.\"\u001b[0m\u001b[0;34m)\u001b[0m\u001b[0;34m\u001b[0m\u001b[0;34m\u001b[0m\u001b[0m\n\u001b[1;32m      6\u001b[0m \u001b[0;34m\u001b[0m\u001b[0m\n\u001b[0;32m----> 7\u001b[0;31m \u001b[0ma\u001b[0m\u001b[0;34m,\u001b[0m \u001b[0mb\u001b[0m \u001b[0;34m=\u001b[0m \u001b[0;36m3\u001b[0m\u001b[0;34m\u001b[0m\u001b[0;34m\u001b[0m\u001b[0m\n\u001b[0m\u001b[1;32m      8\u001b[0m \u001b[0mprint\u001b[0m\u001b[0;34m(\u001b[0m\u001b[0;34mf\"Al elevar {a} a {b} obtenemos {elevar(a, b)}.\"\u001b[0m\u001b[0;34m)\u001b[0m\u001b[0;34m\u001b[0m\u001b[0;34m\u001b[0m\u001b[0m\n",
            "\u001b[0;31mTypeError\u001b[0m: cannot unpack non-iterable int object"
          ]
        }
      ]
    },
    {
      "cell_type": "code",
      "source": [
        "def elevar(n, m):\n",
        "    producto = 1\n",
        "    for i in range(m):\n",
        "        producto *= i\n",
        "    return producto\n",
        "\n",
        "n, m = 2, 4\n",
        "print(f\"Al elevar {n} a {m} obtenemos {elevar(n, m)}.\")\n",
        "\n",
        "a, b = 3, 3\n",
        "print(f\"Al elevar {a} a {b} obtenemos {elevar(a, b)}.\")"
      ],
      "metadata": {
        "colab": {
          "base_uri": "https://localhost:8080/"
        },
        "outputId": "5b6cf4f0-e0ee-4d43-c530-0dbb9467e7c7",
        "id": "6r-MGFnEkqht"
      },
      "execution_count": 20,
      "outputs": [
        {
          "output_type": "stream",
          "name": "stdout",
          "text": [
            "Al elevar 2 a 4 obtenemos 0.\n",
            "Al elevar 3 a 3 obtenemos 0.\n"
          ]
        }
      ]
    },
    {
      "cell_type": "code",
      "source": [
        "def elevar(n, m):\n",
        "    producto = 1\n",
        "    for _i in range(m):\n",
        "        producto *= n\n",
        "    return producto\n",
        "\n",
        "print(f\"Al elevar {2} a {4} obtenemos {elevar(2, 4)}.\")\n",
        "\n",
        "a == 3\n",
        "print(f\"Al elevar {a} a {a} obtenemos {elevar(a, a)}.\")"
      ],
      "metadata": {
        "colab": {
          "base_uri": "https://localhost:8080/"
        },
        "outputId": "dfdbda00-65a0-4f66-db98-1de8246129bd",
        "id": "LNFxdcRskqnD"
      },
      "execution_count": 22,
      "outputs": [
        {
          "output_type": "stream",
          "name": "stdout",
          "text": [
            "Al elevar 2 a 4 obtenemos 16.\n",
            "Al elevar 3 a 3 obtenemos 27.\n"
          ]
        }
      ]
    }
  ]
}