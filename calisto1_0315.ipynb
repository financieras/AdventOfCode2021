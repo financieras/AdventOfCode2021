{
  "nbformat": 4,
  "nbformat_minor": 0,
  "metadata": {
    "colab": {
      "name": "calisto1_0315.ipynb",
      "provenance": [],
      "authorship_tag": "ABX9TyNxGOLNKVIT/mzIfXKDhTm2",
      "include_colab_link": true
    },
    "kernelspec": {
      "name": "python3",
      "display_name": "Python 3"
    },
    "language_info": {
      "name": "python"
    }
  },
  "cells": [
    {
      "cell_type": "markdown",
      "metadata": {
        "id": "view-in-github",
        "colab_type": "text"
      },
      "source": [
        "<a href=\"https://colab.research.google.com/github/financieras/AdventOfCode2021/blob/master/calisto1_0315.ipynb\" target=\"_parent\"><img src=\"https://colab.research.google.com/assets/colab-badge.svg\" alt=\"Open In Colab\"/></a>"
      ]
    },
    {
      "cell_type": "markdown",
      "source": [
        "# Operadores ternarios\n",
        "Son otra forma de codificar los condicionales ```if```...```else```"
      ],
      "metadata": {
        "id": "UDvp1-iBuciD"
      }
    },
    {
      "cell_type": "code",
      "execution_count": 1,
      "metadata": {
        "colab": {
          "base_uri": "https://localhost:8080/"
        },
        "id": "T6b-dAtXtsi-",
        "outputId": "ecd4b81b-8320-4794-c4d1-51bb3a4aada0"
      },
      "outputs": [
        {
          "output_type": "stream",
          "name": "stdout",
          "text": [
            "es impar\n"
          ]
        }
      ],
      "source": [
        "# Un condicional típico\n",
        "\n",
        "x = 5\n",
        "\n",
        "if x%2==0:\n",
        "    print(\"es par\")\n",
        "else:\n",
        "    print(\"es impar\")"
      ]
    },
    {
      "cell_type": "code",
      "source": [
        "# Usando un operador ternario\n",
        "\n",
        "x = 5\n",
        "\n",
        "print('es par') if x%2==0 else print('es impar')"
      ],
      "metadata": {
        "colab": {
          "base_uri": "https://localhost:8080/"
        },
        "id": "y8SIQGBSvELN",
        "outputId": "5b164281-4832-4533-a0fc-9c02f49f6c9a"
      },
      "execution_count": 2,
      "outputs": [
        {
          "output_type": "stream",
          "name": "stdout",
          "text": [
            "es impar\n"
          ]
        }
      ]
    },
    {
      "cell_type": "markdown",
      "source": [
        "## Sintaxis\n",
        "resultado_si_True ```if``` condición ```else``` resultado_si_False\n",
        "\n",
        "Se puede analizar una condición en una sola línea de código."
      ],
      "metadata": {
        "id": "imwHRa2Gvzve"
      }
    },
    {
      "cell_type": "markdown",
      "source": [
        "### Ejemplo sin print"
      ],
      "metadata": {
        "id": "45vDPQXZxBU5"
      }
    },
    {
      "cell_type": "code",
      "source": [
        "encendido = True\n",
        "estado = \"el led luce\" if encendido else \"el led está apagado\"\n",
        "estado"
      ],
      "metadata": {
        "colab": {
          "base_uri": "https://localhost:8080/",
          "height": 35
        },
        "id": "iUD1j653xEtA",
        "outputId": "e0efcfaa-c40f-4494-9931-24d91c1f1203"
      },
      "execution_count": null,
      "outputs": [
        {
          "output_type": "execute_result",
          "data": {
            "text/plain": [
              "'el led luce'"
            ],
            "application/vnd.google.colaboratory.intrinsic+json": {
              "type": "string"
            }
          },
          "metadata": {},
          "execution_count": 17
        }
      ]
    },
    {
      "cell_type": "markdown",
      "source": [
        "## Asignación a una variable"
      ],
      "metadata": {
        "id": "9ZBbah6G1J1V"
      }
    },
    {
      "cell_type": "code",
      "source": [
        "edad = 20\n",
        "\n",
        "mayor = 'Si' if edad >= 18 else 'No'\n",
        "\n",
        "print(f\"{mayor} es mayor de edad\")"
      ],
      "metadata": {
        "colab": {
          "base_uri": "https://localhost:8080/"
        },
        "id": "bDtoPmxX1OEj",
        "outputId": "804d37e3-ea3d-4596-d7c6-25fdcf770db2"
      },
      "execution_count": null,
      "outputs": [
        {
          "output_type": "stream",
          "name": "stdout",
          "text": [
            "Si es mayor de edad\n"
          ]
        }
      ]
    },
    {
      "cell_type": "markdown",
      "source": [
        "## Con una función\n",
        "La asignación de valor puede usarse en una función o un método."
      ],
      "metadata": {
        "id": "Fk92ElTR1-1T"
      }
    },
    {
      "cell_type": "code",
      "source": [
        "# este es el código sin aplicar el operador ternario\n",
        "\n",
        "def mayor(edad):\n",
        "    if edad >= 18:\n",
        "        return 'Si'\n",
        "    return 'No'\n",
        "\n",
        "edad = 16\n",
        "\n",
        "print(f\"{mayor(edad)} es mayor de edad\")"
      ],
      "metadata": {
        "colab": {
          "base_uri": "https://localhost:8080/"
        },
        "id": "Ha-08Hsj2OCk",
        "outputId": "ea4956df-dd5a-4e32-faae-cfdee8b46d5d"
      },
      "execution_count": null,
      "outputs": [
        {
          "output_type": "stream",
          "name": "stdout",
          "text": [
            "No es mayor de edad\n"
          ]
        }
      ]
    },
    {
      "cell_type": "code",
      "source": [
        "# este es el código con el operador ternario\n",
        "\n",
        "def mayor(edad):\n",
        "    return 'Si' if edad >= 18 else 'No'\n",
        "\n",
        "edad = 16\n",
        "\n",
        "print(f\"{mayor(edad)} es mayor de edad\")"
      ],
      "metadata": {
        "colab": {
          "base_uri": "https://localhost:8080/"
        },
        "id": "oljlUHiC29W6",
        "outputId": "da425da6-a60a-4d09-d416-e3ae253cd432"
      },
      "execution_count": null,
      "outputs": [
        {
          "output_type": "stream",
          "name": "stdout",
          "text": [
            "No es mayor de edad\n"
          ]
        }
      ]
    },
    {
      "cell_type": "markdown",
      "source": [
        "La función ahora tiene un único ```return``` que devuelve el resultado de anlizar el operador ternario."
      ],
      "metadata": {
        "id": "IxN07YiA4JQX"
      }
    },
    {
      "cell_type": "markdown",
      "source": [
        "## Con una tupla de dos elementos\n",
        "* El primer elemento de la tupla es el de índice 0\n",
        "* El segundo elemento de la tupla es el de índice 1\n",
        "* Recordemos que 1 es True y 0 es False"
      ],
      "metadata": {
        "id": "uI2WSIbfkbNH"
      }
    },
    {
      "cell_type": "code",
      "source": [
        "a = 9\n",
        "b = 4\n",
        "\n",
        "mayor = (b, a)[a>b]\n",
        "\n",
        "print(f\"El mayor es {mayor}\")"
      ],
      "metadata": {
        "colab": {
          "base_uri": "https://localhost:8080/"
        },
        "id": "X_x2MmNakzhF",
        "outputId": "264344db-f97a-4f0b-fb90-619f5b749716"
      },
      "execution_count": 6,
      "outputs": [
        {
          "output_type": "stream",
          "name": "stdout",
          "text": [
            "El mayor es 9\n"
          ]
        }
      ]
    }
  ]
}